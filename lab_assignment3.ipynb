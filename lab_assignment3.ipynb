{
  "nbformat": 4,
  "nbformat_minor": 0,
  "metadata": {
    "colab": {
      "name": "lab assignment3.ipynb",
      "provenance": [],
      "include_colab_link": true
    },
    "kernelspec": {
      "name": "python3",
      "display_name": "Python 3"
    },
    "language_info": {
      "name": "python"
    },
    "accelerator": "GPU"
  },
  "cells": [
    {
      "cell_type": "markdown",
      "metadata": {
        "id": "view-in-github",
        "colab_type": "text"
      },
      "source": [
        "<a href=\"https://colab.research.google.com/github/Konic-NLP/5922-deep-learning/blob/main/lab_assignment3.ipynb\" target=\"_parent\"><img src=\"https://colab.research.google.com/assets/colab-badge.svg\" alt=\"Open In Colab\"/></a>"
      ]
    },
    {
      "cell_type": "code",
      "source": [
        "! nvidia-smi"
      ],
      "metadata": {
        "colab": {
          "base_uri": "https://localhost:8080/"
        },
        "id": "uv44wMqY_3ls",
        "outputId": "7490792e-39c8-469e-a4b2-6a741d87e711"
      },
      "execution_count": null,
      "outputs": [
        {
          "output_type": "stream",
          "name": "stdout",
          "text": [
            "NVIDIA-SMI has failed because it couldn't communicate with the NVIDIA driver. Make sure that the latest NVIDIA driver is installed and running.\n",
            "\n"
          ]
        }
      ]
    },
    {
      "cell_type": "code",
      "execution_count": null,
      "metadata": {
        "id": "m-MeEMRRAw-n",
        "colab": {
          "base_uri": "https://localhost:8080/"
        },
        "outputId": "3ba702a0-134f-4e25-e995-c9eda1dddc15"
      },
      "outputs": [
        {
          "output_type": "stream",
          "name": "stdout",
          "text": [
            "Downloading data from https://storage.googleapis.com/tensorflow/tf-keras-datasets/imdb.npz\n",
            "17465344/17464789 [==============================] - 0s 0us/step\n",
            "17473536/17464789 [==============================] - 0s 0us/step\n"
          ]
        }
      ],
      "source": [
        "# get the dataset IMDB review\n",
        "import tensorflow.keras as keras\n",
        "(x_train, y_train), (x_test, y_test) = keras.datasets.imdb.load_data(num_words= 10000)"
      ]
    },
    {
      "cell_type": "code",
      "source": [
        "import numpy as np\n",
        "y_train=np.array(y_train)\n",
        "y_test=np.array(y_test)"
      ],
      "metadata": {
        "id": "AbtqxuFnUZcj"
      },
      "execution_count": null,
      "outputs": []
    },
    {
      "cell_type": "code",
      "source": [
        "# view the distribution of the class - it's a balanced dataset\n",
        "from collections import Counter\n",
        "counter=Counter\n",
        "print(counter(y_train))\n",
        "print(counter(y_test))"
      ],
      "metadata": {
        "colab": {
          "base_uri": "https://localhost:8080/"
        },
        "id": "khnlB2PSPltz",
        "outputId": "fe550dab-e4d4-425e-de39-00854052c584"
      },
      "execution_count": null,
      "outputs": [
        {
          "output_type": "stream",
          "name": "stdout",
          "text": [
            "Counter({1: 12500, 0: 12500})\n",
            "Counter({0: 12500, 1: 12500})\n"
          ]
        }
      ]
    },
    {
      "cell_type": "code",
      "source": [
        "# view the shape, it's a dataset with 25000 samples for train and 25000 for test\n",
        "print(x_train.shape,x_test.shape,y_train.shape,y_test.shape)"
      ],
      "metadata": {
        "colab": {
          "base_uri": "https://localhost:8080/"
        },
        "id": "bA44yw0GB87S",
        "outputId": "42a4d003-ec19-4ef7-fcdd-f37a0c78c297"
      },
      "execution_count": null,
      "outputs": [
        {
          "output_type": "stream",
          "name": "stdout",
          "text": [
            "(25000,) (25000,) (25000,) (25000,)\n"
          ]
        }
      ]
    },
    {
      "cell_type": "code",
      "source": [
        "# sorted the testset based on the word length of the input\n",
        "Y=zip(x_test,y_test)\n",
        "Y=sorted(Y,key=lambda x:len(x[0]))\n",
        "x_test_sorted,y_test_sorted=zip(*Y)"
      ],
      "metadata": {
        "id": "-Lf385-pOeMp"
      },
      "execution_count": null,
      "outputs": []
    },
    {
      "cell_type": "code",
      "source": [
        "# get the size for each bucket\n",
        "print(int(25000/3))"
      ],
      "metadata": {
        "colab": {
          "base_uri": "https://localhost:8080/"
        },
        "id": "lK5ADeeQQH2y",
        "outputId": "ef7703fb-570f-48e8-983b-a3bea928b1bc"
      },
      "execution_count": null,
      "outputs": [
        {
          "output_type": "stream",
          "name": "stdout",
          "text": [
            "8333\n"
          ]
        }
      ]
    },
    {
      "cell_type": "code",
      "source": [
        "# split the sorted testset based on the size of the bucket \n",
        "x_test_short,y_test_short=x_test_sorted[:8333],y_test_sorted[:8333]\n",
        "x_test_medium,y_test_medium=x_test_sorted[8333:2*8333],y_test_sorted[8333:2*8333]\n",
        "x_test_long,y_test_long=x_test_sorted[2*8333:],y_test_sorted[2*8333:]"
      ],
      "metadata": {
        "id": "9uuuu1qJQOub"
      },
      "execution_count": null,
      "outputs": []
    },
    {
      "cell_type": "code",
      "source": [
        "# view the range for each group \n",
        "print(len(x_test_short[0]),len(x_test_short[-1]),len(x_test_medium[0]),len(x_test_medium[-1]),len(x_test_long[0]),len(x_test_long[-1]))"
      ],
      "metadata": {
        "colab": {
          "base_uri": "https://localhost:8080/"
        },
        "id": "tA78JCjjxpoh",
        "outputId": "18ff689c-26a3-4f42-d717-d82b26a51717"
      },
      "execution_count": null,
      "outputs": [
        {
          "output_type": "stream",
          "name": "stdout",
          "text": [
            "7 140 140 230 230 2315\n"
          ]
        }
      ]
    },
    {
      "cell_type": "code",
      "source": [
        "#vefified\n",
        "print(len(x_test_short),len(x_test_medium),len(x_test_long))\n",
        "print(x_test_short[:3])"
      ],
      "metadata": {
        "colab": {
          "base_uri": "https://localhost:8080/"
        },
        "id": "Vt8B1o0jQ3TL",
        "outputId": "2389c04b-c290-4bac-8e96-f1e39b770f1b"
      },
      "execution_count": null,
      "outputs": [
        {
          "output_type": "stream",
          "name": "stdout",
          "text": [
            "8333 8333 8334\n",
            "([1, 332, 4, 274, 859, 4, 20], [1, 4101, 114, 4101, 458, 338, 2956], [1, 53, 2570, 53, 1302, 76, 76, 53, 1193])\n"
          ]
        }
      ]
    },
    {
      "cell_type": "code",
      "source": [
        "# view the mean and median which is useful for decided the max length for padding\n",
        "import numpy as np\n",
        "print(sorted(list(map(len,x_train)),reverse=True)[:10],sorted(list(map(len,x_test)),reverse=True)[:10])\n",
        "print(np.mean(list(map(len,x_train))),sorted(list(map(len,x_train)),reverse=True)[len(x_train)//2])\n",
        "print(np.mean(list(map(len,x_test))),sorted(list(map(len,x_test)),reverse=True)[len(x_test)//2])"
      ],
      "metadata": {
        "colab": {
          "base_uri": "https://localhost:8080/"
        },
        "id": "gzjX221kNwnN",
        "outputId": "1e09c5cc-4533-470b-8595-00e21db40d20"
      },
      "execution_count": null,
      "outputs": [
        {
          "output_type": "stream",
          "name": "stdout",
          "text": [
            "[2494, 1854, 1851, 1733, 1629, 1571, 1546, 1530, 1409, 1403] [2315, 2119, 2110, 1700, 1375, 1162, 1158, 1095, 1093, 1084]\n",
            "238.71364 178\n",
            "230.8042 174\n"
          ]
        }
      ]
    },
    {
      "cell_type": "code",
      "source": [
        "x_train = keras.preprocessing.sequence.pad_sequences(x_train, maxlen=500)\n",
        "x_test = keras.preprocessing.sequence.pad_sequences(x_test, maxlen=500)\n"
      ],
      "metadata": {
        "id": "2gxS5dLzCERJ"
      },
      "execution_count": null,
      "outputs": []
    },
    {
      "cell_type": "markdown",
      "source": [
        "build the network "
      ],
      "metadata": {
        "id": "9IFpZDN3yxdi"
      }
    },
    {
      "cell_type": "code",
      "source": [
        "# the embedding layer\n",
        "from keras.layers import Embedding\n",
        "from keras.initializers import Constant\n",
        "\n",
        "embedding_layer = Embedding(10000, 300,\n",
        "                                                    trainable=True\n",
        ")"
      ],
      "metadata": {
        "id": "vymHRRIQQc3X"
      },
      "execution_count": null,
      "outputs": []
    },
    {
      "cell_type": "code",
      "execution_count": null,
      "metadata": {
        "id": "ANLsaoHrKSIo",
        "colab": {
          "base_uri": "https://localhost:8080/"
        },
        "outputId": "3120cadf-256c-4768-9323-d6ad69385ae5"
      },
      "outputs": [
        {
          "output_type": "stream",
          "name": "stdout",
          "text": [
            "Model: \"model_3\"\n",
            "_________________________________________________________________\n",
            " Layer (type)                Output Shape              Param #   \n",
            "=================================================================\n",
            " input_5 (InputLayer)        [(None, None)]            0         \n",
            "                                                                 \n",
            " embedding_1 (Embedding)     (None, None, 300)         3000000   \n",
            "                                                                 \n",
            " bidirectional_6 (Bidirectio  (None, None, 40)         51360     \n",
            " nal)                                                            \n",
            "                                                                 \n",
            " bidirectional_7 (Bidirectio  (None, 40)               9760      \n",
            " nal)                                                            \n",
            "                                                                 \n",
            " dense_3 (Dense)             (None, 1)                 41        \n",
            "                                                                 \n",
            "=================================================================\n",
            "Total params: 3,061,161\n",
            "Trainable params: 3,061,161\n",
            "Non-trainable params: 0\n",
            "_________________________________________________________________\n"
          ]
        }
      ],
      "source": [
        "## 1. Create a simple Bidirectional LSTM model\n",
        "\n",
        "from keras import layers, Input, Model,Sequential\n",
        "\n",
        "int_sequences_input = Input(shape=(None,), dtype=\"int64\")\n",
        "embedded_sequences = embedding_layer(int_sequences_input)\n",
        "x = layers.Bidirectional(layers.LSTM(20, return_sequences=True))(embedded_sequences)\n",
        "x = layers.Bidirectional(layers.LSTM(20))(x)\n",
        "preds = layers.Dense(1, activation=\"sigmoid\")(x)\n",
        "model = Model(int_sequences_input, preds)\n",
        "model.summary()"
      ]
    },
    {
      "cell_type": "code",
      "source": [
        "# just saved for best model \n",
        "from keras.callbacks import ModelCheckpoint\n",
        "filepath=\"weights-GRU_Glove_best.hdf5\"\n",
        "checkpoint = ModelCheckpoint(filepath, monitor='val_accuracy', verbose=1, save_best_only=True,\n",
        "mode='max')\n",
        "callbacks_list = [checkpoint]"
      ],
      "metadata": {
        "id": "scEXh_MbO1GP"
      },
      "execution_count": null,
      "outputs": []
    },
    {
      "cell_type": "code",
      "source": [
        "# define a function to compute the F,P,R with scikit-learn\n",
        "from sklearn.metrics import recall_score,precision_score,f1_score\n",
        "def p_r_score(y_true,y_predict):\n",
        "  y_test_short=np.array(y_true)\n",
        "  print(\"precision: %.3f \"%precision_score(y_true,[1 if x>0.5 else 0 for x in y_predict]))\n",
        "  print(\"recall: %.3f\"%recall_score(y_true,[1 if x>0.5 else 0 for x in y_predict]))\n",
        "  print(\"F1 :%.3f\"%f1_score(y_true,[1 if x>0.5 else 0 for x in y_predict]))"
      ],
      "metadata": {
        "id": "TKq5mzhpi9-e"
      },
      "execution_count": null,
      "outputs": []
    },
    {
      "cell_type": "code",
      "source": [
        "model.compile(loss='binary_crossentropy',\n",
        "              optimizer='adam',\n",
        "              metrics=['accuracy'])\n",
        "\n",
        "print('Train...')\n",
        "model.fit(x_train,y_train,batch_size=512,\n",
        "          epochs=10,\n",
        "          validation_data=(x_test,y_test),callbacks=callbacks_list)\n",
        "# score, acc = model.evaluate(x_test, y_test,\n",
        "#                             batch_size=512)\n",
        "probabilities=model.predict(x_test,batch_size=512)\n",
        "p_r_score(y_test,probabilities)"
      ],
      "metadata": {
        "colab": {
          "base_uri": "https://localhost:8080/"
        },
        "id": "qSL2eb8CR9Vo",
        "outputId": "3567c79e-d13b-43f6-fbaa-2f7340212a8d"
      },
      "execution_count": null,
      "outputs": [
        {
          "output_type": "stream",
          "name": "stdout",
          "text": [
            "Train...\n",
            "Epoch 1/10\n",
            "49/49 [==============================] - ETA: 0s - loss: 0.4885 - accuracy: 0.8156\n",
            "Epoch 1: val_accuracy improved from -inf to 0.81188, saving model to weights-newbest.hdf5\n",
            "49/49 [==============================] - 39s 645ms/step - loss: 0.4885 - accuracy: 0.8156 - val_loss: 0.4487 - val_accuracy: 0.8119\n",
            "Epoch 2/10\n",
            "49/49 [==============================] - ETA: 0s - loss: 0.3178 - accuracy: 0.8831\n",
            "Epoch 2: val_accuracy improved from 0.81188 to 0.82600, saving model to weights-newbest.hdf5\n",
            "49/49 [==============================] - 30s 606ms/step - loss: 0.3178 - accuracy: 0.8831 - val_loss: 0.4793 - val_accuracy: 0.8260\n",
            "Epoch 3/10\n",
            "49/49 [==============================] - ETA: 0s - loss: 0.2477 - accuracy: 0.9162\n",
            "Epoch 3: val_accuracy improved from 0.82600 to 0.84216, saving model to weights-newbest.hdf5\n",
            "49/49 [==============================] - 29s 603ms/step - loss: 0.2477 - accuracy: 0.9162 - val_loss: 0.4227 - val_accuracy: 0.8422\n",
            "Epoch 4/10\n",
            "49/49 [==============================] - ETA: 0s - loss: 0.1866 - accuracy: 0.9433\n",
            "Epoch 4: val_accuracy did not improve from 0.84216\n",
            "49/49 [==============================] - 30s 607ms/step - loss: 0.1866 - accuracy: 0.9433 - val_loss: 0.4303 - val_accuracy: 0.8421\n",
            "Epoch 5/10\n",
            "49/49 [==============================] - ETA: 0s - loss: 0.1632 - accuracy: 0.9490\n",
            "Epoch 5: val_accuracy did not improve from 0.84216\n",
            "49/49 [==============================] - 29s 599ms/step - loss: 0.1632 - accuracy: 0.9490 - val_loss: 0.4472 - val_accuracy: 0.8385\n",
            "Epoch 6/10\n",
            "49/49 [==============================] - ETA: 0s - loss: 0.1378 - accuracy: 0.9570\n",
            "Epoch 6: val_accuracy did not improve from 0.84216\n",
            "49/49 [==============================] - 30s 609ms/step - loss: 0.1378 - accuracy: 0.9570 - val_loss: 0.4441 - val_accuracy: 0.8420\n",
            "Epoch 7/10\n",
            "49/49 [==============================] - ETA: 0s - loss: 0.1021 - accuracy: 0.9722\n",
            "Epoch 7: val_accuracy improved from 0.84216 to 0.84500, saving model to weights-newbest.hdf5\n",
            "49/49 [==============================] - 30s 606ms/step - loss: 0.1021 - accuracy: 0.9722 - val_loss: 0.4729 - val_accuracy: 0.8450\n",
            "Epoch 8/10\n",
            "49/49 [==============================] - ETA: 0s - loss: 0.0908 - accuracy: 0.9749\n",
            "Epoch 8: val_accuracy did not improve from 0.84500\n",
            "49/49 [==============================] - 30s 606ms/step - loss: 0.0908 - accuracy: 0.9749 - val_loss: 0.5020 - val_accuracy: 0.8431\n",
            "Epoch 9/10\n",
            "49/49 [==============================] - ETA: 0s - loss: 0.0773 - accuracy: 0.9799\n",
            "Epoch 9: val_accuracy improved from 0.84500 to 0.85060, saving model to weights-newbest.hdf5\n",
            "49/49 [==============================] - 29s 604ms/step - loss: 0.0773 - accuracy: 0.9799 - val_loss: 0.5159 - val_accuracy: 0.8506\n",
            "Epoch 10/10\n",
            "49/49 [==============================] - ETA: 0s - loss: 0.0887 - accuracy: 0.9756\n",
            "Epoch 10: val_accuracy did not improve from 0.85060\n",
            "49/49 [==============================] - 30s 607ms/step - loss: 0.0887 - accuracy: 0.9756 - val_loss: 0.5231 - val_accuracy: 0.8430\n",
            "precision: 0.817 \n",
            "recall: 0.884\n",
            "F1 :0.849\n"
          ]
        }
      ]
    },
    {
      "cell_type": "code",
      "source": [
        "# calculate the result predicted on 'short' set\n",
        "short= keras.preprocessing.sequence.pad_sequences(x_test_short, maxlen=500)\n",
        "short=model.predict(short,batch_size=512)\n",
        "p_r_score(y_test_short,short)\n"
      ],
      "metadata": {
        "colab": {
          "base_uri": "https://localhost:8080/"
        },
        "id": "xUdP2_AD1QMf",
        "outputId": "6d637557-6a2a-4af2-f28f-d65ec54c748c"
      },
      "execution_count": null,
      "outputs": [
        {
          "output_type": "stream",
          "name": "stdout",
          "text": [
            "precision: 0.845 \n",
            "recall: 0.895\n",
            "F1 :0.869\n"
          ]
        }
      ]
    },
    {
      "cell_type": "code",
      "source": [
        "#calculate the medium length set\n",
        "medium= keras.preprocessing.sequence.pad_sequences(x_test_medium, maxlen=500)\n",
        "medium=model.predict(medium,batch_size=512)\n",
        "p_r_score(y_test_medium,medium)\n"
      ],
      "metadata": {
        "colab": {
          "base_uri": "https://localhost:8080/"
        },
        "id": "MCfNAHaD2Z0K",
        "outputId": "a4a85669-5947-443b-8da8-cb553577175d"
      },
      "execution_count": null,
      "outputs": [
        {
          "output_type": "stream",
          "name": "stdout",
          "text": [
            "precision: 0.809 \n",
            "recall: 0.890\n",
            "F1 :0.847\n"
          ]
        }
      ]
    },
    {
      "cell_type": "code",
      "source": [
        "# calculate the long lenth set\n",
        "long= keras.preprocessing.sequence.pad_sequences(x_test_long, maxlen=500)\n",
        "long=model.predict(long,batch_size=512)\n",
        "p_r_score(y_test_long,long)\n"
      ],
      "metadata": {
        "colab": {
          "base_uri": "https://localhost:8080/"
        },
        "id": "l0vINKoe4aui",
        "outputId": "3906044e-b0e4-41d9-c1fb-df41588b6e97"
      },
      "execution_count": null,
      "outputs": [
        {
          "output_type": "stream",
          "name": "stdout",
          "text": [
            "precision: 0.796 \n",
            "recall: 0.867\n",
            "F1 :0.830\n"
          ]
        }
      ]
    },
    {
      "cell_type": "markdown",
      "source": [
        "2.same model but with vanilla RNN"
      ],
      "metadata": {
        "id": "nubKcfUUwSlU"
      }
    },
    {
      "cell_type": "code",
      "source": [
        "from keras import layers, Input, Model,Sequential\n",
        "\n",
        "int_sequences_input = Input(shape=(None,), dtype=\"int64\")\n",
        "embedded_sequences = embedding_layer(int_sequences_input)\n",
        "x = layers.Bidirectional(layers.SimpleRNN(20, return_sequences=True))(embedded_sequences)\n",
        "x = layers.Bidirectional(layers.SimpleRNN(20))(x)\n",
        "preds = layers.Dense(1, activation=\"sigmoid\")(x)\n",
        "RNNmodel = Model(int_sequences_input, preds)\n",
        "RNNmodel.summary()"
      ],
      "metadata": {
        "colab": {
          "base_uri": "https://localhost:8080/"
        },
        "id": "Fm2umX-YcVmS",
        "outputId": "384e6545-7120-48e9-bf42-5606a902da50"
      },
      "execution_count": null,
      "outputs": [
        {
          "output_type": "stream",
          "name": "stdout",
          "text": [
            "Model: \"model\"\n",
            "_________________________________________________________________\n",
            " Layer (type)                Output Shape              Param #   \n",
            "=================================================================\n",
            " input_1 (InputLayer)        [(None, None)]            0         \n",
            "                                                                 \n",
            " embedding (Embedding)       (None, None, 300)         3000000   \n",
            "                                                                 \n",
            " bidirectional (Bidirectiona  (None, None, 40)         12840     \n",
            " l)                                                              \n",
            "                                                                 \n",
            " bidirectional_1 (Bidirectio  (None, 40)               2440      \n",
            " nal)                                                            \n",
            "                                                                 \n",
            " dense (Dense)               (None, 1)                 41        \n",
            "                                                                 \n",
            "=================================================================\n",
            "Total params: 3,015,321\n",
            "Trainable params: 3,015,321\n",
            "Non-trainable params: 0\n",
            "_________________________________________________________________\n"
          ]
        }
      ]
    },
    {
      "cell_type": "code",
      "source": [
        "RNNmodel.compile(loss='binary_crossentropy',\n",
        "              optimizer='adam',\n",
        "              metrics=['accuracy'])\n",
        "\n",
        "print('Train...')\n",
        "RNNmodel.fit(x_train,y_train,batch_size=512,\n",
        "          epochs=10,\n",
        "          validation_data=(x_test,y_test),callbacks=callbacks_list)\n",
        "result=RNNmodel.predict(x_test,batch_size=512,verbose=1)\n",
        "p_r_score(y_test,result)"
      ],
      "metadata": {
        "colab": {
          "base_uri": "https://localhost:8080/"
        },
        "outputId": "eb64530e-7670-47d2-fdda-ab013700b0cc",
        "id": "FnicMVhPc6Ua"
      },
      "execution_count": null,
      "outputs": [
        {
          "output_type": "stream",
          "name": "stdout",
          "text": [
            "Train...\n",
            "Epoch 1/10\n",
            "49/49 [==============================] - ETA: 0s - loss: 0.3498 - accuracy: 0.8752\n",
            "Epoch 1: val_accuracy improved from -inf to 0.83060, saving model to weights-RNNnewbest.hdf5\n",
            "49/49 [==============================] - 165s 3s/step - loss: 0.3498 - accuracy: 0.8752 - val_loss: 0.4471 - val_accuracy: 0.8306\n",
            "Epoch 2/10\n",
            "49/49 [==============================] - ETA: 0s - loss: 0.3262 - accuracy: 0.8762\n",
            "Epoch 2: val_accuracy did not improve from 0.83060\n",
            "49/49 [==============================] - 160s 3s/step - loss: 0.3262 - accuracy: 0.8762 - val_loss: 0.5099 - val_accuracy: 0.7834\n",
            "Epoch 3/10\n",
            "49/49 [==============================] - ETA: 0s - loss: 0.2790 - accuracy: 0.8980\n",
            "Epoch 3: val_accuracy did not improve from 0.83060\n",
            "49/49 [==============================] - 161s 3s/step - loss: 0.2790 - accuracy: 0.8980 - val_loss: 0.4804 - val_accuracy: 0.8130\n",
            "Epoch 4/10\n",
            "49/49 [==============================] - ETA: 0s - loss: 0.2552 - accuracy: 0.9020\n",
            "Epoch 4: val_accuracy did not improve from 0.83060\n",
            "49/49 [==============================] - 159s 3s/step - loss: 0.2552 - accuracy: 0.9020 - val_loss: 0.4904 - val_accuracy: 0.8103\n",
            "Epoch 5/10\n",
            "49/49 [==============================] - ETA: 0s - loss: 0.2323 - accuracy: 0.9124\n",
            "Epoch 5: val_accuracy did not improve from 0.83060\n",
            "49/49 [==============================] - 160s 3s/step - loss: 0.2323 - accuracy: 0.9124 - val_loss: 0.5008 - val_accuracy: 0.8046\n",
            "Epoch 6/10\n",
            "49/49 [==============================] - ETA: 0s - loss: 0.1776 - accuracy: 0.9374\n",
            "Epoch 6: val_accuracy did not improve from 0.83060\n",
            "49/49 [==============================] - 159s 3s/step - loss: 0.1776 - accuracy: 0.9374 - val_loss: 0.5063 - val_accuracy: 0.8114\n",
            "Epoch 7/10\n",
            "49/49 [==============================] - ETA: 0s - loss: 0.1537 - accuracy: 0.9452\n",
            "Epoch 7: val_accuracy did not improve from 0.83060\n",
            "49/49 [==============================] - 159s 3s/step - loss: 0.1537 - accuracy: 0.9452 - val_loss: 0.5189 - val_accuracy: 0.8110\n",
            "Epoch 8/10\n",
            "49/49 [==============================] - ETA: 0s - loss: 0.1294 - accuracy: 0.9554\n",
            "Epoch 8: val_accuracy did not improve from 0.83060\n",
            "49/49 [==============================] - 159s 3s/step - loss: 0.1294 - accuracy: 0.9554 - val_loss: 0.5408 - val_accuracy: 0.8081\n",
            "Epoch 9/10\n",
            "49/49 [==============================] - ETA: 0s - loss: 0.1153 - accuracy: 0.9618\n",
            "Epoch 9: val_accuracy did not improve from 0.83060\n",
            "49/49 [==============================] - 155s 3s/step - loss: 0.1153 - accuracy: 0.9618 - val_loss: 0.5790 - val_accuracy: 0.7958\n",
            "Epoch 10/10\n",
            "49/49 [==============================] - ETA: 0s - loss: 0.1562 - accuracy: 0.9398\n",
            "Epoch 10: val_accuracy did not improve from 0.83060\n",
            "49/49 [==============================] - 154s 3s/step - loss: 0.1562 - accuracy: 0.9398 - val_loss: 0.7618 - val_accuracy: 0.6894\n",
            "49/49 [==============================] - 11s 207ms/step\n",
            "precision: 0.633 \n",
            "recall: 0.899\n",
            "F1 :0.743\n"
          ]
        }
      ]
    },
    {
      "cell_type": "code",
      "source": [
        "x_test_short=keras.preprocessing.sequence.pad_sequences(x_test_short,maxlen=500)\n",
        "short=RNNmodel.predict(x_test_short,batch_size=512)\n",
        "p_r_score(y_test_short,short)"
      ],
      "metadata": {
        "colab": {
          "base_uri": "https://localhost:8080/"
        },
        "id": "4H2rVdYf_3TZ",
        "outputId": "7e776343-73d9-4094-fe47-debe06ae06df"
      },
      "execution_count": null,
      "outputs": [
        {
          "output_type": "stream",
          "name": "stdout",
          "text": [
            "precision: 0.668 \n",
            "recall: 0.904\n",
            "F1 :0.768\n"
          ]
        }
      ]
    },
    {
      "cell_type": "code",
      "source": [
        "x_test_medium=keras.preprocessing.sequence.pad_sequences(x_test_medium,maxlen=500)\n",
        "medium=RNNmodel.predict(x_test_medium,batch_size=512)\n",
        "p_r_score(y_test_medium,medium)"
      ],
      "metadata": {
        "colab": {
          "base_uri": "https://localhost:8080/"
        },
        "id": "70A2sniPAGCQ",
        "outputId": "39a18f63-39a9-4540-a14e-6ea8844d1956"
      },
      "execution_count": null,
      "outputs": [
        {
          "output_type": "stream",
          "name": "stdout",
          "text": [
            "precision: 0.624 \n",
            "recall: 0.897\n",
            "F1 :0.736\n"
          ]
        }
      ]
    },
    {
      "cell_type": "code",
      "source": [
        "x_test_long=keras.preprocessing.sequence.pad_sequences(x_test_long,maxlen=500)\n",
        "long=RNNmodel.predict(x_test_long,batch_size=512)\n",
        "p_r_score(y_test_long,long)"
      ],
      "metadata": {
        "colab": {
          "base_uri": "https://localhost:8080/"
        },
        "id": "a7s4xaSnAR3r",
        "outputId": "9d1d8635-0cac-4110-9b0b-885d4919e66f"
      },
      "execution_count": null,
      "outputs": [
        {
          "output_type": "stream",
          "name": "stdout",
          "text": [
            "precision: 0.609 \n",
            "recall: 0.897\n",
            "F1 :0.726\n"
          ]
        }
      ]
    },
    {
      "cell_type": "code",
      "source": [
        "# 3. the model with GRU\n",
        "int_sequences_input = Input(shape=(None,), dtype=\"int64\")\n",
        "embedded_sequences = embedding_layer(int_sequences_input)\n",
        "x = layers.Bidirectional(layers.GRU(20, return_sequences=True))(embedded_sequences)\n",
        "x = layers.Bidirectional(layers.GRU(20))(x)\n",
        "preds = layers.Dense(1, activation=\"sigmoid\")(x)\n",
        "GRUmodel = Model(int_sequences_input, preds)\n",
        "GRUmodel.summary()"
      ],
      "metadata": {
        "colab": {
          "base_uri": "https://localhost:8080/"
        },
        "id": "jO9gqRAggQKL",
        "outputId": "faa74b25-f7d7-45c8-9962-42746e6e6f4e"
      },
      "execution_count": null,
      "outputs": [
        {
          "output_type": "stream",
          "name": "stdout",
          "text": [
            "Model: \"model_5\"\n",
            "_________________________________________________________________\n",
            " Layer (type)                Output Shape              Param #   \n",
            "=================================================================\n",
            " input_7 (InputLayer)        [(None, None)]            0         \n",
            "                                                                 \n",
            " embedding_1 (Embedding)     (None, None, 300)         3000000   \n",
            "                                                                 \n",
            " bidirectional_10 (Bidirecti  (None, None, 40)         38640     \n",
            " onal)                                                           \n",
            "                                                                 \n",
            " bidirectional_11 (Bidirecti  (None, 40)               7440      \n",
            " onal)                                                           \n",
            "                                                                 \n",
            " dense_5 (Dense)             (None, 1)                 41        \n",
            "                                                                 \n",
            "=================================================================\n",
            "Total params: 3,046,121\n",
            "Trainable params: 3,046,121\n",
            "Non-trainable params: 0\n",
            "_________________________________________________________________\n"
          ]
        }
      ]
    },
    {
      "cell_type": "code",
      "source": [
        "GRUmodel.compile(loss='binary_crossentropy',\n",
        "              optimizer='adam',\n",
        "              metrics=['accuracy'])\n",
        "\n",
        "print('Train...')\n",
        "GRUmodel.fit(x_train,y_train,batch_size=512,\n",
        "          epochs=10,\n",
        "          validation_data=(x_test,y_test),callbacks=callbacks_list)\n",
        "result=GRUmodel.predict(x_test,512)\n",
        "p_r_score(y_test,result)"
      ],
      "metadata": {
        "colab": {
          "base_uri": "https://localhost:8080/"
        },
        "id": "gWwHG0NHgylB",
        "outputId": "435d1554-0173-4549-a4a4-4d006313447b"
      },
      "execution_count": null,
      "outputs": [
        {
          "output_type": "stream",
          "name": "stdout",
          "text": [
            "Train...\n",
            "Epoch 1/10\n",
            "49/49 [==============================] - ETA: 0s - loss: 0.5328 - accuracy: 0.7375\n",
            "Epoch 1: val_accuracy improved from -inf to 0.75360, saving model to weights-GRUnewbest.hdf5\n",
            "49/49 [==============================] - 36s 594ms/step - loss: 0.5328 - accuracy: 0.7375 - val_loss: 0.5234 - val_accuracy: 0.7536\n",
            "Epoch 2/10\n",
            "49/49 [==============================] - ETA: 0s - loss: 0.2381 - accuracy: 0.9052\n",
            "Epoch 2: val_accuracy improved from 0.75360 to 0.85240, saving model to weights-GRUnewbest.hdf5\n",
            "49/49 [==============================] - 27s 562ms/step - loss: 0.2381 - accuracy: 0.9052 - val_loss: 0.4193 - val_accuracy: 0.8524\n",
            "Epoch 3/10\n",
            "49/49 [==============================] - ETA: 0s - loss: 0.0950 - accuracy: 0.9713\n",
            "Epoch 3: val_accuracy did not improve from 0.85240\n",
            "49/49 [==============================] - 27s 560ms/step - loss: 0.0950 - accuracy: 0.9713 - val_loss: 0.5498 - val_accuracy: 0.8340\n",
            "Epoch 4/10\n",
            "49/49 [==============================] - ETA: 0s - loss: 0.0664 - accuracy: 0.9824\n",
            "Epoch 4: val_accuracy did not improve from 0.85240\n",
            "49/49 [==============================] - 27s 557ms/step - loss: 0.0664 - accuracy: 0.9824 - val_loss: 0.5403 - val_accuracy: 0.8475\n",
            "Epoch 5/10\n",
            "49/49 [==============================] - ETA: 0s - loss: 0.0416 - accuracy: 0.9910\n",
            "Epoch 5: val_accuracy did not improve from 0.85240\n",
            "49/49 [==============================] - 27s 559ms/step - loss: 0.0416 - accuracy: 0.9910 - val_loss: 0.5963 - val_accuracy: 0.8486\n",
            "Epoch 6/10\n",
            "49/49 [==============================] - ETA: 0s - loss: 0.0411 - accuracy: 0.9903\n",
            "Epoch 6: val_accuracy did not improve from 0.85240\n",
            "49/49 [==============================] - 27s 558ms/step - loss: 0.0411 - accuracy: 0.9903 - val_loss: 0.6193 - val_accuracy: 0.8460\n",
            "Epoch 7/10\n",
            "49/49 [==============================] - ETA: 0s - loss: 0.0350 - accuracy: 0.9926\n",
            "Epoch 7: val_accuracy did not improve from 0.85240\n",
            "49/49 [==============================] - 27s 558ms/step - loss: 0.0350 - accuracy: 0.9926 - val_loss: 0.6432 - val_accuracy: 0.8395\n",
            "Epoch 8/10\n",
            "49/49 [==============================] - ETA: 0s - loss: 0.0290 - accuracy: 0.9943\n",
            "Epoch 8: val_accuracy did not improve from 0.85240\n",
            "49/49 [==============================] - 27s 557ms/step - loss: 0.0290 - accuracy: 0.9943 - val_loss: 0.6728 - val_accuracy: 0.8414\n",
            "Epoch 9/10\n",
            "49/49 [==============================] - ETA: 0s - loss: 0.0266 - accuracy: 0.9950\n",
            "Epoch 9: val_accuracy did not improve from 0.85240\n",
            "49/49 [==============================] - 27s 560ms/step - loss: 0.0266 - accuracy: 0.9950 - val_loss: 0.6913 - val_accuracy: 0.8444\n",
            "Epoch 10/10\n",
            "49/49 [==============================] - ETA: 0s - loss: 0.0232 - accuracy: 0.9962\n",
            "Epoch 10: val_accuracy did not improve from 0.85240\n",
            "49/49 [==============================] - 27s 558ms/step - loss: 0.0232 - accuracy: 0.9962 - val_loss: 0.7124 - val_accuracy: 0.8455\n",
            "precision: 0.863 \n",
            "recall: 0.821\n",
            "F1 :0.842\n"
          ]
        }
      ]
    },
    {
      "cell_type": "code",
      "source": [
        "short=GRUmodel.predict(x_test_short,batch_size=512)\n",
        "p_r_score(y_test_short,short)\n"
      ],
      "metadata": {
        "colab": {
          "base_uri": "https://localhost:8080/"
        },
        "id": "UXMvYB-BChpt",
        "outputId": "4027a872-f11c-46d3-8896-7372f7d95be1"
      },
      "execution_count": null,
      "outputs": [
        {
          "output_type": "stream",
          "name": "stdout",
          "text": [
            "precision: 0.880 \n",
            "recall: 0.847\n",
            "F1 :0.863\n"
          ]
        }
      ]
    },
    {
      "cell_type": "code",
      "source": [
        "medium=GRUmodel.predict(x_test_medium,512)\n",
        "p_r_score(y_test_medium,medium)"
      ],
      "metadata": {
        "colab": {
          "base_uri": "https://localhost:8080/"
        },
        "id": "VbZorl7sCuvb",
        "outputId": "774905e8-4c45-4c0b-a8fd-ba7da55b172c"
      },
      "execution_count": null,
      "outputs": [
        {
          "output_type": "stream",
          "name": "stdout",
          "text": [
            "precision: 0.856 \n",
            "recall: 0.825\n",
            "F1 :0.840\n"
          ]
        }
      ]
    },
    {
      "cell_type": "code",
      "source": [
        "long=GRUmodel.predict(x_test_long,512)\n",
        "p_r_score(y_test_long,long)"
      ],
      "metadata": {
        "colab": {
          "base_uri": "https://localhost:8080/"
        },
        "id": "GAoaxAdwEpsL",
        "outputId": "1a444885-8d69-48ad-8205-3302b34f6c4f"
      },
      "execution_count": null,
      "outputs": [
        {
          "output_type": "stream",
          "name": "stdout",
          "text": [
            "precision: 0.853 \n",
            "recall: 0.791\n",
            "F1 :0.821\n"
          ]
        }
      ]
    },
    {
      "cell_type": "code",
      "source": [
        "# download the glove embedding \n",
        "!wget http://nlp.stanford.edu/data/glove.6B.zip\n",
        "!unzip -q glove.6B.zip"
      ],
      "metadata": {
        "colab": {
          "base_uri": "https://localhost:8080/"
        },
        "id": "DqGuKhXQpzi8",
        "outputId": "4c1886a8-c3c9-42f5-fc01-472dd308e968"
      },
      "execution_count": null,
      "outputs": [
        {
          "output_type": "stream",
          "name": "stdout",
          "text": [
            "--2022-03-06 19:25:59--  http://nlp.stanford.edu/data/glove.6B.zip\n",
            "Resolving nlp.stanford.edu (nlp.stanford.edu)... 171.64.67.140\n",
            "Connecting to nlp.stanford.edu (nlp.stanford.edu)|171.64.67.140|:80... connected.\n",
            "HTTP request sent, awaiting response... 302 Found\n",
            "Location: https://nlp.stanford.edu/data/glove.6B.zip [following]\n",
            "--2022-03-06 19:25:59--  https://nlp.stanford.edu/data/glove.6B.zip\n",
            "Connecting to nlp.stanford.edu (nlp.stanford.edu)|171.64.67.140|:443... connected.\n",
            "HTTP request sent, awaiting response... 301 Moved Permanently\n",
            "Location: http://downloads.cs.stanford.edu/nlp/data/glove.6B.zip [following]\n",
            "--2022-03-06 19:25:59--  http://downloads.cs.stanford.edu/nlp/data/glove.6B.zip\n",
            "Resolving downloads.cs.stanford.edu (downloads.cs.stanford.edu)... 171.64.64.22\n",
            "Connecting to downloads.cs.stanford.edu (downloads.cs.stanford.edu)|171.64.64.22|:80... connected.\n",
            "HTTP request sent, awaiting response... 200 OK\n",
            "Length: 862182613 (822M) [application/zip]\n",
            "Saving to: ‘glove.6B.zip’\n",
            "\n",
            "glove.6B.zip        100%[===================>] 822.24M  5.10MB/s    in 2m 40s  \n",
            "\n",
            "2022-03-06 19:28:39 (5.14 MB/s) - ‘glove.6B.zip’ saved [862182613/862182613]\n",
            "\n"
          ]
        }
      ]
    },
    {
      "cell_type": "code",
      "source": [
        "#define a function to draw the confusion matrix with matplotlib\n",
        "from sklearn.metrics import confusion_matrix\n",
        "import numpy as np\n",
        "import seaborn as sns\n",
        "import matplotlib.pyplot as plt\n",
        "def show_confusion_matrix(y_true,y_pred,title):\n",
        "  y_pred=[1 if x>=0.5 else 0 for x  in y_pred ]\n",
        "  mat=confusion_matrix(y_true,y_pred)\n",
        "  print(mat)\n",
        "  sns.heatmap(mat.T, square = True, annot = True, fmt = 'd', cbar = False)\n",
        "  plt.title(title)\n",
        "  plt.xlabel(\"True Label\")\n",
        "  plt.ylabel(\"Predicted Label\")"
      ],
      "metadata": {
        "id": "qLUU0o9tSKtj"
      },
      "execution_count": null,
      "outputs": []
    },
    {
      "cell_type": "markdown",
      "source": [
        "read the glove emebeddings "
      ],
      "metadata": {
        "id": "HJ1XHgNnS8Cp"
      }
    },
    {
      "cell_type": "code",
      "source": [
        "import os\n",
        "path_to_glove_file = \"glove.6B.300d.txt\"\n",
        "\n",
        "embeddings_index = {}\n",
        "with open(path_to_glove_file) as f:\n",
        "    for line in f:\n",
        "        word, coefs = line.split(maxsplit=1)\n",
        "        coefs = np.fromstring(coefs, \"f\", sep=\" \")\n",
        "        embeddings_index[word] = coefs\n",
        "\n",
        "print(\"Found %s word vectors.\" % len(embeddings_index))"
      ],
      "metadata": {
        "colab": {
          "base_uri": "https://localhost:8080/"
        },
        "id": "m5s2zLWLqhpL",
        "outputId": "dd36b5d6-16c8-41bc-f73c-fb041dd3e897"
      },
      "execution_count": null,
      "outputs": [
        {
          "output_type": "stream",
          "name": "stdout",
          "text": [
            "Found 400000 word vectors.\n"
          ]
        }
      ]
    },
    {
      "cell_type": "code",
      "source": [
        "# read the glove emebddings into a dict <word,embeddings>\n",
        "word_index=keras.datasets.imdb.get_word_index()\n",
        "num=0\n",
        "voc=dict()\n",
        "for k,v in  sorted(word_index.items(),key=lambda x :x[1])[:10000]:\n",
        "  voc[k]=v\n",
        "## Create \"embedding_matrix\" to index our vocabulary using the GloVe model \n",
        "num_tokens = len(voc) \n",
        "embedding_dim = 300 ##  dimensions\n",
        "hits = 0 ## number of words that were found in the pretrained model\n",
        "misses = 0 ## number of words that were missing in the pretrained model\n",
        "\n",
        "# Prepare embedding matrix for our word list\n",
        "embedding_matrix = np.zeros((num_tokens, embedding_dim))\n",
        "for word, i in voc.items():\n",
        "    embedding_vector = embeddings_index.get(word.lower())\n",
        "    if embedding_vector is not None:\n",
        "        # Words not found in embedding index will be all-zeros.\n",
        "        # This includes the representation for \"padding\" and \"OOV\"\n",
        "        embedding_matrix[i-1] = embedding_vector\n",
        "        hits += 1\n",
        "    else:\n",
        "        misses += 1\n",
        "print(\"Converted %d words (%d misses)\" % (hits, misses))\n",
        "\n",
        "  # if num==10:\n",
        "  #   break"
      ],
      "metadata": {
        "colab": {
          "base_uri": "https://localhost:8080/"
        },
        "id": "zM9wOnnDrZn4",
        "outputId": "48790b6f-d9c2-48e3-b978-07999a1bb12e"
      },
      "execution_count": null,
      "outputs": [
        {
          "output_type": "stream",
          "name": "stdout",
          "text": [
            "Downloading data from https://storage.googleapis.com/tensorflow/tf-keras-datasets/imdb_word_index.json\n",
            "1646592/1641221 [==============================] - 0s 0us/step\n",
            "1654784/1641221 [==============================] - 0s 0us/step\n",
            "Converted 9797 words (203 misses)\n"
          ]
        }
      ]
    },
    {
      "cell_type": "code",
      "source": [
        "# 1.fine-tuning the glove\n",
        "from keras.layers.embeddings import Embedding\n",
        "from keras.initializers import Constant\n",
        "embedding_layer = Embedding(num_tokens, embedding_dim,\n",
        "                            embeddings_initializer= Constant(embedding_matrix), \n",
        "                            trainable=True,\n",
        ")"
      ],
      "metadata": {
        "id": "EFCDoAknt6Kf"
      },
      "execution_count": null,
      "outputs": []
    },
    {
      "cell_type": "code",
      "source": [
        "# train with bidirectional GRU\n",
        "int_sequences_input = Input(shape=(None,), dtype=\"int64\")\n",
        "embedded_sequences = embedding_layer(int_sequences_input)\n",
        "x = layers.Bidirectional(layers.GRU(20, return_sequences=True))(embedded_sequences)\n",
        "x = layers.Bidirectional(layers.GRU(20))(x)\n",
        "preds = layers.Dense(1, activation=\"sigmoid\")(x)\n",
        "GRUmodel = Model(int_sequences_input, preds)\n",
        "GRUmodel.summary()"
      ],
      "metadata": {
        "colab": {
          "base_uri": "https://localhost:8080/"
        },
        "id": "UAp8Adz_uELA",
        "outputId": "9950c8c8-2cd5-462c-fbbd-52c5f9bd729b"
      },
      "execution_count": null,
      "outputs": [
        {
          "output_type": "stream",
          "name": "stdout",
          "text": [
            "Model: \"model_3\"\n",
            "_________________________________________________________________\n",
            " Layer (type)                Output Shape              Param #   \n",
            "=================================================================\n",
            " input_4 (InputLayer)        [(None, None)]            0         \n",
            "                                                                 \n",
            " embedding_2 (Embedding)     (None, None, 300)         3000000   \n",
            "                                                                 \n",
            " bidirectional_6 (Bidirectio  (None, None, 40)         38640     \n",
            " nal)                                                            \n",
            "                                                                 \n",
            " bidirectional_7 (Bidirectio  (None, 40)               7440      \n",
            " nal)                                                            \n",
            "                                                                 \n",
            " dense_3 (Dense)             (None, 1)                 41        \n",
            "                                                                 \n",
            "=================================================================\n",
            "Total params: 3,046,121\n",
            "Trainable params: 3,046,121\n",
            "Non-trainable params: 0\n",
            "_________________________________________________________________\n"
          ]
        }
      ]
    },
    {
      "cell_type": "code",
      "source": [
        "from keras.callbacks import ModelCheckpoint\n",
        "GRUmodel.compile(loss='binary_crossentropy',\n",
        "              optimizer='adam',\n",
        "              metrics=['accuracy'])\n",
        "\n",
        "print('Train...')\n",
        "filepath=\"weights-best_glove.hdf5\"\n",
        "checkpoint = ModelCheckpoint(filepath, monitor='val_accuracy', verbose=1, save_best_only=True,\n",
        "mode='max')\n",
        "callbacks_list = [checkpoint]\n",
        "GRUmodel.fit(x_train,y_train,batch_size=512,\n",
        "          epochs=10,\n",
        "          validation_data=(x_test,y_test),callbacks=callbacks_list)\n",
        "predict=GRUmodel.predict(x_test,512)\n",
        "p_r_score(y_test,predict)\n",
        "show_confusion_matrix(y_test,predict,\"confusion matrix with fine-tuning Glove\")"
      ],
      "metadata": {
        "colab": {
          "base_uri": "https://localhost:8080/",
          "height": 1000
        },
        "id": "ri-D_PACuK8z",
        "outputId": "909b8e5f-6daa-44bf-8d76-86327956ea4c"
      },
      "execution_count": null,
      "outputs": [
        {
          "output_type": "stream",
          "name": "stdout",
          "text": [
            "Train...\n",
            "Epoch 1/10\n",
            "49/49 [==============================] - ETA: 0s - loss: 0.6757 - accuracy: 0.5642\n",
            "Epoch 1: val_accuracy improved from -inf to 0.64424, saving model to weights-best_glove.hdf5\n",
            "49/49 [==============================] - 49s 878ms/step - loss: 0.6757 - accuracy: 0.5642 - val_loss: 0.6359 - val_accuracy: 0.6442\n",
            "Epoch 2/10\n",
            "49/49 [==============================] - ETA: 0s - loss: 0.5139 - accuracy: 0.7457\n",
            "Epoch 2: val_accuracy improved from 0.64424 to 0.81560, saving model to weights-best_glove.hdf5\n",
            "49/49 [==============================] - 41s 850ms/step - loss: 0.5139 - accuracy: 0.7457 - val_loss: 0.4168 - val_accuracy: 0.8156\n",
            "Epoch 3/10\n",
            "49/49 [==============================] - ETA: 0s - loss: 0.3165 - accuracy: 0.8690\n",
            "Epoch 3: val_accuracy improved from 0.81560 to 0.85300, saving model to weights-best_glove.hdf5\n",
            "49/49 [==============================] - 41s 852ms/step - loss: 0.3165 - accuracy: 0.8690 - val_loss: 0.3541 - val_accuracy: 0.8530\n",
            "Epoch 4/10\n",
            "49/49 [==============================] - ETA: 0s - loss: 0.2185 - accuracy: 0.9198\n",
            "Epoch 4: val_accuracy did not improve from 0.85300\n",
            "49/49 [==============================] - 38s 779ms/step - loss: 0.2185 - accuracy: 0.9198 - val_loss: 0.3603 - val_accuracy: 0.8523\n",
            "Epoch 5/10\n",
            "49/49 [==============================] - ETA: 0s - loss: 0.1511 - accuracy: 0.9516\n",
            "Epoch 5: val_accuracy improved from 0.85300 to 0.86288, saving model to weights-best_glove.hdf5\n",
            "49/49 [==============================] - 41s 848ms/step - loss: 0.1511 - accuracy: 0.9516 - val_loss: 0.3677 - val_accuracy: 0.8629\n",
            "Epoch 6/10\n",
            "49/49 [==============================] - ETA: 0s - loss: 0.1080 - accuracy: 0.9681\n",
            "Epoch 6: val_accuracy did not improve from 0.86288\n",
            "49/49 [==============================] - 38s 783ms/step - loss: 0.1080 - accuracy: 0.9681 - val_loss: 0.4197 - val_accuracy: 0.8600\n",
            "Epoch 7/10\n",
            "49/49 [==============================] - ETA: 0s - loss: 0.0755 - accuracy: 0.9803\n",
            "Epoch 7: val_accuracy did not improve from 0.86288\n",
            "49/49 [==============================] - 38s 783ms/step - loss: 0.0755 - accuracy: 0.9803 - val_loss: 0.4914 - val_accuracy: 0.8552\n",
            "Epoch 8/10\n",
            "49/49 [==============================] - ETA: 0s - loss: 0.0625 - accuracy: 0.9841\n",
            "Epoch 8: val_accuracy did not improve from 0.86288\n",
            "49/49 [==============================] - 38s 787ms/step - loss: 0.0625 - accuracy: 0.9841 - val_loss: 0.5293 - val_accuracy: 0.8494\n",
            "Epoch 9/10\n",
            "49/49 [==============================] - ETA: 0s - loss: 0.0501 - accuracy: 0.9882\n",
            "Epoch 9: val_accuracy did not improve from 0.86288\n",
            "49/49 [==============================] - 38s 781ms/step - loss: 0.0501 - accuracy: 0.9882 - val_loss: 0.5550 - val_accuracy: 0.8520\n",
            "Epoch 10/10\n",
            "49/49 [==============================] - ETA: 0s - loss: 0.0382 - accuracy: 0.9921\n",
            "Epoch 10: val_accuracy did not improve from 0.86288\n",
            "49/49 [==============================] - 38s 776ms/step - loss: 0.0382 - accuracy: 0.9921 - val_loss: 0.6570 - val_accuracy: 0.8355\n",
            "precision: 0.891 \n",
            "recall: 0.764\n",
            "F1 :0.823\n",
            "[[11332  1168]\n",
            " [ 2944  9556]]\n"
          ]
        },
        {
          "output_type": "display_data",
          "data": {
            "image/png": "[encoded data removed]",
            "text/plain": [
              "<Figure size 432x288 with 1 Axes>"
            ]
          },
          "metadata": {
            "needs_background": "light"
          }
        }
      ]
    },
    {
      "cell_type": "code",
      "source": [
        "from keras.callbacks import ModelCheckpoint\n",
        "filepath=\"weights-GRU_Glove_feeeze_best.hdf5\"\n",
        "checkpoint = ModelCheckpoint(filepath, monitor='val_accuracy', verbose=1, save_best_only=True,\n",
        "mode='max')\n",
        "callbacks_list = [checkpoint]"
      ],
      "metadata": {
        "id": "b-rGab20ulb3"
      },
      "execution_count": null,
      "outputs": []
    },
    {
      "cell_type": "code",
      "source": [
        "#2. another model with frozen glove\n",
        "from keras.layers.embeddings import Embedding\n",
        "from keras.initializers import Constant\n",
        "embedding_layer = Embedding(num_tokens, embedding_dim,\n",
        "                            embeddings_initializer= Constant(embedding_matrix), \n",
        "                            trainable=False\n",
        ")"
      ],
      "metadata": {
        "id": "WtmAtYNbZLBH"
      },
      "execution_count": null,
      "outputs": []
    },
    {
      "cell_type": "code",
      "source": [
        "int_sequences_input = Input(shape=(None,), dtype=\"int64\")\n",
        "embedded_sequences = embedding_layer(int_sequences_input)\n",
        "x = layers.Bidirectional(layers.GRU(20, return_sequences=True))(embedded_sequences)\n",
        "x = layers.Bidirectional(layers.GRU(20))(x)\n",
        "preds = layers.Dense(1, activation=\"sigmoid\")(x)\n",
        "GRUmodel = Model(int_sequences_input, preds)\n",
        "GRUmodel.summary()"
      ],
      "metadata": {
        "colab": {
          "base_uri": "https://localhost:8080/"
        },
        "id": "0hE-Fi6gZNfq",
        "outputId": "aec79a06-238a-412d-b35d-31d60ac75626"
      },
      "execution_count": null,
      "outputs": [
        {
          "output_type": "stream",
          "name": "stdout",
          "text": [
            "Model: \"model_6\"\n",
            "_________________________________________________________________\n",
            " Layer (type)                Output Shape              Param #   \n",
            "=================================================================\n",
            " input_7 (InputLayer)        [(None, None)]            0         \n",
            "                                                                 \n",
            " embedding_5 (Embedding)     (None, None, 300)         3000000   \n",
            "                                                                 \n",
            " bidirectional_12 (Bidirecti  (None, None, 40)         38640     \n",
            " onal)                                                           \n",
            "                                                                 \n",
            " bidirectional_13 (Bidirecti  (None, 40)               7440      \n",
            " onal)                                                           \n",
            "                                                                 \n",
            " dense_6 (Dense)             (None, 1)                 41        \n",
            "                                                                 \n",
            "=================================================================\n",
            "Total params: 3,046,121\n",
            "Trainable params: 46,121\n",
            "Non-trainable params: 3,000,000\n",
            "_________________________________________________________________\n"
          ]
        }
      ]
    },
    {
      "cell_type": "code",
      "source": [
        "GRUmodel.compile(loss='binary_crossentropy',\n",
        "              optimizer='adam',\n",
        "              metrics=['accuracy'])\n",
        "\n",
        "print('Train...')\n",
        "filepath=\"weights-best_glove_freeze.hdf5\"\n",
        "checkpoint = ModelCheckpoint(filepath, monitor='val_accuracy', verbose=1, save_best_only=True,\n",
        "mode='max')\n",
        "callbacks_list = [checkpoint]\n",
        "GRUmodel.fit(x_train,y_train,batch_size=512,\n",
        "          epochs=10,\n",
        "          validation_data=(x_test,y_test),callbacks=callbacks_list)\n",
        "predict=GRUmodel.predict(x_test,512)\n",
        "p_r_score(y_test,predict)\n",
        "show_confusion_matrix(y_test,predict,\"Bi-GRU with freeze Glove\")"
      ],
      "metadata": {
        "colab": {
          "base_uri": "https://localhost:8080/",
          "height": 1000
        },
        "id": "qgr-qC11ZYAj",
        "outputId": "b8acee39-2565-4ec5-ebe0-d6019a491671"
      },
      "execution_count": null,
      "outputs": [
        {
          "output_type": "stream",
          "name": "stdout",
          "text": [
            "Train...\n",
            "Epoch 1/10\n",
            "49/49 [==============================] - ETA: 0s - loss: 0.6333 - accuracy: 0.6350\n",
            "Epoch 1: val_accuracy improved from -inf to 0.64908, saving model to weights-best_glove_freeze.hdf5\n",
            "49/49 [==============================] - 46s 809ms/step - loss: 0.6333 - accuracy: 0.6350 - val_loss: 0.6194 - val_accuracy: 0.6491\n",
            "Epoch 2/10\n",
            "49/49 [==============================] - ETA: 0s - loss: 0.5955 - accuracy: 0.6749\n",
            "Epoch 2: val_accuracy improved from 0.64908 to 0.69552, saving model to weights-best_glove_freeze.hdf5\n",
            "49/49 [==============================] - 38s 777ms/step - loss: 0.5955 - accuracy: 0.6749 - val_loss: 0.5805 - val_accuracy: 0.6955\n",
            "Epoch 3/10\n",
            "49/49 [==============================] - ETA: 0s - loss: 0.5470 - accuracy: 0.7231\n",
            "Epoch 3: val_accuracy improved from 0.69552 to 0.72904, saving model to weights-best_glove_freeze.hdf5\n",
            "49/49 [==============================] - 38s 782ms/step - loss: 0.5470 - accuracy: 0.7231 - val_loss: 0.5383 - val_accuracy: 0.7290\n",
            "Epoch 4/10\n",
            "49/49 [==============================] - ETA: 0s - loss: 0.5193 - accuracy: 0.7422\n",
            "Epoch 4: val_accuracy improved from 0.72904 to 0.74844, saving model to weights-best_glove_freeze.hdf5\n",
            "49/49 [==============================] - 38s 778ms/step - loss: 0.5193 - accuracy: 0.7422 - val_loss: 0.5182 - val_accuracy: 0.7484\n",
            "Epoch 5/10\n",
            "49/49 [==============================] - ETA: 0s - loss: 0.4756 - accuracy: 0.7740\n",
            "Epoch 5: val_accuracy improved from 0.74844 to 0.77748, saving model to weights-best_glove_freeze.hdf5\n",
            "49/49 [==============================] - 38s 779ms/step - loss: 0.4756 - accuracy: 0.7740 - val_loss: 0.4726 - val_accuracy: 0.7775\n",
            "Epoch 6/10\n",
            "49/49 [==============================] - ETA: 0s - loss: 0.4466 - accuracy: 0.7916\n",
            "Epoch 6: val_accuracy improved from 0.77748 to 0.80224, saving model to weights-best_glove_freeze.hdf5\n",
            "49/49 [==============================] - 38s 779ms/step - loss: 0.4466 - accuracy: 0.7916 - val_loss: 0.4352 - val_accuracy: 0.8022\n",
            "Epoch 7/10\n",
            "49/49 [==============================] - ETA: 0s - loss: 0.4287 - accuracy: 0.8025\n",
            "Epoch 7: val_accuracy improved from 0.80224 to 0.80956, saving model to weights-best_glove_freeze.hdf5\n",
            "49/49 [==============================] - 38s 784ms/step - loss: 0.4287 - accuracy: 0.8025 - val_loss: 0.4180 - val_accuracy: 0.8096\n",
            "Epoch 8/10\n",
            "49/49 [==============================] - ETA: 0s - loss: 0.3936 - accuracy: 0.8229\n",
            "Epoch 8: val_accuracy improved from 0.80956 to 0.81200, saving model to weights-best_glove_freeze.hdf5\n",
            "49/49 [==============================] - 38s 785ms/step - loss: 0.3936 - accuracy: 0.8229 - val_loss: 0.4161 - val_accuracy: 0.8120\n",
            "Epoch 9/10\n",
            "49/49 [==============================] - ETA: 0s - loss: 0.3895 - accuracy: 0.8257\n",
            "Epoch 9: val_accuracy improved from 0.81200 to 0.81204, saving model to weights-best_glove_freeze.hdf5\n",
            "49/49 [==============================] - 38s 785ms/step - loss: 0.3895 - accuracy: 0.8257 - val_loss: 0.4088 - val_accuracy: 0.8120\n",
            "Epoch 10/10\n",
            "49/49 [==============================] - ETA: 0s - loss: 0.3729 - accuracy: 0.8365\n",
            "Epoch 10: val_accuracy did not improve from 0.81204\n",
            "49/49 [==============================] - 35s 720ms/step - loss: 0.3729 - accuracy: 0.8365 - val_loss: 0.4121 - val_accuracy: 0.8102\n",
            "precision: 0.884 \n",
            "recall: 0.714\n",
            "F1 :0.790\n",
            "[[11328  1172]\n",
            " [ 3572  8928]]\n"
          ]
        },
        {
          "output_type": "display_data",
          "data": {
            "image/png": "[encoded data removed]",
            "text/plain": [
              "<Figure size 432x288 with 1 Axes>"
            ]
          },
          "metadata": {
            "needs_background": "light"
          }
        }
      ]
    },
    {
      "cell_type": "code",
      "source": [
        "# load the gensim and load the word2vec trained on googlenews\n",
        "import gensim\n",
        "wv_from_text = gensim.models.KeyedVectors.load_word2vec_format(\"/content/drive/MyDrive/GoogleNews-vectors-negative300.bin\", binary=True)"
      ],
      "metadata": {
        "id": "DLD3-PG7RS5x"
      },
      "execution_count": null,
      "outputs": []
    },
    {
      "cell_type": "code",
      "source": [
        "# verified and print the vector for a word\n",
        "wv_from_text.wv[\"woman\"]"
      ],
      "metadata": {
        "colab": {
          "base_uri": "https://localhost:8080/"
        },
        "id": "ytVpsewfWRoL",
        "outputId": "5b074641-b2f3-48ea-d6d4-2bd98a852d17"
      },
      "execution_count": null,
      "outputs": [
        {
          "output_type": "stream",
          "name": "stderr",
          "text": [
            "/usr/local/lib/python3.7/dist-packages/ipykernel_launcher.py:1: DeprecationWarning: Call to deprecated `wv` (Attribute will be removed in 4.0.0, use self instead).\n",
            "  \"\"\"Entry point for launching an IPython kernel.\n"
          ]
        },
        {
          "output_type": "execute_result",
          "data": {
            "text/plain": [
              "array([ 2.43164062e-01, -7.71484375e-02, -1.03027344e-01, -1.07421875e-01,\n",
              "        1.18164062e-01, -1.07421875e-01, -1.14257812e-01,  2.56347656e-02,\n",
              "        1.11816406e-01,  4.85839844e-02, -9.71679688e-02, -3.43750000e-01,\n",
              "       -6.29882812e-02, -1.25000000e-01, -2.70996094e-02,  9.42382812e-02,\n",
              "       -1.87500000e-01, -5.34667969e-02,  6.25000000e-02, -3.05175781e-02,\n",
              "       -2.90527344e-02, -4.80957031e-02, -5.51757812e-02, -4.08203125e-01,\n",
              "        1.01318359e-02, -2.32421875e-01, -1.70898438e-01,  2.63671875e-01,\n",
              "        3.49609375e-01, -2.11914062e-01,  1.43554688e-01, -6.22558594e-03,\n",
              "       -2.25585938e-01, -1.05468750e-01, -1.16210938e-01,  1.23046875e-01,\n",
              "        3.06640625e-01, -4.88281250e-02, -9.57031250e-02,  1.99218750e-01,\n",
              "       -1.57226562e-01, -2.80761719e-02,  1.58203125e-01, -2.42919922e-02,\n",
              "        1.29882812e-01, -8.98437500e-02, -7.61718750e-02,  3.54003906e-02,\n",
              "       -3.06396484e-02,  1.52343750e-01,  5.24902344e-02,  1.60980225e-03,\n",
              "        5.56640625e-02,  3.95507812e-02, -7.71484375e-02, -7.12890625e-02,\n",
              "       -9.22851562e-02, -7.03125000e-02,  2.03125000e-01,  1.53198242e-02,\n",
              "        2.98828125e-01,  1.75781250e-01, -4.54101562e-02,  9.52148438e-02,\n",
              "        4.12597656e-02,  7.76367188e-02,  9.47265625e-02,  1.67968750e-01,\n",
              "        2.01171875e-01, -7.22656250e-02,  1.83593750e-01,  2.15820312e-01,\n",
              "       -2.38281250e-01,  1.04980469e-01, -1.66015625e-02,  2.40234375e-01,\n",
              "        1.67236328e-02, -4.56542969e-02,  1.68945312e-01,  1.85546875e-01,\n",
              "        2.47070312e-01, -1.02050781e-01,  8.49609375e-02, -1.04003906e-01,\n",
              "       -4.74609375e-01,  2.63671875e-01, -1.57226562e-01,  8.25195312e-02,\n",
              "        2.19726562e-01, -3.03955078e-02, -2.55859375e-01, -1.97265625e-01,\n",
              "       -9.27734375e-02, -1.28173828e-02,  1.26953125e-01,  3.54003906e-02,\n",
              "        5.88378906e-02,  3.27148438e-02,  1.72851562e-01, -2.08740234e-02,\n",
              "       -1.65039062e-01, -2.81250000e-01,  8.49609375e-02, -1.69921875e-01,\n",
              "        2.31445312e-01, -1.41601562e-01,  7.91015625e-02, -1.92382812e-01,\n",
              "        7.61718750e-02, -2.23632812e-01, -1.06811523e-02,  5.66406250e-02,\n",
              "        1.56250000e-01,  7.17773438e-02, -1.56250000e-01, -1.44531250e-01,\n",
              "       -8.30078125e-02, -1.21093750e-01,  5.63964844e-02,  2.61718750e-01,\n",
              "        7.95898438e-02, -1.28784180e-02, -2.00195312e-01, -4.39453125e-02,\n",
              "       -1.01562500e-01,  1.29882812e-01,  9.42382812e-02,  1.90429688e-02,\n",
              "        1.42578125e-01,  1.59179688e-01, -7.47070312e-02, -3.24218750e-01,\n",
              "       -2.07031250e-01,  4.80957031e-02, -4.19921875e-02,  9.22851562e-02,\n",
              "       -4.39453125e-02, -2.20703125e-01, -6.25000000e-02,  8.39843750e-02,\n",
              "        2.29492188e-01, -1.11816406e-01,  9.03320312e-02,  2.08984375e-01,\n",
              "       -2.28515625e-01,  2.87109375e-01, -1.38671875e-01,  1.85546875e-01,\n",
              "       -2.10937500e-01, -2.05078125e-01,  3.00781250e-01, -1.82617188e-01,\n",
              "        1.23046875e-01, -1.61132812e-01,  9.37500000e-02,  1.25976562e-01,\n",
              "       -8.10546875e-02,  9.15527344e-05,  1.53320312e-01, -8.10546875e-02,\n",
              "       -1.93359375e-01,  7.08007812e-03,  3.84765625e-01,  1.05957031e-01,\n",
              "       -1.09375000e-01, -1.13769531e-01,  9.13085938e-02, -1.92382812e-01,\n",
              "        6.12792969e-02,  6.07299805e-03, -4.54101562e-02,  6.25000000e-02,\n",
              "       -1.30859375e-01, -1.83593750e-01, -1.76757812e-01, -1.87500000e-01,\n",
              "        2.44140625e-01,  1.89453125e-01, -1.93359375e-01, -2.29492188e-02,\n",
              "        2.53906250e-02,  3.93676758e-03, -1.38671875e-01, -2.81250000e-01,\n",
              "       -1.80664062e-01,  8.69140625e-02,  3.17382812e-02,  2.55859375e-01,\n",
              "       -2.30468750e-01, -5.24902344e-02, -2.18200684e-03,  1.60156250e-01,\n",
              "        1.57226562e-01,  2.79296875e-01,  1.37695312e-01,  1.04492188e-01,\n",
              "       -1.18652344e-01, -5.81054688e-02, -7.32421875e-02,  1.04980469e-02,\n",
              "       -1.77734375e-01, -1.07421875e-01, -1.76757812e-01, -1.23046875e-01,\n",
              "       -1.69921875e-01, -1.34765625e-01,  6.39648438e-02,  1.22558594e-01,\n",
              "        1.95312500e-01, -4.94140625e-01, -3.90625000e-02, -3.19824219e-02,\n",
              "       -1.58691406e-02, -4.10156250e-02, -1.43554688e-01, -8.59375000e-02,\n",
              "       -7.95898438e-02,  2.46093750e-01, -1.77734375e-01,  2.05078125e-01,\n",
              "        5.32226562e-02, -2.51464844e-02,  2.14843750e-01,  2.12402344e-02,\n",
              "        9.76562500e-02, -2.16796875e-01,  2.85156250e-01, -1.19140625e-01,\n",
              "       -1.66992188e-01, -3.60107422e-03,  4.61425781e-02, -1.63085938e-01,\n",
              "       -2.53906250e-01,  1.89453125e-01, -7.51953125e-02, -5.39550781e-02,\n",
              "       -1.77734375e-01, -4.32128906e-02, -7.38525391e-03,  1.57226562e-01,\n",
              "        2.53906250e-01, -1.52343750e-01, -5.27343750e-02, -1.25000000e-01,\n",
              "        1.54296875e-01,  1.11816406e-01, -1.54418945e-02,  8.97216797e-03,\n",
              "       -5.63964844e-02, -2.58789062e-02,  1.93359375e-01,  5.22460938e-02,\n",
              "       -1.56250000e-02, -5.68847656e-02,  1.17187500e-01,  6.00585938e-02,\n",
              "       -2.64892578e-02, -1.39648438e-01, -7.27539062e-02, -5.00488281e-02,\n",
              "        2.97851562e-02, -9.61914062e-02, -1.60156250e-01, -1.41601562e-01,\n",
              "        2.17773438e-01,  2.55859375e-01, -4.58984375e-02,  1.17187500e-01,\n",
              "       -2.46093750e-01, -7.27539062e-02, -8.69140625e-02,  1.57226562e-01,\n",
              "       -1.88476562e-01,  4.39453125e-02, -5.55419922e-03,  6.93359375e-02,\n",
              "        1.42578125e-01, -1.20605469e-01, -1.04003906e-01, -3.41796875e-02,\n",
              "        1.82617188e-01, -1.29882812e-01,  1.63574219e-02,  3.20312500e-01,\n",
              "       -1.12304688e-01, -1.12915039e-02, -1.38671875e-01, -2.20703125e-01,\n",
              "        7.59124756e-04,  3.94531250e-01,  1.03515625e-01, -6.64062500e-02,\n",
              "       -2.67578125e-01, -2.47070312e-01, -7.27539062e-02,  1.07910156e-01,\n",
              "        1.18652344e-01, -8.30078125e-02,  6.54296875e-02, -2.94189453e-02],\n",
              "      dtype=float32)"
            ]
          },
          "metadata": {},
          "execution_count": 6
        }
      ]
    },
    {
      "cell_type": "code",
      "source": [
        "# create the dict for word-vector\n",
        "import keras\n",
        "import tensorflow.keras\n",
        "import numpy as np\n",
        "word_index=keras.datasets.imdb.get_word_index()\n",
        "num=0\n",
        "voc=dict()\n",
        "for k,v in  sorted(word_index.items(),key=lambda x :x[1])[:10000]:\n",
        "  voc[k]=v\n",
        "## Create \"embedding_matrix\" to index our vocabulary using the GloVe model \n",
        "num_tokens = len(voc) \n",
        "embedding_dim = 300 ## 100 dimensions\n",
        "hits = 0 ## number of words that were found in the pretrained model\n",
        "misses = 0 ## number of words that were missing in the pretrained model\n",
        "\n",
        "# Prepare embedding matrix for our word list\n",
        "embedding_matrix = np.zeros((num_tokens, embedding_dim))\n",
        "for word, i in voc.items():\n",
        "    if word.lower() not in wv_from_text.wv:\n",
        "      misses+=1\n",
        "      continue\n",
        "    embedding_vector = wv_from_text.wv[word.lower()]\n",
        "    if embedding_vector is not None:\n",
        "        # Words not found in embedding index will be all-zeros.\n",
        "        # This includes the representation for \"padding\" and \"OOV\"\n",
        "        embedding_matrix[i-1] = embedding_vector\n",
        "        hits += 1\n",
        "    else:\n",
        "        misses += 1\n",
        "print(\"Converted %d words (%d misses)\" % (hits, misses))\n",
        "\n",
        "  # if num==10:\n",
        "  #   break"
      ],
      "metadata": {
        "colab": {
          "base_uri": "https://localhost:8080/"
        },
        "outputId": "34e10f0d-cd8d-44be-bdf3-551575c6b019",
        "id": "FSGTXALnYpyG"
      },
      "execution_count": null,
      "outputs": [
        {
          "output_type": "stream",
          "name": "stdout",
          "text": [
            "Converted 9286 words (714 misses)\n"
          ]
        },
        {
          "output_type": "stream",
          "name": "stderr",
          "text": [
            "/usr/local/lib/python3.7/dist-packages/ipykernel_launcher.py:18: DeprecationWarning: Call to deprecated `wv` (Attribute will be removed in 4.0.0, use self instead).\n",
            "/usr/local/lib/python3.7/dist-packages/ipykernel_launcher.py:21: DeprecationWarning: Call to deprecated `wv` (Attribute will be removed in 4.0.0, use self instead).\n"
          ]
        }
      ]
    },
    {
      "cell_type": "code",
      "source": [
        "#3. fine-tuning the word2vec\n",
        "from keras.layers.embeddings import Embedding\n",
        "from keras.initializers import Constant\n",
        "embedding_layer = Embedding(num_tokens, embedding_dim,\n",
        "                            embeddings_initializer= Constant(embedding_matrix), \n",
        "                            trainable=True,\n",
        ")"
      ],
      "metadata": {
        "id": "4RzCt441axBW"
      },
      "execution_count": null,
      "outputs": []
    },
    {
      "cell_type": "code",
      "source": [
        "int_sequences_input = Input(shape=(None,), dtype=\"int64\")\n",
        "embedded_sequences = embedding_layer(int_sequences_input)\n",
        "x = layers.Bidirectional(layers.GRU(20, return_sequences=True))(embedded_sequences)\n",
        "x = layers.Bidirectional(layers.GRU(20))(x)\n",
        "preds = layers.Dense(1, activation=\"sigmoid\")(x)\n",
        "GRUmodel = Model(int_sequences_input, preds)\n",
        "GRUmodel.summary()"
      ],
      "metadata": {
        "colab": {
          "base_uri": "https://localhost:8080/"
        },
        "id": "I5O0JbMYa3Ob",
        "outputId": "debb1b52-0a3b-4db2-f3c2-e5833d1676d0"
      },
      "execution_count": null,
      "outputs": [
        {
          "output_type": "stream",
          "name": "stdout",
          "text": [
            "Model: \"model_9\"\n",
            "_________________________________________________________________\n",
            " Layer (type)                Output Shape              Param #   \n",
            "=================================================================\n",
            " input_10 (InputLayer)       [(None, None)]            0         \n",
            "                                                                 \n",
            " embedding_8 (Embedding)     (None, None, 300)         3000000   \n",
            "                                                                 \n",
            " bidirectional_18 (Bidirecti  (None, None, 40)         38640     \n",
            " onal)                                                           \n",
            "                                                                 \n",
            " bidirectional_19 (Bidirecti  (None, 40)               7440      \n",
            " onal)                                                           \n",
            "                                                                 \n",
            " dense_9 (Dense)             (None, 1)                 41        \n",
            "                                                                 \n",
            "=================================================================\n",
            "Total params: 3,046,121\n",
            "Trainable params: 3,046,121\n",
            "Non-trainable params: 0\n",
            "_________________________________________________________________\n"
          ]
        }
      ]
    },
    {
      "cell_type": "code",
      "source": [
        "\n",
        "GRUmodel.compile(loss='binary_crossentropy',\n",
        "              optimizer='adam',\n",
        "              metrics=['accuracy'])\n",
        "\n",
        "print('Train...')\n",
        "filepath=\"weights-best_word2vec.hdf5\"\n",
        "checkpoint = ModelCheckpoint(filepath, monitor='val_accuracy', verbose=1, save_best_only=True,\n",
        "mode='max')\n",
        "callbacks_list = [checkpoint]\n",
        "GRUmodel.fit(x_train,y_train,batch_size=512,\n",
        "          epochs=10,\n",
        "          validation_data=(x_test,y_test),callbacks=callbacks_list)\n",
        "predict=GRUmodel.predict(x_test,512)\n",
        "p_r_score(y_test,predict)\n",
        "show_confusion_matrix(y_test,predict,\"bi-GRU with fine-tuning Word2vec\")"
      ],
      "metadata": {
        "colab": {
          "base_uri": "https://localhost:8080/"
        },
        "id": "E64kOSBRa9Ef",
        "outputId": "2cf08b4c-57a3-4fc7-85f6-83a8d187c10c"
      },
      "execution_count": null,
      "outputs": [
        {
          "output_type": "stream",
          "name": "stdout",
          "text": [
            "Train...\n",
            "Epoch 1/10\n",
            "49/49 [==============================] - ETA: 0s - loss: 0.6535 - accuracy: 0.6092\n",
            "Epoch 1: val_accuracy improved from -inf to 0.69016, saving model to weights-best_word2vec.hdf5\n",
            "49/49 [==============================] - 48s 864ms/step - loss: 0.6535 - accuracy: 0.6092 - val_loss: 0.5753 - val_accuracy: 0.6902\n",
            "Epoch 2/10\n",
            "49/49 [==============================] - ETA: 0s - loss: 0.4606 - accuracy: 0.7828"
          ]
        }
      ]
    },
    {
      "cell_type": "code",
      "source": [
        "#4. freeze the word2vec \n",
        "from keras.layers.embeddings import Embedding\n",
        "from keras.initializers import Constant\n",
        "embedding_layer = Embedding(num_tokens, embedding_dim,\n",
        "                            embeddings_initializer= Constant(embedding_matrix), \n",
        "                            trainable=False,\n",
        ")"
      ],
      "metadata": {
        "id": "5pxQjVbdfFbQ"
      },
      "execution_count": null,
      "outputs": []
    },
    {
      "cell_type": "code",
      "source": [
        "int_sequences_input = Input(shape=(None,), dtype=\"int64\")\n",
        "embedded_sequences = embedding_layer(int_sequences_input)\n",
        "x = layers.Bidirectional(layers.GRU(20, return_sequences=True))(embedded_sequences)\n",
        "x = layers.Bidirectional(layers.GRU(20))(x)\n",
        "preds = layers.Dense(1, activation=\"sigmoid\")(x)\n",
        "GRUmodel = Model(int_sequences_input, preds)\n",
        "GRUmodel.summary()"
      ],
      "metadata": {
        "colab": {
          "base_uri": "https://localhost:8080/"
        },
        "id": "_8qT3m9-fMGz",
        "outputId": "d41fdeef-6952-4dc8-d49f-33b6da295935"
      },
      "execution_count": null,
      "outputs": [
        {
          "output_type": "stream",
          "name": "stdout",
          "text": [
            "Model: \"model_8\"\n",
            "_________________________________________________________________\n",
            " Layer (type)                Output Shape              Param #   \n",
            "=================================================================\n",
            " input_9 (InputLayer)        [(None, None)]            0         \n",
            "                                                                 \n",
            " embedding_7 (Embedding)     (None, None, 300)         3000000   \n",
            "                                                                 \n",
            " bidirectional_16 (Bidirecti  (None, None, 40)         38640     \n",
            " onal)                                                           \n",
            "                                                                 \n",
            " bidirectional_17 (Bidirecti  (None, 40)               7440      \n",
            " onal)                                                           \n",
            "                                                                 \n",
            " dense_8 (Dense)             (None, 1)                 41        \n",
            "                                                                 \n",
            "=================================================================\n",
            "Total params: 3,046,121\n",
            "Trainable params: 46,121\n",
            "Non-trainable params: 3,000,000\n",
            "_________________________________________________________________\n"
          ]
        }
      ]
    },
    {
      "cell_type": "code",
      "source": [
        "\n",
        "GRUmodel.compile(loss='binary_crossentropy',\n",
        "              optimizer='adam',\n",
        "              metrics=['accuracy'])\n",
        "\n",
        "print('Train...')\n",
        "filepath=\"weights-freeze_word2vec.hdf5\"\n",
        "checkpoint = ModelCheckpoint(filepath, monitor='val_accuracy', verbose=1, save_best_only=True,\n",
        "mode='max')\n",
        "callbacks_list = [checkpoint]\n",
        "GRUmodel.fit(x_train,y_train,batch_size=512,\n",
        "          epochs=10,\n",
        "          validation_data=(x_test,y_test),callbacks=callbacks_list)\n",
        "predict=GRUmodel.predict(x_test,512)\n",
        "p_r_score(y_test,predict)\n",
        "show_confusion_matrix(y_test,predict,\"Bi_GRU with freezed_word2vec\")"
      ],
      "metadata": {
        "colab": {
          "base_uri": "https://localhost:8080/",
          "height": 1000
        },
        "id": "6p4OtvKSfSFf",
        "outputId": "3ccf2477-c662-4063-d982-daad2879b15b"
      },
      "execution_count": null,
      "outputs": [
        {
          "output_type": "stream",
          "name": "stdout",
          "text": [
            "Train...\n",
            "Epoch 1/10\n",
            "49/49 [==============================] - ETA: 0s - loss: 0.6272 - accuracy: 0.6405\n",
            "Epoch 1: val_accuracy improved from -inf to 0.65236, saving model to weights-freeze_word2vec.hdf5\n",
            "49/49 [==============================] - 46s 793ms/step - loss: 0.6272 - accuracy: 0.6405 - val_loss: 0.6184 - val_accuracy: 0.6524\n",
            "Epoch 2/10\n",
            "49/49 [==============================] - ETA: 0s - loss: 0.5697 - accuracy: 0.7002\n",
            "Epoch 2: val_accuracy improved from 0.65236 to 0.71732, saving model to weights-freeze_word2vec.hdf5\n",
            "49/49 [==============================] - 37s 765ms/step - loss: 0.5697 - accuracy: 0.7002 - val_loss: 0.5496 - val_accuracy: 0.7173\n",
            "Epoch 3/10\n",
            "49/49 [==============================] - ETA: 0s - loss: 0.5378 - accuracy: 0.7258\n",
            "Epoch 3: val_accuracy improved from 0.71732 to 0.73084, saving model to weights-freeze_word2vec.hdf5\n",
            "49/49 [==============================] - 37s 761ms/step - loss: 0.5378 - accuracy: 0.7258 - val_loss: 0.5337 - val_accuracy: 0.7308\n",
            "Epoch 4/10\n",
            "49/49 [==============================] - ETA: 0s - loss: 0.5043 - accuracy: 0.7517\n",
            "Epoch 4: val_accuracy improved from 0.73084 to 0.74616, saving model to weights-freeze_word2vec.hdf5\n",
            "49/49 [==============================] - 37s 763ms/step - loss: 0.5043 - accuracy: 0.7517 - val_loss: 0.5121 - val_accuracy: 0.7462\n",
            "Epoch 5/10\n",
            "49/49 [==============================] - ETA: 0s - loss: 0.4869 - accuracy: 0.7632\n",
            "Epoch 5: val_accuracy improved from 0.74616 to 0.75736, saving model to weights-freeze_word2vec.hdf5\n",
            "49/49 [==============================] - 37s 764ms/step - loss: 0.4869 - accuracy: 0.7632 - val_loss: 0.4949 - val_accuracy: 0.7574\n",
            "Epoch 6/10\n",
            "49/49 [==============================] - ETA: 0s - loss: 0.4677 - accuracy: 0.7777\n",
            "Epoch 6: val_accuracy improved from 0.75736 to 0.77584, saving model to weights-freeze_word2vec.hdf5\n",
            "49/49 [==============================] - 37s 764ms/step - loss: 0.4677 - accuracy: 0.7777 - val_loss: 0.4697 - val_accuracy: 0.7758\n",
            "Epoch 7/10\n",
            "49/49 [==============================] - ETA: 0s - loss: 0.4509 - accuracy: 0.7870\n",
            "Epoch 7: val_accuracy did not improve from 0.77584\n",
            "49/49 [==============================] - 35s 720ms/step - loss: 0.4509 - accuracy: 0.7870 - val_loss: 0.4850 - val_accuracy: 0.7634\n",
            "Epoch 8/10\n",
            "49/49 [==============================] - ETA: 0s - loss: 0.4333 - accuracy: 0.7978\n",
            "Epoch 8: val_accuracy improved from 0.77584 to 0.79088, saving model to weights-freeze_word2vec.hdf5\n",
            "49/49 [==============================] - 37s 763ms/step - loss: 0.4333 - accuracy: 0.7978 - val_loss: 0.4410 - val_accuracy: 0.7909\n",
            "Epoch 9/10\n",
            "49/49 [==============================] - ETA: 0s - loss: 0.4107 - accuracy: 0.8108\n",
            "Epoch 9: val_accuracy improved from 0.79088 to 0.80096, saving model to weights-freeze_word2vec.hdf5\n",
            "49/49 [==============================] - 37s 765ms/step - loss: 0.4107 - accuracy: 0.8108 - val_loss: 0.4279 - val_accuracy: 0.8010\n",
            "Epoch 10/10\n",
            "49/49 [==============================] - ETA: 0s - loss: 0.3980 - accuracy: 0.8202\n",
            "Epoch 10: val_accuracy improved from 0.80096 to 0.80500, saving model to weights-freeze_word2vec.hdf5\n",
            "49/49 [==============================] - 37s 764ms/step - loss: 0.3980 - accuracy: 0.8202 - val_loss: 0.4200 - val_accuracy: 0.8050\n",
            "precision: 0.817 \n",
            "recall: 0.787\n",
            "F1 :0.801\n",
            "[[10293  2207]\n",
            " [ 2668  9832]]\n"
          ]
        },
        {
          "output_type": "display_data",
          "data": {
            "image/png": "[encoded data removed]",
            "text/plain": [
              "<Figure size 432x288 with 1 Axes>"
            ]
          },
          "metadata": {
            "needs_background": "light"
          }
        }
      ]
    }
  ]
}