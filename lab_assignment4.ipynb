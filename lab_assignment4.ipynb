{
  "cells": [
    {
      "cell_type": "markdown",
      "metadata": {
        "id": "view-in-github",
        "colab_type": "text"
      },
      "source": [
        "<a href=\"https://colab.research.google.com/github/Konic-NLP/5922-deep-learning/blob/main/lab_assignment4.ipynb\" target=\"_parent\"><img src=\"https://colab.research.google.com/assets/colab-badge.svg\" alt=\"Open In Colab\"/></a>"
      ]
    },
    {
      "cell_type": "code",
      "execution_count": null,
      "metadata": {
        "id": "r6TxECYc3bjk"
      },
      "outputs": [],
      "source": [
        "!pip install -U sentence-transformers"
      ]
    },
    {
      "cell_type": "code",
      "execution_count": null,
      "metadata": {
        "id": "zdUFE7fpoG97"
      },
      "outputs": [],
      "source": [
        "pip install transformers"
      ]
    },
    {
      "cell_type": "code",
      "execution_count": null,
      "metadata": {
        "id": "HG6WeM9yofQK"
      },
      "outputs": [],
      "source": [
        "import torch\n",
        "from transformers import BertTokenizer,BertModel,LxmertModel,LxmertTokenizer,BartModel,BartTokenizer\n",
        "import torch\n",
        "from transformers import BertTokenizer, BertModel\n",
        "\n",
        "tokenizer = BertTokenizer.from_pretrained('bert-base-uncased')\n",
        "bert = BertModel.from_pretrained('bert-base-uncased')"
      ]
    },
    {
      "cell_type": "code",
      "execution_count": null,
      "metadata": {
        "colab": {
          "base_uri": "https://localhost:8080/"
        },
        "id": "wRdfnAey-sXV",
        "outputId": "975f150e-4440-4bb0-c21c-11c9bceeac78"
      },
      "outputs": [
        {
          "output_type": "stream",
          "name": "stdout",
          "text": [
            "https://ivc.ischool.utexas.edu/VizWiz_final/vqa_data/Annotations/val.json\n"
          ]
        }
      ],
      "source": [
        "## PART 1. Set up the VizWiz-VQA dataset\n",
        "\n",
        "img_dir = \"https://vizwiz.cs.colorado.edu//VizWiz_visualization_img/\"\n",
        "# split = 'train' \n",
        "split = 'val'\n",
        "# split = 'test'\n",
        "annotation_file = \"https://ivc.ischool.utexas.edu/VizWiz_final/vqa_data/Annotations/%s.json\" %split\n",
        "print(annotation_file)"
      ]
    },
    {
      "cell_type": "code",
      "execution_count": null,
      "metadata": {
        "id": "woQNQ7JnpAmG"
      },
      "outputs": [],
      "source": [
        "## Visualize image given a url\n",
        "from skimage import io\n",
        "import matplotlib.pyplot as plt\n",
        "\n",
        "%matplotlib inline\n",
        "\n",
        "def visualize_image(image_url):\n",
        "  image = io.imread(image_url)\n",
        "  # print(image_url)\n",
        "  plt.imshow(image)\n",
        "  plt.axis(\"off\")\n",
        "  plt.show()"
      ]
    },
    {
      "cell_type": "code",
      "execution_count": null,
      "metadata": {
        "id": "jZRc2j3_3mqO"
      },
      "outputs": [],
      "source": [
        "from sentence_transformers import SentenceTransformer\n",
        "\n",
        "\n",
        "model = SentenceTransformer('sentence-transformers/distilbert-base-nli-mean-tokens')\n",
        "embeddings = model.encode(data[0]['question'])\n"
      ]
    },
    {
      "cell_type": "code",
      "execution_count": null,
      "metadata": {
        "id": "WINY7K5X4LTF"
      },
      "outputs": [],
      "source": [
        "def sen_extract(sentence):\n",
        "  return model.encode(sentence)"
      ]
    },
    {
      "cell_type": "code",
      "execution_count": null,
      "metadata": {
        "id": "Jl8rQGYEqFgV"
      },
      "outputs": [],
      "source": [
        "# Read the file to extract each dataset example with label\n",
        "import requests\n",
        "import numpy as np\n",
        "\n",
        "split_data = requests.get(annotation_file, allow_redirects=True)\n",
        "data = split_data.json()"
      ]
    },
    {
      "cell_type": "code",
      "execution_count": null,
      "metadata": {
        "id": "Nw5rZyDu6cFG"
      },
      "outputs": [],
      "source": [
        "## Set up the model\n",
        "\n",
        "from collections import defaultdict\n",
        "# num_VQs = 500\n",
        "X = [] ## features\n",
        "y = [] ## target labels\n",
        "images_features=[]\n",
        "language_features=[]\n",
        "language_features_sen=[]\n",
        "all_possible_answers=set()\n",
        "X_VIT=[]\n",
        "fre_quent_dict=defaultdict(int)\n",
        "count=0\n",
        "for vq in data:\n",
        "  if(len(y))==2000:\n",
        "    break\n",
        "  answers = vq['answers']\n",
        "  all_answers=defaultdict(int)\n",
        "  for answer in answers:\n",
        "    all_answers[answer['answer'].lower()]+=1\n",
        "  \n",
        "  all_answers=sorted(all_answers.items(),key=lambda x:x[1],reverse=True)\n",
        "  if fre_quent_dict.get(all_answers[0][0],0)>=3:\n",
        "\n",
        "    continue\n",
        "  else:\n",
        "    fre_quent_dict[all_answers[0][0]]+=1\n",
        "    \n",
        "    \n",
        "  # Extract features describing the image\n",
        "  image_name = vq['image']\n",
        "  image_url = img_dir + image_name\n",
        "  # VIT model to extract\n",
        "  img_emb=VIT_extract_Img(image_url)\n",
        "  question = vq['question']\n",
        "  q_emb=VIT_extract_lang(question)\n",
        "\n",
        "  img=resize(image_url)\n",
        "  image_feature=image_extract(img)\n",
        "  images_features.append(image_feature)\n",
        "\n",
        "  # Extract features describing the question\n",
        "  question = vq['question']\n",
        "\n",
        "  question_feature_sen = sen_extract(question)# extracted by sentence transformer\n",
        " \n",
        "  question_feature=extract_question_features(question).detach().numpy()\n",
        "  language_features.append(question_feature)\n",
        "  language_features_sen.append(question_feature_sen)\n",
        "  # # Create a multimodal feature to represent both the image and question (e.g. concatenate, multiply, etc.)\n",
        "  multimodal_features = np.concatenate((question_feature, image_feature),axis=None)\n",
        "  VIT_mul_feature=np.concatenate((img_emb,q_emb),axis=None)\n",
        "  # Prepare features and labels\n",
        "  X.append(multimodal_features)\n",
        "  X_VIT.append(VIT_mul_feature)\n",
        "  # answers = vq['answers']\n",
        "  # all_answers=defaultdict(int)\n",
        "  # for answer in answers:\n",
        "  #   all_answers[answer['answer'].lower()]+=1\n",
        "  \n",
        "  # all_answers=sorted(all_answers.items(),key=lambda x:x[1],reverse=True)\n",
        "  # print(all_answers)\n",
        "  try:\n",
        "    top_n=5 if len(all_answers)>=5 else len(all_answers)\n",
        "  except:\n",
        "    print(all_answers)   \n",
        "  \n",
        "  \n",
        "  answer_set=set(list( x[0] for x in all_answers)[:top_n])\n",
        "  # for x in list(all_answers)[:top_n]:\n",
        "    # print(x[0])\n",
        "    # fre_quent_dict[x[0]]+=1\n",
        "  # print(answer_set)\n",
        "  all_possible_answers=all_possible_answers.union(answer_set)\n",
        "  gold_label = all_answers[0][0]\n",
        "  y.append(gold_label)\n",
        "\n",
        "  # Print and visualize samples and features\n",
        "  print(image_name)\n",
        "  # print(question)\n",
        "  # print(gold_label)\n",
        "  # print(all_possible_answers)\n",
        "  # print(multimodal_features.shape)\n",
        "  # visualize_image(image_url)\n",
        "# print(len(all_possible_answers))"
      ]
    },
    {
      "cell_type": "markdown",
      "source": [
        "data serilization and persistance"
      ],
      "metadata": {
        "id": "n2FBPPobwZ_C"
      }
    },
    {
      "cell_type": "code",
      "execution_count": null,
      "metadata": {
        "id": "v4x4fDrZmyzs"
      },
      "outputs": [],
      "source": [
        "import pickle"
      ]
    },
    {
      "cell_type": "code",
      "execution_count": null,
      "metadata": {
        "id": "rTdGKwHU4lSs"
      },
      "outputs": [],
      "source": [
        "f=open('/content/drive/MyDrive/img_feature_train','rb')\n",
        "images_features_train=pickle.load(f)\n",
        "\n",
        "# print(len(all_possible_answers_val),type(all_possible_answers_val))\n",
        "f.close()"
      ]
    },
    {
      "cell_type": "code",
      "execution_count": null,
      "metadata": {
        "colab": {
          "base_uri": "https://localhost:8080/"
        },
        "id": "R-hjGxqYm4YX",
        "outputId": "298a060f-9624-4ef9-e5c6-2b89c723e15c"
      },
      "outputs": [
        {
          "output_type": "stream",
          "name": "stdout",
          "text": [
            "Mounted at /content/drive\n"
          ]
        }
      ],
      "source": [
        "from google.colab import drive\n",
        "drive.mount('/content/drive')"
      ]
    },
    {
      "cell_type": "code",
      "source": [
        "# serilized some data in order to reuse\n",
        "with open('/content/drive/MyDrive/input_train_balanced','wb') as f:\n",
        "  pickle.dump(X_VIT,f)"
      ],
      "metadata": {
        "id": "hlkUUIzX5H6k"
      },
      "execution_count": null,
      "outputs": []
    },
    {
      "cell_type": "code",
      "source": [
        "# de-serilize the data\n",
        "f=open('/content/drive/MyDrive/output_val','rb')\n",
        "y_val=pickle.load(f)\n",
        "\n",
        "# print(len(all_possible_answers_val),type(all_possible_answers_val))\n",
        "f.close()"
      ],
      "metadata": {
        "id": "zyQS8Q3BVi9L"
      },
      "execution_count": null,
      "outputs": []
    },
    {
      "cell_type": "code",
      "execution_count": null,
      "metadata": {
        "id": "ZsuvIa4A6pY5"
      },
      "outputs": [],
      "source": [
        "f=open('/content/drive/MyDrive/image_feature_val','rb')\n",
        "images_features_val=pickle.load(f)\n",
        "\n",
        "# print(len(all_possible_answers_val),type(all_possible_answers_val))\n",
        "f.close()"
      ]
    },
    {
      "cell_type": "code",
      "source": [
        "f=open('/content/drive/MyDrive/language_feature_val','rb')\n",
        "question_features_val=pickle.load(f)\n",
        "\n",
        "# print(len(all_possible_answers_val),type(all_possible_answers_val))\n",
        "f.close()"
      ],
      "metadata": {
        "id": "oYiTQCHGunFn"
      },
      "execution_count": null,
      "outputs": []
    },
    {
      "cell_type": "code",
      "source": [
        "f=open('/content/drive/MyDrive/question_feature_train','rb')\n",
        "question_features_train=pickle.load(f)\n",
        "\n",
        "# print(len(all_possible_answers_val),type(all_possible_answers_val))\n",
        "f.close()"
      ],
      "metadata": {
        "id": "n0ci-mHRuw3j"
      },
      "execution_count": null,
      "outputs": []
    },
    {
      "cell_type": "code",
      "source": [
        "# look at the label distribution and find the imbalanced labels issue\n",
        "from collections import Counter\n",
        "from functools import reduce\n",
        "counter=Counter\n",
        "dic=counter(y_train)\n",
        "print(len(dic))\n",
        "print(type(dic))\n",
        "print(type(dic.values()))\n",
        "for k,v in sorted(dic.items(),key=lambda x:x[1],reverse=True):\n",
        "  print(k,v)\n",
        "# print(sum(dic.values()))\n",
        "print(reduce(lambda x,y:x+y,dic.values()))\n"
      ],
      "metadata": {
        "id": "g6Buz8Xb0Pop"
      },
      "execution_count": null,
      "outputs": []
    },
    {
      "cell_type": "code",
      "source": [
        "X=[]\n",
        "for k,v in zip(images_features_train,question_features_train):\n",
        "  X.append(np.concatenate((k,v),axis=None))"
      ],
      "metadata": {
        "id": "X6pOLb61KQuQ"
      },
      "execution_count": null,
      "outputs": []
    },
    {
      "cell_type": "code",
      "source": [
        "X=[]\n",
        "for x,y in zip(images_features_train,question_features_train):\n",
        "  multimodal_features=np.concatenate((x,y),axis=None)\n",
        "  X.append(multimodal_features)"
      ],
      "metadata": {
        "id": "rHLzBUrZvPlo"
      },
      "execution_count": null,
      "outputs": []
    },
    {
      "cell_type": "code",
      "source": [
        "f=open('/content/drive/MyDrive/input_val','rb')\n",
        "X_val=pickle.load(f)\n",
        "\n",
        "# print(len(all_possible_answers_val),type(all_possible_answers_val))\n",
        "f.close()"
      ],
      "metadata": {
        "id": "pST5u7QGwAqw"
      },
      "execution_count": null,
      "outputs": []
    },
    {
      "cell_type": "code",
      "source": [
        "f=open('/content/drive/MyDrive/output_val','rb')\n",
        "y_val=pickle.load(f)\n",
        "\n",
        "# print(len(all_possible_answers_val),type(all_possible_answers_val))\n",
        "f.close()"
      ],
      "metadata": {
        "id": "--sF3eBmwkF9"
      },
      "execution_count": null,
      "outputs": []
    },
    {
      "cell_type": "code",
      "source": [
        "f=open('/content/drive/MyDrive/output_train_balanced','rb')\n",
        "y_train=pickle.load(f)\n",
        "\n",
        "# print(len(all_possible_answers_val),type(all_possible_answers_val))\n",
        "f.close()"
      ],
      "metadata": {
        "id": "eDd9ACx_I3w2"
      },
      "execution_count": null,
      "outputs": []
    },
    {
      "cell_type": "markdown",
      "source": [
        "sevral feature extractor "
      ],
      "metadata": {
        "id": "HclttkdDwvmx"
      }
    },
    {
      "cell_type": "code",
      "execution_count": null,
      "metadata": {
        "id": "rM7Egq0Rosr3"
      },
      "outputs": [],
      "source": [
        "def extract_question_features(questions):\n",
        "  inputs=tokenizer(questions,return_tensors=\"pt\")\n",
        "  output=bert(**inputs)\n",
        "  language_feature=output.pooler_output\n",
        "  # print(language_feature.shape)\n",
        "  # language_feature=language_feature\n",
        "  return language_feature"
      ]
    },
    {
      "cell_type": "code",
      "execution_count": null,
      "metadata": {
        "id": "mcmqQgkbwkRu"
      },
      "outputs": [],
      "source": [
        "from keras.applications.vgg16 import VGG16\n",
        "from keras.applications.vgg16 import preprocess_input\n",
        "import numpy as np\n",
        "from keras.preprocessing import image\n",
        "from matplotlib import pyplot as plt\n",
        "\n",
        "# vgg_model = VGG16(weights='imagenet', include_top=True)\n",
        "# vgg_model.summary()\n",
        "\n",
        "## Call image from a url\n",
        "from PIL import Image\n",
        "from urllib import request\n",
        "from io import BytesIO"
      ]
    },
    {
      "cell_type": "code",
      "execution_count": null,
      "metadata": {
        "id": "Zwc9LSqqd_4Z"
      },
      "outputs": [],
      "source": [
        "def resize(image_url):\n",
        "  res = request.urlopen(image_url).read()\n",
        "  img = Image.open(BytesIO(res)).resize((224,224))\n",
        "  return img"
      ]
    },
    {
      "cell_type": "code",
      "execution_count": null,
      "metadata": {
        "id": "toT1fTrdxmcn",
        "colab": {
          "base_uri": "https://localhost:8080/"
        },
        "outputId": "ecf91c36-d6ab-46e9-bafe-c47199aff52d"
      },
      "outputs": [
        {
          "output_type": "stream",
          "name": "stdout",
          "text": [
            "Downloading data from https://storage.googleapis.com/tensorflow/keras-applications/vgg16/vgg16_weights_tf_dim_ordering_tf_kernels.h5\n",
            "553467904/553467096 [==============================] - 7s 0us/step\n",
            "553476096/553467096 [==============================] - 7s 0us/step\n"
          ]
        }
      ],
      "source": [
        "from keras.models import Model\n",
        "vggmodel = VGG16(weights='imagenet', include_top=True)\n",
        "# model.summary()\n",
        "vgg_model = Model(inputs = vggmodel.inputs, outputs = vggmodel.layers[-2].output )\n",
        "def image_extract(img):\n",
        "  img_data = image.img_to_array(img)\n",
        "  img_data = np.expand_dims(img_data, axis=0)\n",
        "  img_data = preprocess_input(img_data)\n",
        "  feature_maps = vgg_model.predict(img_data)\n",
        "  return feature_maps"
      ]
    },
    {
      "cell_type": "markdown",
      "source": [
        "get the label space"
      ],
      "metadata": {
        "id": "hNu8OU3fxBvF"
      }
    },
    {
      "cell_type": "code",
      "execution_count": null,
      "metadata": {
        "colab": {
          "base_uri": "https://localhost:8080/"
        },
        "id": "GnVTz2rLf5MW",
        "outputId": "44822145-ec4f-464c-c273-1a06229805a7"
      },
      "outputs": [
        {
          "output_type": "stream",
          "name": "stdout",
          "text": [
            "5362\n"
          ]
        }
      ],
      "source": [
        "all_possible_answers=all_possible_answers.union(all_possible_answers_val)\n",
        "print(len(all_possible_answers))"
      ]
    },
    {
      "cell_type": "code",
      "source": [
        "y_train=y"
      ],
      "metadata": {
        "id": "3-48Tsah-ASP"
      },
      "execution_count": null,
      "outputs": []
    },
    {
      "cell_type": "code",
      "source": [
        "all_possible_answers=y_train+y_val"
      ],
      "metadata": {
        "id": "1vFXt7JXj1ar"
      },
      "execution_count": null,
      "outputs": []
    },
    {
      "cell_type": "markdown",
      "source": [
        ""
      ],
      "metadata": {
        "id": "tJ4NicTNxe9l"
      }
    },
    {
      "cell_type": "code",
      "execution_count": null,
      "metadata": {
        "id": "6dO1TR8nkmBC"
      },
      "outputs": [],
      "source": [
        "# convert the text feature into discrete value\n",
        "import keras_preprocessing\n",
        "from sklearn.preprocessing import LabelEncoder\n",
        "encoder=LabelEncoder()\n",
        "\n",
        "# all_possible_answers=list(all_possible_answers)\n",
        "all_possible_answers=list(set(all_possible_answers))\n",
        "ansers_set=encoder.fit_transform(all_possible_answers)\n",
        "# print(encoder.inverse_transform(all_possible_answers))\n",
        "# print(encoder.inverse_transform(y))\n",
        "# all_possible_answers=encoder.fit_transform(list(all_possible_answers))\n",
        "# print(y,all_possible_answers)\n",
        "y_train=encoder.transform(y_train)\n",
        "y_val=encoder.transform(y_val)"
      ]
    },
    {
      "cell_type": "code",
      "execution_count": null,
      "metadata": {
        "id": "TY5SYMNOm01L"
      },
      "outputs": [],
      "source": [
        "# convert each value to a one-hot vector\n",
        "import tensorflow as tf\n",
        "from tensorflow.keras.utils import to_categorical\n",
        "train_labels=to_categorical(y_train,num_classes=len(all_possible_answers))\n",
        "val_lables=to_categorical(y_val,num_classes=len(all_possible_answers))"
      ]
    },
    {
      "cell_type": "markdown",
      "source": [
        "The classfier and experiment"
      ],
      "metadata": {
        "id": "LL9gjRRYxczg"
      }
    },
    {
      "cell_type": "code",
      "execution_count": null,
      "metadata": {
        "id": "eZq4oe7chq_f"
      },
      "outputs": [],
      "source": [
        "X,y_train,X_val,y_val=np.array(X),np.array(train_labels),np.array(X_val),np.array(val_lables)"
      ]
    },
    {
      "cell_type": "code",
      "execution_count": null,
      "metadata": {
        "colab": {
          "base_uri": "https://localhost:8080/"
        },
        "id": "F-DK0v7Ph-EH",
        "outputId": "9899ecd1-2fd7-46ca-9bda-fc0af9e370fb"
      },
      "outputs": [
        {
          "output_type": "stream",
          "name": "stdout",
          "text": [
            "(2000, 4864) (2000, 995) (500, 4864) (500, 995)\n"
          ]
        }
      ],
      "source": [
        "print(X.shape,y_train.shape,X_val.shape,y_val.shape)"
      ]
    },
    {
      "cell_type": "code",
      "execution_count": null,
      "metadata": {
        "id": "cP2IcC1uuaR4"
      },
      "outputs": [],
      "source": [
        "from keras.models import Sequential\n",
        "from keras.layers.core import Dense\n",
        "# from keras.layers import Dense\n",
        "from keras.layers.core import Dropout\n",
        "model = Sequential()\n",
        "model.add(Dense(512, activation='relu', input_dim=(4864)))\n",
        "\n",
        "# model.add(Dense(64, activation='relu'))\n",
        "# model.add(Dense(64, activation='relu'))\n",
        "# model.add(Dense(256, activation='relu'))\n",
        "# model.add(Dropout(0.1))\n",
        "# model.add(Dense(128, activation='relu'))\n",
        "# model.add(Dropout(0.2))\n",
        "model.add(Dense(995, activation='softmax'))\n",
        "#attention that the final class"
      ]
    },
    {
      "cell_type": "code",
      "execution_count": null,
      "metadata": {
        "id": "Fd1g2iKc9WQl"
      },
      "outputs": [],
      "source": [
        "from tensorflow.python.keras.callbacks import ModelCheckpoint\n",
        "\n",
        "# from keras.callbacks import ModelCheckpoint\n",
        "filepath=\"weights-best-sen.hdf5\"\n",
        "checkpoint = ModelCheckpoint(filepath, monitor='val_loss', verbose=1, save_best_only=True,\n",
        "mode='min')\n",
        "callbacks_list = [checkpoint]\n",
        "opt = tf.keras.optimizers.Adam(learning_rate=1e-05)\n",
        "model.compile(loss='categorical_crossentropy',\n",
        "      optimizer=opt,\n",
        "      metrics=['accuracy'])\n",
        "hist=model.fit(X,train_labels,\n",
        "  epochs=20,\n",
        "  batch_size=128,validation_data=(X_val, val_lables),callbacks=callbacks_list)"
      ]
    },
    {
      "cell_type": "code",
      "execution_count": null,
      "metadata": {
        "id": "2w-Wm6npAdCR"
      },
      "outputs": [],
      "source": [
        "#predict the test and convert the idnex to the label class\n",
        "result=model.predict(X_test)\n",
        "y_test_pred = np.argmax(result, axis=1)\n",
        "# y_test_gold= np.argmax(y_val, axis=1)\n",
        "result=encoder.inverse_transform(y_test_pred)"
      ]
    },
    {
      "cell_type": "code",
      "source": [
        "print(result)"
      ],
      "metadata": {
        "colab": {
          "base_uri": "https://localhost:8080/"
        },
        "id": "sm_2wBcxo9DD",
        "outputId": "138d6aab-8c28-47f4-ccc1-7d54e0332abc"
      },
      "execution_count": null,
      "outputs": [
        {
          "output_type": "stream",
          "name": "stdout",
          "text": [
            "['grey' 'unanswerable' 'no' 'no' 'unanswerable' 'unanswerable' 'black'\n",
            " 'no' 'unanswerable' 'unanswerable' 'unsuitable' 'no' 'white' 'no'\n",
            " 'unsuitable' 'no' 'no' 'unanswerable' 'unanswerable' 'unanswerable'\n",
            " 'grey' 'no' 'unanswerable' 'no' 'no' 'no' 'unsuitable' 'unanswerable'\n",
            " 'unsuitable' 'unanswerable' 'unanswerable' 'unanswerable' 'no'\n",
            " 'unanswerable' 'no' 'unanswerable' 'unanswerable' 'unanswerable'\n",
            " 'unanswerable' 'no' 'no' 'grey' 'unanswerable' 'unanswerable'\n",
            " 'unsuitable' 'no' 'unanswerable' 'unanswerable' 'dog' 'no' 'unanswerable'\n",
            " 'unanswerable' 'unanswerable' 'unanswerable' 'no' 'grey' 'no' 'grey'\n",
            " 'unsuitable' 'unsuitable' 'yes' 'grey' 'black' 'no' 'unanswerable'\n",
            " 'unanswerable' 'unanswerable' 'unanswerable' 'unanswerable'\n",
            " 'unanswerable' 'no' 'no' 'unanswerable' 'no' 'unanswerable' 'no'\n",
            " 'unanswerable' 'no' 'no' 'unanswerable' 'no' 'unanswerable' 'no'\n",
            " 'unanswerable' 'unanswerable' 'unsuitable' 'unanswerable' 'unanswerable'\n",
            " 'unanswerable' 'unsuitable' 'unanswerable' 'grey' 'no' 'unanswerable'\n",
            " 'white' 'unanswerable' 'grey' 'no' 'unanswerable' 'kinumbo been'\n",
            " 'unanswerable' 'no' 'grey' 'grey' 'unsuitable' 'keyboard' 'unsuitable'\n",
            " 'unanswerable' 'unanswerable' 'white' 'white' 'unanswerable'\n",
            " 'unanswerable' 'unanswerable' 'unanswerable' 'no' 'grey' 'no'\n",
            " 'unanswerable' 'unanswerable' 'unanswerable' 'no' 'no' 'no' 'unsuitable'\n",
            " 'unanswerable' 'unanswerable' 'unanswerable' 'no' 'grey' 'no'\n",
            " 'unanswerable' 'keyboard' 'unanswerable' 'unanswerable' 'unanswerable'\n",
            " 'white' 'no' 'unanswerable' 'grey' 'unsuitable' 'unsuitable'\n",
            " 'unanswerable' 'unanswerable' 'no' 'unanswerable' 'unanswerable'\n",
            " 'unanswerable' 'no' 'grey' 'no' 'unanswerable' 'no' 'no' 'unanswerable'\n",
            " 'unanswerable' 'grey' 'unanswerable' 'unanswerable' 'grey' 'unanswerable'\n",
            " 'no' 'unanswerable' 'no' 'no' 'unanswerable' 'unanswerable'\n",
            " 'unanswerable' 'no' 'unanswerable' 'black' 'unanswerable' 'unanswerable'\n",
            " 'grey' 'no' 'no' 'grey' 'no' 'unanswerable' 'no' 'unanswerable'\n",
            " 'unanswerable' 'unanswerable' 'unanswerable' 'unanswerable' 'white'\n",
            " 'unanswerable' 'unanswerable' 'unsuitable' 'unanswerable' 'grey'\n",
            " 'unanswerable' 'no' 'dog' 'no' 'unanswerable' 'unanswerable' 'no' 'no'\n",
            " 'grey' 'dog' 'unanswerable' 'unanswerable' 'no' 'no' 'unanswerable'\n",
            " 'unanswerable' 'unanswerable' 'grey' 'unanswerable' 'no' 'black'\n",
            " 'unanswerable' 'unanswerable' 'no' 'unanswerable' 'unanswerable' 'no'\n",
            " 'yes' 'grey' 'unanswerable' 'no' 'no' 'unanswerable' 'no' 'unanswerable'\n",
            " 'no' 'unanswerable' 'unanswerable' 'unanswerable' 'unanswerable' 'grey'\n",
            " 'unanswerable' 'unanswerable' 'white' 'unanswerable' 'unanswerable'\n",
            " 'unsuitable' 'unanswerable' 'no' 'unanswerable' 'unanswerable' 'no' 'no'\n",
            " 'white' 'unsuitable' 'unanswerable' 'unsuitable' 'grey' 'no'\n",
            " 'unanswerable' 'unanswerable' 'unanswerable' 'unanswerable' 'no'\n",
            " 'unanswerable' 'unanswerable' 'unsuitable' 'black' 'unanswerable' 'no'\n",
            " 'unanswerable' 'unanswerable' 'no' 'unanswerable' 'no' 'unanswerable'\n",
            " 'unanswerable' 'no' 'unanswerable' 'unanswerable' 'unanswerable'\n",
            " 'unanswerable' 'unanswerable' 'unanswerable' 'unanswerable' 'grey'\n",
            " 'unsuitable' 'unanswerable' 'unanswerable' 'unanswerable' 'unanswerable'\n",
            " 'unsuitable' 'unanswerable' 'white' 'unanswerable' 'unanswerable'\n",
            " 'unanswerable' 'unanswerable' 'no' 'unanswerable' 'kinumbo been' 'no'\n",
            " 'unanswerable' 'unanswerable' 'no' 'grey' 'unanswerable'\n",
            " 'english breakfast tea' 'keyboard' 'unanswerable' 'unanswerable'\n",
            " 'unanswerable' 'black' 'unanswerable' 'no' 'unanswerable' 'unanswerable'\n",
            " 'unanswerable' 'no' 'no' 'unsuitable' 'keyboard' 'no' 'no' 'no'\n",
            " 'unanswerable' 'unsuitable' 'unsuitable' 'white' 'no' 'yes'\n",
            " 'unanswerable' 'no' 'unsuitable' 'white' 'no' 'dog' 'black'\n",
            " 'unanswerable' 'unanswerable' 'no' 'no' 'grey' 'unanswerable'\n",
            " 'unanswerable' 'unanswerable' 'unanswerable' 'unanswerable' 'no'\n",
            " 'unsuitable' 'unsuitable' 'unanswerable' 'unanswerable' 'grey'\n",
            " 'unanswerable' 'unanswerable' 'no' 'unanswerable' 'white' 'grey' 'no'\n",
            " 'unsuitable' 'unanswerable' 'unanswerable' 'unanswerable' 'unanswerable'\n",
            " 'unanswerable' 'no' 'unanswerable' 'yes' 'no' 'unanswerable' 'no'\n",
            " 'unanswerable' 'unanswerable' 'no' 'unanswerable' 'unanswerable'\n",
            " 'unanswerable' 'no' 'no' 'unanswerable' 'no' 'no' 'unsuitable'\n",
            " 'unanswerable' 'unanswerable' 'unanswerable' 'unanswerable' 'grey'\n",
            " 'unanswerable' 'no' 'keyboard' 'unsuitable' 'no' 'unanswerable' 'grey'\n",
            " 'white' 'unanswerable' 'no' 'no' 'no' 'grey' 'no' 'grey' 'no' 'cat'\n",
            " 'unsuitable' 'unanswerable' 'grey' 'unanswerable' 'unanswerable'\n",
            " 'unanswerable' 'unanswerable' 'english breakfast tea' 'unanswerable'\n",
            " 'unanswerable' 'unanswerable' 'unanswerable' 'unsuitable' 'unsuitable'\n",
            " 'no' 'keyboard' 'roasted sweet potato chunks' 'no' 'unanswerable' 'black'\n",
            " 'grey' 'unanswerable' 'unsuitable' 'unanswerable' 'unsuitable' 'yes'\n",
            " 'unanswerable' 'unanswerable' 'white' 'unanswerable' 'no' 'no' 'dog'\n",
            " 'unanswerable' 'unanswerable' 'unanswerable' 'black' 'unanswerable' 'no'\n",
            " 'unanswerable' 'unanswerable' 'no' 'unanswerable' 'no' 'grey' 'no' 'grey'\n",
            " 'unanswerable' 'no' 'no' 'no' 'unanswerable' 'grey' 'unanswerable'\n",
            " 'unanswerable' 'unanswerable' 'unanswerable' 'no' 'grey' 'unanswerable'\n",
            " 'unanswerable' 'unsuitable' 'unanswerable' 'black' 'blue' 'no'\n",
            " 'unanswerable' 'unanswerable' 'no' 'grey' 'no' 'no' 'no' 'unanswerable'\n",
            " 'unanswerable' 'black' 'unanswerable' 'no' 'white' 'unanswerable' 'no'\n",
            " 'unanswerable' 'red' 'unanswerable' 'grey' 'no' 'no' 'unanswerable'\n",
            " 'unanswerable' 'grey' 'no' 'unsuitable' 'unanswerable' 'grey' 'no'\n",
            " 'unanswerable' 'white' 'no' 'no' 'grey' 'unanswerable' 'unanswerable'\n",
            " 'unanswerable' 'grey' 'no' 'no' 'grey' 'unanswerable' 'no' 'grey' 'grey'\n",
            " 'white' 'unanswerable' 'no' 'unanswerable' 'unanswerable' 'unanswerable'\n",
            " 'unanswerable' 'grey' 'grey' 'grey' 'no' 'no' 'unsuitable' 'no' 'grey'\n",
            " 'unanswerable' 'no' 'unanswerable' 'grey' 'unanswerable' 'unanswerable'\n",
            " 'grey' 'grey' 'unanswerable' 'unanswerable' 'unanswerable' 'unanswerable'\n",
            " 'unanswerable' 'unanswerable' 'white' 'cloudy' 'yes' 'unanswerable'\n",
            " 'grey' 'grey' 'unanswerable' 'unanswerable' 'no' 'no' 'unanswerable' 'no'\n",
            " 'no' 'unsuitable' 'no' 'unanswerable' 'no' 'no' 'unanswerable'\n",
            " 'unsuitable' 'unanswerable' 'grey' 'unanswerable' 'unanswerable' 'no'\n",
            " 'unanswerable' 'unanswerable' 'dog' 'no' 'grey' 'no' 'no' 'unanswerable'\n",
            " 'white' 'grey' 'grey' 'grey' 'no' 'unanswerable' 'no' 'unanswerable'\n",
            " 'unanswerable' 'unanswerable' 'unanswerable' 'unanswerable'\n",
            " 'unanswerable' 'unanswerable' 'grey' 'no' 'unanswerable' 'unanswerable'\n",
            " 'no' 'no' 'no' 'unanswerable' 'white' 'unanswerable' 'unanswerable'\n",
            " 'unanswerable' 'no' 'no' 'unanswerable' 'lip balm' 'no' 'no'\n",
            " 'unanswerable' 'no' 'no' 'unsuitable' 'yes' 'black' 'unanswerable'\n",
            " 'unanswerable' 'black' 'unanswerable' 'unanswerable' 'no' 'no' 'no'\n",
            " 'unanswerable' 'no' 'unanswerable' 'no' 'keyboard' 'grey' 'unanswerable'\n",
            " 'unanswerable' 'unsuitable' 'unanswerable' 'black' 'unanswerable'\n",
            " 'unanswerable' 'yes' 'unanswerable' 'dog' 'unanswerable' 'grey'\n",
            " 'unanswerable' 'unanswerable' 'no' 'unanswerable' 'unanswerable'\n",
            " 'unanswerable' 'no' 'unanswerable' 'unanswerable' 'unanswerable' 'no'\n",
            " 'red' 'unanswerable' 'grey' 'unsuitable' 'no' 'black' 'white' 'no'\n",
            " 'unanswerable' 'white' 'no' 'unsuitable' 'no' 'grey' 'unanswerable'\n",
            " 'unanswerable' 'unanswerable' 'unanswerable' 'dog' 'no' 'unanswerable'\n",
            " 'no' 'keyboard' 'unanswerable' 'unanswerable' 'no' 'grey' 'unanswerable'\n",
            " 'white' 'unanswerable' 'unsuitable' 'kinumbo been' 'grey' 'unanswerable'\n",
            " 'unanswerable' 'unanswerable' 'black' 'unanswerable' 'grey' 'no' 'black'\n",
            " 'clouds' 'no' 'unanswerable' 'unanswerable' 'no' 'unanswerable'\n",
            " 'unanswerable' 'unanswerable' 'unsuitable' 'grey' 'unanswerable'\n",
            " 'unanswerable' 'no' 'unanswerable' 'english breakfast tea' 'lotion'\n",
            " 'white' 'unanswerable' 'unsuitable' 'unanswerable' 'unsuitable'\n",
            " 'unanswerable' 'no' 'unanswerable' 'no' 'dog' 'grey' 'no' 'unanswerable'\n",
            " 'unanswerable' 'black' 'unanswerable' 'unanswerable' 'no' 'no' 'no'\n",
            " 'unanswerable' 'no' 'no' 'unanswerable' 'unanswerable' 'unanswerable'\n",
            " 'unanswerable' 'grey' 'grey' 'unanswerable' 'no' 'unanswerable'\n",
            " 'soda can' 'unanswerable' 'unanswerable' 'unsuitable' 'unanswerable' 'no'\n",
            " 'no' 'white' 'grey' 'white' 'unsuitable' 'unanswerable' 'unsuitable'\n",
            " 'unanswerable' 'no' 'unanswerable' 'unanswerable' 'unanswerable'\n",
            " 'unsuitable' 'no' 'unanswerable' 'no' 'unanswerable' 'no' 'no'\n",
            " 'unanswerable' 'unanswerable' 'grey' 'unanswerable' 'unanswerable'\n",
            " 'unanswerable' 'unanswerable' 'grey' 'unanswerable' 'unanswerable'\n",
            " 'unanswerable' 'unsuitable' 'unsuitable' 'unanswerable' 'unanswerable'\n",
            " 'unanswerable' 'unanswerable' 'no' 'grey' 'unanswerable' 'unanswerable'\n",
            " 'unanswerable' 'unanswerable' 'unanswerable' 'grey' 'unanswerable'\n",
            " 'unanswerable' 'no' 'unanswerable' 'grey' 'unanswerable' 'no'\n",
            " 'unanswerable' 'no' 'unanswerable' 'unanswerable' 'no' 'unanswerable'\n",
            " 'grey' 'unanswerable' 'unanswerable' 'unanswerable' 'unanswerable'\n",
            " 'black' 'no' 'no' 'unanswerable' 'no' 'unsuitable' 'laptop'\n",
            " 'unanswerable' 'no' 'black' 'no' 'unanswerable' 'no' 'grey'\n",
            " 'unanswerable' 'unanswerable' 'no' 'white' 'grey' 'unanswerable'\n",
            " 'unanswerable' 'unanswerable' 'no' 'no' 'no' 'unanswerable' 'grey'\n",
            " 'unanswerable' 'no' 'unanswerable' 'unanswerable' 'unsuitable' 'no'\n",
            " 'blue' 'yes' 'no' 'unanswerable' 'white' 'no' 'unanswerable'\n",
            " 'unanswerable' 'black' 'no' 'dog' 'unanswerable' 'unanswerable' 'no'\n",
            " 'unanswerable' 'unanswerable' 'unanswerable' 'unsuitable' 'no'\n",
            " 'unanswerable' 'unanswerable' 'unanswerable' 'no' 'grey' 'no'\n",
            " 'unanswerable' 'unanswerable' 'unanswerable' 'no' 'yes' 'no' 'grey'\n",
            " 'unsuitable' 'no' 'white' 'unanswerable' 'unanswerable' 'no'\n",
            " 'unanswerable' 'blue' 'no' 'unanswerable' 'no' 'unanswerable'\n",
            " 'unanswerable' 'unanswerable' 'unanswerable' 'no'\n",
            " 'moisturizing conditioner' 'unsuitable' 'grey' 'unanswerable' 'grey'\n",
            " 'grey' 'unanswerable' 'grey' 'moisturizing conditioner' 'no' 'grey' 'no'\n",
            " 'grey' 'no' 'grey' 'no' 'no' 'grey' 'unanswerable' 'no' 'unanswerable'\n",
            " 'unanswerable' 'no' 'grey' 'unanswerable' 'unanswerable' 'no' 'grey'\n",
            " 'unanswerable' 'yorkshire terrier' 'unanswerable' 'white' 'unanswerable'\n",
            " 'unsuitable' 'red' 'no' 'no' 'grey' 'unanswerable' 'no' 'yes' 'white'\n",
            " 'unanswerable' 'white' 'no' 'grey' 'unanswerable' 'unanswerable'\n",
            " 'unanswerable' 'unanswerable' 'unanswerable' 'white' 'grey'\n",
            " 'unanswerable' 'grey' 'no' 'yes' 'no' 'unanswerable' 'no' 'no' 'grey'\n",
            " 'grey' 'unanswerable' 'unanswerable' 'unanswerable' 'no' 'no'\n",
            " 'unanswerable' 'no' 'no' 'no' 'no' 'unanswerable' 'unanswerable'\n",
            " 'unanswerable' 'no' 'unanswerable' 'unanswerable' 'red' 'unanswerable'\n",
            " 'no' 'grey' 'unanswerable' 'unanswerable' 'white' 'unsuitable'\n",
            " 'unanswerable' 'unanswerable' 'dog' 'coffee pot' 'no' 'grey' 'grey'\n",
            " 'unanswerable' 'no' 'unsuitable' 'no' 'unanswerable' 'unanswerable'\n",
            " 'unanswerable' 'blue' 'unanswerable' 'unanswerable' 'unanswerable'\n",
            " 'unanswerable' 'grey' 'no' 'grey' 'no' 'no' 'unanswerable' 'grey'\n",
            " 'unanswerable' 'unanswerable' 'unanswerable']\n"
          ]
        }
      ]
    },
    {
      "cell_type": "markdown",
      "metadata": {
        "id": "Cx1G7FZz4I7C"
      },
      "source": [
        ""
      ]
    },
    {
      "cell_type": "code",
      "source": [
        "print(list(result).count('unanswerable')/500)"
      ],
      "metadata": {
        "colab": {
          "base_uri": "https://localhost:8080/"
        },
        "id": "UxAahtxF2CDM",
        "outputId": "3a62615f-5cd4-438d-acdc-d94dee5beab5"
      },
      "execution_count": null,
      "outputs": [
        {
          "output_type": "stream",
          "name": "stdout",
          "text": [
            "0.92\n"
          ]
        }
      ]
    },
    {
      "cell_type": "code",
      "execution_count": null,
      "metadata": {
        "colab": {
          "base_uri": "https://localhost:8080/"
        },
        "id": "5FcMsKalu1LY",
        "outputId": "ae2862c9-69cb-4925-955b-6c34212d1a47"
      },
      "outputs": [
        {
          "output_type": "stream",
          "name": "stdout",
          "text": [
            "Accuracy: 0.25\n"
          ]
        }
      ],
      "source": [
        "gtlist = [x['answers'] for x in data]\n",
        "\n",
        "# Save the accuracies\n",
        "acc_list = []\n",
        "i = 0\n",
        "\n",
        "# Compute accuracy for each image\n",
        "for pred in result:\n",
        "\n",
        "    # Get the GT answer list and preprocess\n",
        "    gt_ans = gtlist[i] \n",
        "    gt_ans = [x['answer'] for x in gt_ans]\n",
        "    gt_ans = [x.lower() for x in gt_ans]\n",
        "\n",
        "    # Compute accuracy (compare with at least 3 human answers)\n",
        "    cur_acc = np.minimum(1.0, gt_ans.count(pred)/3.0)\n",
        "\n",
        "    acc_list.append(cur_acc)\n",
        "    i +=1\n",
        "\n",
        "print ('Accuracy: {}'.format(round(np.mean(acc_list), 2)))"
      ]
    },
    {
      "cell_type": "code",
      "source": [
        "# draw the loss curve\n",
        "def drawplot(name,modelfordraw):\n",
        "  plt.plot(modelfordraw.history[\"loss\"], color =\"green\", label = \"train_loss\")\n",
        "\n",
        "  # plt.plot(trained_model_base.history[\"val_loss\"], color =\"red\", label = \"base-test\")\n",
        "  plt.plot(modelfordraw.history[\"val_loss\"], color =\"orange\", label = \"val_loss\")\n",
        "\n",
        "  plt.title(name)\n",
        "  plt.ylabel(\"loss\")\n",
        "  plt.xlabel(\"Number of epochs\")\n",
        "  plt.legend()\n",
        "  plt.show()"
      ],
      "metadata": {
        "id": "URbgHCmrB1Jf"
      },
      "execution_count": null,
      "outputs": []
    },
    {
      "cell_type": "code",
      "source": [
        "drawplot(\"the loss on training and validation set respect to the epochs\",hist)"
      ],
      "metadata": {
        "colab": {
          "base_uri": "https://localhost:8080/",
          "height": 295
        },
        "id": "EG-u7cMTmiKy",
        "outputId": "4cbf811b-9dd3-4898-a1a3-9b797216d937"
      },
      "execution_count": null,
      "outputs": [
        {
          "output_type": "display_data",
          "data": {
            "text/plain": [
              "<Figure size 432x288 with 1 Axes>"
            ],
            "image/png": "[encoded data removed]"
          },
          "metadata": {
            "needs_background": "light"
          }
        }
      ]
    },
    {
      "cell_type": "code",
      "source": [
        "!pip install ftfy"
      ],
      "metadata": {
        "colab": {
          "base_uri": "https://localhost:8080/"
        },
        "id": "nEuClkQRYgKu",
        "outputId": "b8f57b33-e4e2-48a9-a1fd-2d8ee068479c"
      },
      "execution_count": null,
      "outputs": [
        {
          "output_type": "stream",
          "name": "stdout",
          "text": [
            "Collecting ftfy\n",
            "  Downloading ftfy-6.1.1-py3-none-any.whl (53 kB)\n",
            "\u001b[?25l\r\u001b[K     |██████▏                         | 10 kB 24.3 MB/s eta 0:00:01\r\u001b[K     |████████████▍                   | 20 kB 28.0 MB/s eta 0:00:01\r\u001b[K     |██████████████████▌             | 30 kB 19.8 MB/s eta 0:00:01\r\u001b[K     |████████████████████████▊       | 40 kB 16.2 MB/s eta 0:00:01\r\u001b[K     |██████████████████████████████▉ | 51 kB 8.9 MB/s eta 0:00:01\r\u001b[K     |████████████████████████████████| 53 kB 1.3 MB/s \n",
            "\u001b[?25hRequirement already satisfied: wcwidth>=0.2.5 in /usr/local/lib/python3.7/dist-packages (from ftfy) (0.2.5)\n",
            "Installing collected packages: ftfy\n",
            "Successfully installed ftfy-6.1.1\n"
          ]
        }
      ]
    },
    {
      "cell_type": "code",
      "source": [
        "# the VIT extractor\n",
        "from PIL import Image\n",
        "from urllib import request\n",
        "from sentence_transformers import SentenceTransformer, util\n",
        "from io import BytesIO\n",
        "#Load CLIP model\n",
        "VITmodel = SentenceTransformer('clip-ViT-B-32')\n",
        "def VIT_extract_Img(image_name):\n",
        "  res = request.urlopen(image_name).read()\n",
        "#Encode an image:\n",
        "  img = Image.open(BytesIO(res))\n",
        "  img_emb = VITmodel.encode(img)\n",
        "  img_emb=np.array(img_emb)\n",
        "  return img_emb\n",
        "\n",
        "#Encode text descriptions\n",
        "def VIT_extract_lang(question):\n",
        "  text_emb = VITmodel.encode(question)\n",
        "  return text_emb\n",
        "\n"
      ],
      "metadata": {
        "id": "dkkEOVMtMTGf"
      },
      "execution_count": null,
      "outputs": []
    },
    {
      "cell_type": "code",
      "source": [
        "img_emb=VIT_extract_Img(image_name)\n",
        "q_emb=VIT_extract_lang(data[0]['question'])\n",
        "print(img_emb.shape,q_emb.shape)\n",
        "print(np.concatenate((img_emb,q_emb),axis=None))"
      ],
      "metadata": {
        "colab": {
          "base_uri": "https://localhost:8080/"
        },
        "id": "u4UeLg2EOAgN",
        "outputId": "13cf05ac-bdc9-4ca8-e0e7-32ff3b8c44c5"
      },
      "execution_count": null,
      "outputs": [
        {
          "output_type": "stream",
          "name": "stdout",
          "text": [
            "(512,) (512,)\n",
            "[-2.7930737e-04 -9.1579288e-02  1.5963916e-01 ... -5.9106541e-01\n",
            " -1.3380298e-01  7.0923150e-02]\n"
          ]
        }
      ]
    }
  ],
  "metadata": {
    "colab": {
      "collapsed_sections": [],
      "name": "lab assignment4.ipynb",
      "provenance": [],
      "include_colab_link": true
    },
    "kernelspec": {
      "display_name": "Python 3",
      "name": "python3"
    },
    "language_info": {
      "name": "python"
    }
  },
  "nbformat": 4,
  "nbformat_minor": 0
}