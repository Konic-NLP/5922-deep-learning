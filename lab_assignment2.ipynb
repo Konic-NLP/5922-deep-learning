{
  "nbformat": 4,
  "nbformat_minor": 0,
  "metadata": {
    "colab": {
      "name": "lab assignment2.ipynb",
      "provenance": [],
      "collapsed_sections": [],
      "include_colab_link": true
    },
    "kernelspec": {
      "name": "python3",
      "display_name": "Python 3"
    },
    "language_info": {
      "name": "python"
    },
    "accelerator": "GPU"
  },
  "cells": [
    {
      "cell_type": "markdown",
      "metadata": {
        "id": "view-in-github",
        "colab_type": "text"
      },
      "source": [
        "<a href=\"https://colab.research.google.com/github/Konic-NLP/5922-deep-learning/blob/main/lab_assignment2.ipynb\" target=\"_parent\"><img src=\"https://colab.research.google.com/assets/colab-badge.svg\" alt=\"Open In Colab\"/></a>"
      ]
    },
    {
      "cell_type": "markdown",
      "source": [
        "check the device and see the type of GPU"
      ],
      "metadata": {
        "id": "KJAf7VBLUTmx"
      }
    },
    {
      "cell_type": "code",
      "source": [
        "! nvidia-smi"
      ],
      "metadata": {
        "colab": {
          "base_uri": "https://localhost:8080/"
        },
        "id": "ibadJC8dL4P_",
        "outputId": "9f7ebb8f-d159-433d-bd90-01229fede3ab"
      },
      "execution_count": null,
      "outputs": [
        {
          "output_type": "stream",
          "name": "stdout",
          "text": [
            "Mon Feb 14 03:05:43 2022       \n",
            "+-----------------------------------------------------------------------------+\n",
            "| NVIDIA-SMI 460.32.03    Driver Version: 460.32.03    CUDA Version: 11.2     |\n",
            "|-------------------------------+----------------------+----------------------+\n",
            "| GPU  Name        Persistence-M| Bus-Id        Disp.A | Volatile Uncorr. ECC |\n",
            "| Fan  Temp  Perf  Pwr:Usage/Cap|         Memory-Usage | GPU-Util  Compute M. |\n",
            "|                               |                      |               MIG M. |\n",
            "|===============================+======================+======================|\n",
            "|   0  Tesla K80           Off  | 00000000:00:04.0 Off |                    0 |\n",
            "| N/A   73C    P0    72W / 149W |   2360MiB / 11441MiB |      0%      Default |\n",
            "|                               |                      |                  N/A |\n",
            "+-------------------------------+----------------------+----------------------+\n",
            "                                                                               \n",
            "+-----------------------------------------------------------------------------+\n",
            "| Processes:                                                                  |\n",
            "|  GPU   GI   CI        PID   Type   Process name                  GPU Memory |\n",
            "|        ID   ID                                                   Usage      |\n",
            "|=============================================================================|\n",
            "+-----------------------------------------------------------------------------+\n"
          ]
        }
      ]
    },
    {
      "cell_type": "code",
      "execution_count": null,
      "metadata": {
        "id": "9glBSnTVZgyI",
        "colab": {
          "base_uri": "https://localhost:8080/"
        },
        "outputId": "ad14c39c-289c-4499-d43a-1b9647be548a"
      },
      "outputs": [
        {
          "output_type": "stream",
          "name": "stdout",
          "text": [
            "Downloading data from https://www.cs.toronto.edu/~kriz/cifar-10-python.tar.gz\n",
            "170500096/170498071 [==============================] - 3s 0us/step\n",
            "170508288/170498071 [==============================] - 3s 0us/step\n"
          ]
        }
      ],
      "source": [
        "#read the built-in data \n",
        "from keras.datasets import cifar10\n",
        "(trainx,trainy),(testx,testy) = cifar10.load_data()"
      ]
    },
    {
      "cell_type": "code",
      "source": [
        "#have a look the dataset\n",
        "import numpy as np\n",
        "print(trainx.shape,trainy.shape)"
      ],
      "metadata": {
        "colab": {
          "base_uri": "https://localhost:8080/"
        },
        "id": "YwI9p1-hdYu8",
        "outputId": "8d2e0284-80f2-462b-e518-d6e0e3452889"
      },
      "execution_count": null,
      "outputs": [
        {
          "output_type": "stream",
          "name": "stdout",
          "text": [
            "(50000, 32, 32, 3) (50000, 1)\n"
          ]
        }
      ]
    },
    {
      "cell_type": "markdown",
      "source": [
        "concanate two parts into a whole\n"
      ],
      "metadata": {
        "id": "F6tQr6MAQGaD"
      }
    },
    {
      "cell_type": "code",
      "source": [
        "X=np.vstack((trainx,testx))\n",
        "Y=np.vstack((trainy,testy))"
      ],
      "metadata": {
        "id": "qIrGPkW9VFvz"
      },
      "execution_count": null,
      "outputs": []
    },
    {
      "cell_type": "markdown",
      "source": [
        "#ensure the concanating works"
      ],
      "metadata": {
        "id": "A6yXyx2LQPgB"
      }
    },
    {
      "cell_type": "code",
      "source": [
        "print(X.shape,Y.shape)"
      ],
      "metadata": {
        "colab": {
          "base_uri": "https://localhost:8080/"
        },
        "id": "XhcoeUwoVfDc",
        "outputId": "557b560d-53c3-4f01-c615-ef29f3e5db01"
      },
      "execution_count": null,
      "outputs": [
        {
          "output_type": "stream",
          "name": "stdout",
          "text": [
            "(60000, 32, 32, 3) (60000, 1)\n"
          ]
        }
      ]
    },
    {
      "cell_type": "markdown",
      "source": [
        "split the data according to the ratio"
      ],
      "metadata": {
        "id": "eP24GvmoQg9-"
      }
    },
    {
      "cell_type": "code",
      "source": [
        "from sklearn.model_selection import train_test_split"
      ],
      "metadata": {
        "id": "fLR06XhEc9EM"
      },
      "execution_count": null,
      "outputs": []
    },
    {
      "cell_type": "code",
      "source": [
        "x_train,x_test,y_train,y_test=train_test_split(X,Y,test_size=0.2,shuffle=True,random_state=1,stratify=Y)"
      ],
      "metadata": {
        "id": "b_Hj1jM6ZpxB"
      },
      "execution_count": null,
      "outputs": []
    },
    {
      "cell_type": "code",
      "source": [
        "trainx,x_val,trainy,y_val=train_test_split(x_train,y_train,test_size=0.25,shuffle=True,random_state=1,stratify=y_train)\n"
      ],
      "metadata": {
        "id": "s1JKlCRtZ5GL"
      },
      "execution_count": null,
      "outputs": []
    },
    {
      "cell_type": "code",
      "source": [
        "print(x_train.shape,y_train.shape)"
      ],
      "metadata": {
        "colab": {
          "base_uri": "https://localhost:8080/"
        },
        "id": "S9jvGlVsRPYf",
        "outputId": "2d52d880-23a0-41a3-d5a4-e35ce2d8b96f"
      },
      "execution_count": null,
      "outputs": [
        {
          "output_type": "stream",
          "name": "stdout",
          "text": [
            "(48000, 32, 32, 3) (48000, 1)\n"
          ]
        }
      ]
    },
    {
      "cell_type": "markdown",
      "source": [
        "switch the class digit to one-hot"
      ],
      "metadata": {
        "id": "vJHmRAEBQlZr"
      }
    },
    {
      "cell_type": "code",
      "source": [
        "from tensorflow.keras.utils import to_categorical\n",
        "trainy = to_categorical(trainy)\n",
        "y_val = to_categorical(y_val)"
      ],
      "metadata": {
        "id": "RBnBh0BFYE0j"
      },
      "execution_count": null,
      "outputs": []
    },
    {
      "cell_type": "code",
      "source": [
        "y_train=to_categorical(y_train)"
      ],
      "metadata": {
        "id": "NJexYSssjnM9"
      },
      "execution_count": null,
      "outputs": []
    },
    {
      "cell_type": "markdown",
      "source": [
        "view the split result and ensure everything is ok"
      ],
      "metadata": {
        "id": "ZxvuM_omQt8L"
      }
    },
    {
      "cell_type": "code",
      "source": [
        "print(trainx.shape,x_val.shape,x_test.shape,trainy.shape,y_val.shape,trainy[0].shape,y_val[0].shape)"
      ],
      "metadata": {
        "colab": {
          "base_uri": "https://localhost:8080/"
        },
        "id": "tyYrvqzPRf1D",
        "outputId": "46dedcee-d29a-4962-c971-c2043c7059a3"
      },
      "execution_count": null,
      "outputs": [
        {
          "output_type": "stream",
          "name": "stdout",
          "text": [
            "(36000, 32, 32, 3) (12000, 32, 32, 3) (12000, 32, 32, 3) (36000, 10) (12000, 10) (10,) (10,)\n"
          ]
        }
      ]
    },
    {
      "cell_type": "markdown",
      "source": [
        "#Part A: \n",
        "\n",
        "\n",
        "*   no regularization\n",
        "\n",
        "\n",
        "\n",
        "1.   single-convolution layer without regularization\n",
        "\n",
        "\n",
        "\n"
      ],
      "metadata": {
        "id": "heL5n1DPQ2Jl"
      }
    },
    {
      "cell_type": "code",
      "source": [
        "from keras import Sequential\n",
        "from keras.layers import Dense, Conv2D, Flatten, MaxPooling2D\n",
        "import time\n",
        "model = Sequential()\n",
        "\n",
        "model.add(Conv2D(64, kernel_size = 3, activation = \"relu\", input_shape = (32, 32, 3)))\n",
        "model.add(MaxPooling2D(pool_size = (2,2)))\n",
        "model.add(Flatten())\n",
        "model.add(Dense(128, activation = \"relu\"))\n",
        "model.add(Dense(10, activation = \"softmax\"))\n",
        "\n",
        "model.summary()\n",
        "\n",
        "model.compile(loss = \"categorical_crossentropy\", optimizer= \"adam\", metrics = [\"accuracy\"])\n",
        "start=time.time()\n",
        "trained_model_base = model.fit(trainx,trainy, epochs = 15, batch_size = 64, validation_data=(x_val,y_val),shuffle=True)\n",
        "end=time.time()\n",
        "runtime=(end-start)/60\n",
        "print(\"running time is %.2f minutes\"%runtime)"
      ],
      "metadata": {
        "colab": {
          "base_uri": "https://localhost:8080/"
        },
        "id": "FZYo8rm3EjYt",
        "outputId": "7cbf44a5-2281-41cc-f09a-cad44938aa54"
      },
      "execution_count": null,
      "outputs": [
        {
          "output_type": "stream",
          "name": "stdout",
          "text": [
            "Model: \"sequential_10\"\n",
            "_________________________________________________________________\n",
            " Layer (type)                Output Shape              Param #   \n",
            "=================================================================\n",
            " conv2d_15 (Conv2D)          (None, 30, 30, 64)        1792      \n",
            "                                                                 \n",
            " max_pooling2d_15 (MaxPoolin  (None, 15, 15, 64)       0         \n",
            " g2D)                                                            \n",
            "                                                                 \n",
            " flatten_9 (Flatten)         (None, 14400)             0         \n",
            "                                                                 \n",
            " dense_18 (Dense)            (None, 128)               1843328   \n",
            "                                                                 \n",
            " dense_19 (Dense)            (None, 10)                1290      \n",
            "                                                                 \n",
            "=================================================================\n",
            "Total params: 1,846,410\n",
            "Trainable params: 1,846,410\n",
            "Non-trainable params: 0\n",
            "_________________________________________________________________\n",
            "Epoch 1/15\n",
            "563/563 [==============================] - 6s 10ms/step - loss: 9.8465 - accuracy: 0.3134 - val_loss: 1.6824 - val_accuracy: 0.4047\n",
            "Epoch 2/15\n",
            "563/563 [==============================] - 6s 11ms/step - loss: 1.4266 - accuracy: 0.5030 - val_loss: 1.5669 - val_accuracy: 0.4585\n",
            "Epoch 3/15\n",
            "563/563 [==============================] - 5s 10ms/step - loss: 1.1378 - accuracy: 0.5993 - val_loss: 1.5109 - val_accuracy: 0.4986\n",
            "Epoch 4/15\n",
            "563/563 [==============================] - 5s 9ms/step - loss: 0.9052 - accuracy: 0.6817 - val_loss: 1.6323 - val_accuracy: 0.5029\n",
            "Epoch 5/15\n",
            "563/563 [==============================] - 5s 10ms/step - loss: 0.6908 - accuracy: 0.7587 - val_loss: 1.8274 - val_accuracy: 0.5098\n",
            "Epoch 6/15\n",
            "563/563 [==============================] - 6s 10ms/step - loss: 0.5337 - accuracy: 0.8169 - val_loss: 1.9941 - val_accuracy: 0.5013\n",
            "Epoch 7/15\n",
            "563/563 [==============================] - 6s 11ms/step - loss: 0.3931 - accuracy: 0.8671 - val_loss: 2.5109 - val_accuracy: 0.4970\n",
            "Epoch 8/15\n",
            "563/563 [==============================] - 5s 10ms/step - loss: 0.3249 - accuracy: 0.8924 - val_loss: 2.5624 - val_accuracy: 0.4903\n",
            "Epoch 9/15\n",
            "563/563 [==============================] - 5s 10ms/step - loss: 0.2955 - accuracy: 0.9036 - val_loss: 2.8177 - val_accuracy: 0.5032\n",
            "Epoch 10/15\n",
            "563/563 [==============================] - 5s 10ms/step - loss: 0.2596 - accuracy: 0.9181 - val_loss: 2.9605 - val_accuracy: 0.4811\n",
            "Epoch 11/15\n",
            "563/563 [==============================] - 6s 10ms/step - loss: 0.2311 - accuracy: 0.9255 - val_loss: 3.4531 - val_accuracy: 0.4984\n",
            "Epoch 12/15\n",
            "563/563 [==============================] - 6s 10ms/step - loss: 0.1968 - accuracy: 0.9367 - val_loss: 3.5045 - val_accuracy: 0.4889\n",
            "Epoch 13/15\n",
            "563/563 [==============================] - 6s 11ms/step - loss: 0.2038 - accuracy: 0.9374 - val_loss: 3.6183 - val_accuracy: 0.4914\n",
            "Epoch 14/15\n",
            "563/563 [==============================] - 5s 10ms/step - loss: 0.1963 - accuracy: 0.9398 - val_loss: 3.9069 - val_accuracy: 0.4918\n",
            "Epoch 15/15\n",
            "563/563 [==============================] - 6s 11ms/step - loss: 0.1707 - accuracy: 0.9470 - val_loss: 4.2939 - val_accuracy: 0.4888\n",
            "running time is 2.38 minutes\n"
          ]
        }
      ]
    },
    {
      "cell_type": "code",
      "source": [
        "drawplot(\"single-CONV without regularization\",trained_model_base)"
      ],
      "metadata": {
        "colab": {
          "base_uri": "https://localhost:8080/",
          "height": 295
        },
        "id": "suMLCJmgRDp3",
        "outputId": "06e1382d-ff48-4ddb-ab3a-035aa6b15653"
      },
      "execution_count": null,
      "outputs": [
        {
          "output_type": "display_data",
          "data": {
            "image/png": "[encoded data removed]",
            "text/plain": [
              "<Figure size 432x288 with 1 Axes>"
            ]
          },
          "metadata": {
            "needs_background": "light"
          }
        }
      ]
    },
    {
      "cell_type": "markdown",
      "source": [
        "2.   2-layers without regularization\n",
        "\n",
        "\n",
        "\n"
      ],
      "metadata": {
        "id": "GaqxH5RZV41Q"
      }
    },
    {
      "cell_type": "code",
      "source": [
        "from keras import regularizers\n",
        "from tensorflow.python.keras.layers.normalization.batch_normalization import BatchNormalization\n",
        "\n",
        "model = Sequential()\n",
        "\n",
        "model.add(Conv2D(64, kernel_size = 3, activation = \"relu\", input_shape = (32, 32, 3)))\n",
        "model.add(MaxPooling2D(pool_size = (2,2)))\n",
        "model.add(Conv2D(64, kernel_size = 3, activation = \"relu\"))\n",
        "model.add(MaxPooling2D(pool_size = (2,2)))\n",
        "model.add(Flatten())\n",
        "model.add(Dense(128, activation = \"relu\"))\n",
        "\n",
        "model.add(Dense(10, activation = \"softmax\"))\n",
        "\n",
        "model.summary()\n",
        "\n",
        "model.compile(loss = \"categorical_crossentropy\", optimizer= \"adam\", metrics = [\"accuracy\"])\n",
        "start=time.time()\n",
        "trained_2layer = model.fit(trainx,trainy, epochs = 15, batch_size = 64, validation_data=(x_val,y_val),shuffle=True)\n",
        "end=time.time()\n",
        "runtime=(end-start)/60\n",
        "print(\"running time is %.2f minutes\"%runtime)"
      ],
      "metadata": {
        "colab": {
          "base_uri": "https://localhost:8080/"
        },
        "id": "--HxibF2ko58",
        "outputId": "f1b3ad63-cd41-4499-ef64-45c562006ddb"
      },
      "execution_count": null,
      "outputs": [
        {
          "output_type": "stream",
          "name": "stdout",
          "text": [
            "Model: \"sequential_11\"\n",
            "_________________________________________________________________\n",
            " Layer (type)                Output Shape              Param #   \n",
            "=================================================================\n",
            " conv2d_16 (Conv2D)          (None, 30, 30, 64)        1792      \n",
            "                                                                 \n",
            " max_pooling2d_16 (MaxPoolin  (None, 15, 15, 64)       0         \n",
            " g2D)                                                            \n",
            "                                                                 \n",
            " conv2d_17 (Conv2D)          (None, 13, 13, 64)        36928     \n",
            "                                                                 \n",
            " max_pooling2d_17 (MaxPoolin  (None, 6, 6, 64)         0         \n",
            " g2D)                                                            \n",
            "                                                                 \n",
            " flatten_10 (Flatten)        (None, 2304)              0         \n",
            "                                                                 \n",
            " dense_20 (Dense)            (None, 128)               295040    \n",
            "                                                                 \n",
            " dense_21 (Dense)            (None, 10)                1290      \n",
            "                                                                 \n",
            "=================================================================\n",
            "Total params: 335,050\n",
            "Trainable params: 335,050\n",
            "Non-trainable params: 0\n",
            "_________________________________________________________________\n",
            "Epoch 1/15\n",
            "563/563 [==============================] - 7s 11ms/step - loss: 2.5006 - accuracy: 0.3388 - val_loss: 1.5293 - val_accuracy: 0.4427\n",
            "Epoch 2/15\n",
            "563/563 [==============================] - 7s 12ms/step - loss: 1.3923 - accuracy: 0.5047 - val_loss: 1.4262 - val_accuracy: 0.5098\n",
            "Epoch 3/15\n",
            "563/563 [==============================] - 6s 11ms/step - loss: 1.1876 - accuracy: 0.5849 - val_loss: 1.2789 - val_accuracy: 0.5652\n",
            "Epoch 4/15\n",
            "563/563 [==============================] - 6s 12ms/step - loss: 1.0636 - accuracy: 0.6278 - val_loss: 1.1929 - val_accuracy: 0.5863\n",
            "Epoch 5/15\n",
            "563/563 [==============================] - 6s 11ms/step - loss: 0.9459 - accuracy: 0.6677 - val_loss: 1.1644 - val_accuracy: 0.6059\n",
            "Epoch 6/15\n",
            "563/563 [==============================] - 6s 12ms/step - loss: 0.8555 - accuracy: 0.7014 - val_loss: 1.1802 - val_accuracy: 0.6082\n",
            "Epoch 7/15\n",
            "563/563 [==============================] - 6s 11ms/step - loss: 0.7509 - accuracy: 0.7385 - val_loss: 1.2212 - val_accuracy: 0.6236\n",
            "Epoch 8/15\n",
            "563/563 [==============================] - 6s 11ms/step - loss: 0.6695 - accuracy: 0.7677 - val_loss: 1.2553 - val_accuracy: 0.6227\n",
            "Epoch 9/15\n",
            "563/563 [==============================] - 6s 11ms/step - loss: 0.5795 - accuracy: 0.7964 - val_loss: 1.3228 - val_accuracy: 0.6275\n",
            "Epoch 10/15\n",
            "563/563 [==============================] - 6s 11ms/step - loss: 0.5143 - accuracy: 0.8221 - val_loss: 1.4932 - val_accuracy: 0.6118\n",
            "Epoch 11/15\n",
            "563/563 [==============================] - 6s 11ms/step - loss: 0.4352 - accuracy: 0.8472 - val_loss: 1.6369 - val_accuracy: 0.6203\n",
            "Epoch 12/15\n",
            "563/563 [==============================] - 7s 12ms/step - loss: 0.3960 - accuracy: 0.8605 - val_loss: 1.7239 - val_accuracy: 0.6125\n",
            "Epoch 13/15\n",
            "563/563 [==============================] - 6s 11ms/step - loss: 0.3701 - accuracy: 0.8727 - val_loss: 1.7395 - val_accuracy: 0.6142\n",
            "Epoch 14/15\n",
            "563/563 [==============================] - 6s 11ms/step - loss: 0.3202 - accuracy: 0.8902 - val_loss: 1.9159 - val_accuracy: 0.6136\n",
            "Epoch 15/15\n",
            "563/563 [==============================] - 6s 11ms/step - loss: 0.2950 - accuracy: 0.8989 - val_loss: 2.1349 - val_accuracy: 0.6035\n",
            "running time is 1.57 minutes\n"
          ]
        }
      ]
    },
    {
      "cell_type": "code",
      "source": [
        "drawplot(\"2-layer CONV without regularization\",trained_2layer)"
      ],
      "metadata": {
        "colab": {
          "base_uri": "https://localhost:8080/",
          "height": 295
        },
        "id": "zOTB_HxCWHyh",
        "outputId": "1f9db52e-5974-45d6-9443-4b05b9c89c0d"
      },
      "execution_count": null,
      "outputs": [
        {
          "output_type": "display_data",
          "data": {
            "image/png": "[encoded data removed]",
            "text/plain": [
              "<Figure size 432x288 with 1 Axes>"
            ]
          },
          "metadata": {
            "needs_background": "light"
          }
        }
      ]
    },
    {
      "cell_type": "markdown",
      "source": [
        "3.3-layer without regulairzation"
      ],
      "metadata": {
        "id": "6_7C_-eiaznY"
      }
    },
    {
      "cell_type": "code",
      "source": [
        "model = Sequential()\n",
        "\n",
        "model.add(Conv2D(64, kernel_size = 3, activation = \"relu\", input_shape = (32, 32, 3)))\n",
        "model.add(MaxPooling2D(pool_size = (2,2)))\n",
        "model.add(Conv2D(64, kernel_size = 3, activation = \"relu\"))\n",
        "model.add(MaxPooling2D(pool_size = (2,2)))\n",
        "model.add(Conv2D(64, kernel_size = 3, activation = \"relu\"))\n",
        "model.add(MaxPooling2D(pool_size = (2,2)))\n",
        "\n",
        "model.add(Flatten())\n",
        "model.add(Dense(128, activation = \"relu\"))\n",
        "model.add(Dense(10, activation = \"softmax\"))\n",
        "\n",
        "model.summary()\n",
        "\n",
        "model.compile(loss = \"categorical_crossentropy\", optimizer= \"adam\", metrics = [\"accuracy\"])\n",
        "start=time.time()\n",
        "trained_model_3layer = model.fit(trainx,trainy, epochs = 15, batch_size = 64, validation_data=(x_val,y_val),shuffle=True)\n",
        "end=time.time()\n",
        "runtime=(end-start)/60\n",
        "print(\"running time is %.2f minutes\"%runtime)"
      ],
      "metadata": {
        "colab": {
          "base_uri": "https://localhost:8080/"
        },
        "id": "HJyf3JVuleQ4",
        "outputId": "28db9a14-fb63-44f2-c3ee-75eba21daff4"
      },
      "execution_count": null,
      "outputs": [
        {
          "output_type": "stream",
          "name": "stdout",
          "text": [
            "Model: \"sequential_12\"\n",
            "_________________________________________________________________\n",
            " Layer (type)                Output Shape              Param #   \n",
            "=================================================================\n",
            " conv2d_18 (Conv2D)          (None, 30, 30, 64)        1792      \n",
            "                                                                 \n",
            " max_pooling2d_18 (MaxPoolin  (None, 15, 15, 64)       0         \n",
            " g2D)                                                            \n",
            "                                                                 \n",
            " conv2d_19 (Conv2D)          (None, 13, 13, 64)        36928     \n",
            "                                                                 \n",
            " max_pooling2d_19 (MaxPoolin  (None, 6, 6, 64)         0         \n",
            " g2D)                                                            \n",
            "                                                                 \n",
            " conv2d_20 (Conv2D)          (None, 4, 4, 64)          36928     \n",
            "                                                                 \n",
            " max_pooling2d_20 (MaxPoolin  (None, 2, 2, 64)         0         \n",
            " g2D)                                                            \n",
            "                                                                 \n",
            " flatten_11 (Flatten)        (None, 256)               0         \n",
            "                                                                 \n",
            " dense_22 (Dense)            (None, 128)               32896     \n",
            "                                                                 \n",
            " dense_23 (Dense)            (None, 10)                1290      \n",
            "                                                                 \n",
            "=================================================================\n",
            "Total params: 109,834\n",
            "Trainable params: 109,834\n",
            "Non-trainable params: 0\n",
            "_________________________________________________________________\n",
            "Epoch 1/15\n",
            "563/563 [==============================] - 9s 14ms/step - loss: 2.0571 - accuracy: 0.3420 - val_loss: 1.5042 - val_accuracy: 0.4538\n",
            "Epoch 2/15\n",
            "563/563 [==============================] - 7s 13ms/step - loss: 1.4483 - accuracy: 0.4798 - val_loss: 1.3833 - val_accuracy: 0.4987\n",
            "Epoch 3/15\n",
            "563/563 [==============================] - 8s 14ms/step - loss: 1.2936 - accuracy: 0.5458 - val_loss: 1.2649 - val_accuracy: 0.5491\n",
            "Epoch 4/15\n",
            "563/563 [==============================] - 8s 13ms/step - loss: 1.1795 - accuracy: 0.5856 - val_loss: 1.1974 - val_accuracy: 0.5816\n",
            "Epoch 5/15\n",
            "563/563 [==============================] - 7s 13ms/step - loss: 1.1002 - accuracy: 0.6164 - val_loss: 1.2183 - val_accuracy: 0.5679\n",
            "Epoch 6/15\n",
            "563/563 [==============================] - 7s 13ms/step - loss: 1.0354 - accuracy: 0.6398 - val_loss: 1.1716 - val_accuracy: 0.5898\n",
            "Epoch 7/15\n",
            "563/563 [==============================] - 8s 13ms/step - loss: 0.9796 - accuracy: 0.6570 - val_loss: 1.1143 - val_accuracy: 0.6162\n",
            "Epoch 8/15\n",
            "563/563 [==============================] - 8s 13ms/step - loss: 0.9235 - accuracy: 0.6764 - val_loss: 1.1066 - val_accuracy: 0.6244\n",
            "Epoch 9/15\n",
            "563/563 [==============================] - 7s 13ms/step - loss: 0.8703 - accuracy: 0.6956 - val_loss: 1.1414 - val_accuracy: 0.6208\n",
            "Epoch 10/15\n",
            "563/563 [==============================] - 7s 13ms/step - loss: 0.8389 - accuracy: 0.7061 - val_loss: 1.0859 - val_accuracy: 0.6368\n",
            "Epoch 11/15\n",
            "563/563 [==============================] - 8s 13ms/step - loss: 0.7959 - accuracy: 0.7201 - val_loss: 1.0929 - val_accuracy: 0.6384\n",
            "Epoch 12/15\n",
            "563/563 [==============================] - 7s 13ms/step - loss: 0.7551 - accuracy: 0.7351 - val_loss: 1.0933 - val_accuracy: 0.6440\n",
            "Epoch 13/15\n",
            "563/563 [==============================] - 7s 13ms/step - loss: 0.7154 - accuracy: 0.7498 - val_loss: 1.1532 - val_accuracy: 0.6308\n",
            "Epoch 14/15\n",
            "563/563 [==============================] - 7s 13ms/step - loss: 0.6831 - accuracy: 0.7618 - val_loss: 1.1607 - val_accuracy: 0.6352\n",
            "Epoch 15/15\n",
            "563/563 [==============================] - 7s 12ms/step - loss: 0.6399 - accuracy: 0.7771 - val_loss: 1.2195 - val_accuracy: 0.6339\n",
            "running time is 2.38 minutes\n"
          ]
        }
      ]
    },
    {
      "cell_type": "code",
      "source": [
        "drawplot(\"3layer-COV without regularization\",trained_model_3layer)"
      ],
      "metadata": {
        "colab": {
          "base_uri": "https://localhost:8080/",
          "height": 295
        },
        "id": "8z5vee7oXJ5K",
        "outputId": "17ea7fb9-d57a-4fac-c786-535393d16176"
      },
      "execution_count": null,
      "outputs": [
        {
          "output_type": "display_data",
          "data": {
            "image/png": "[encoded data removed]",
            "text/plain": [
              "<Figure size 432x288 with 1 Axes>"
            ]
          },
          "metadata": {
            "needs_background": "light"
          }
        }
      ]
    },
    {
      "cell_type": "markdown",
      "source": [
        "\n",
        "\n",
        "*   with L2 regularization lambda=0.00005\n",
        "4. one convolutional layer with L2 regularization \n",
        "\n",
        "\n",
        "\n",
        "\n"
      ],
      "metadata": {
        "id": "yKUgb9K5YdV3"
      }
    },
    {
      "cell_type": "code",
      "source": [
        "from keras import Sequential\n",
        "from keras.layers import Dense, Conv2D, Flatten, MaxPooling2D\n",
        "import time\n",
        "from keras import regularizers\n",
        "model = Sequential()\n",
        "\n",
        "model.add(Conv2D(64, kernel_size = 3, activation = \"relu\", input_shape = (32, 32, 3),kernel_regularizer=regularizers.l2(0.00005)))\n",
        "model.add(MaxPooling2D(pool_size = (2,2)))\n",
        "model.add(Flatten())\n",
        "model.add(Dense(128, activation = \"relu\",kernel_regularizer=regularizers.l2(0.00005)))\n",
        "model.add(Dense(10, activation = \"softmax\"))\n",
        "\n",
        "model.summary()\n",
        "\n",
        "model.compile(loss = \"categorical_crossentropy\", optimizer= \"adam\", metrics = [\"accuracy\"])\n",
        "start=time.time()\n",
        "trained_model_1layer_L2 = model.fit(trainx,trainy, epochs = 15, batch_size = 64, validation_data=(x_val,y_val),shuffle=True)\n",
        "end=time.time()\n",
        "runtime=(end-start)/60\n",
        "print(\"running time is %.2f minutes\"%runtime)"
      ],
      "metadata": {
        "colab": {
          "base_uri": "https://localhost:8080/"
        },
        "id": "yjhHDVrEIXiI",
        "outputId": "0587266b-9191-4dc9-ff3e-d840bbc2be3b"
      },
      "execution_count": null,
      "outputs": [
        {
          "output_type": "stream",
          "name": "stdout",
          "text": [
            "Model: \"sequential_13\"\n",
            "_________________________________________________________________\n",
            " Layer (type)                Output Shape              Param #   \n",
            "=================================================================\n",
            " conv2d_21 (Conv2D)          (None, 30, 30, 64)        1792      \n",
            "                                                                 \n",
            " max_pooling2d_21 (MaxPoolin  (None, 15, 15, 64)       0         \n",
            " g2D)                                                            \n",
            "                                                                 \n",
            " flatten_12 (Flatten)        (None, 14400)             0         \n",
            "                                                                 \n",
            " dense_24 (Dense)            (None, 128)               1843328   \n",
            "                                                                 \n",
            " dense_25 (Dense)            (None, 10)                1290      \n",
            "                                                                 \n",
            "=================================================================\n",
            "Total params: 1,846,410\n",
            "Trainable params: 1,846,410\n",
            "Non-trainable params: 0\n",
            "_________________________________________________________________\n",
            "Epoch 1/15\n",
            "563/563 [==============================] - 7s 11ms/step - loss: 9.5260 - accuracy: 0.3312 - val_loss: 1.6122 - val_accuracy: 0.4359\n",
            "Epoch 2/15\n",
            "563/563 [==============================] - 6s 11ms/step - loss: 1.4259 - accuracy: 0.5082 - val_loss: 1.5682 - val_accuracy: 0.4754\n",
            "Epoch 3/15\n",
            "563/563 [==============================] - 6s 11ms/step - loss: 1.1616 - accuracy: 0.6054 - val_loss: 1.5475 - val_accuracy: 0.4974\n",
            "Epoch 4/15\n",
            "563/563 [==============================] - 6s 10ms/step - loss: 0.9461 - accuracy: 0.6847 - val_loss: 1.6387 - val_accuracy: 0.5067\n",
            "Epoch 5/15\n",
            "563/563 [==============================] - 5s 10ms/step - loss: 0.7739 - accuracy: 0.7476 - val_loss: 1.7469 - val_accuracy: 0.5173\n",
            "Epoch 6/15\n",
            "563/563 [==============================] - 5s 10ms/step - loss: 0.6238 - accuracy: 0.8092 - val_loss: 1.9700 - val_accuracy: 0.5095\n",
            "Epoch 7/15\n",
            "563/563 [==============================] - 5s 10ms/step - loss: 0.5283 - accuracy: 0.8447 - val_loss: 2.2081 - val_accuracy: 0.5131\n",
            "Epoch 8/15\n",
            "563/563 [==============================] - 5s 10ms/step - loss: 0.4713 - accuracy: 0.8700 - val_loss: 2.4591 - val_accuracy: 0.5079\n",
            "Epoch 9/15\n",
            "563/563 [==============================] - 5s 9ms/step - loss: 0.4329 - accuracy: 0.8874 - val_loss: 2.7479 - val_accuracy: 0.5148\n",
            "Epoch 10/15\n",
            "563/563 [==============================] - 5s 10ms/step - loss: 0.4273 - accuracy: 0.8928 - val_loss: 2.9441 - val_accuracy: 0.5078\n",
            "Epoch 11/15\n",
            "563/563 [==============================] - 5s 10ms/step - loss: 0.4087 - accuracy: 0.9046 - val_loss: 3.3886 - val_accuracy: 0.4859\n",
            "Epoch 12/15\n",
            "563/563 [==============================] - 5s 10ms/step - loss: 0.3776 - accuracy: 0.9198 - val_loss: 3.2866 - val_accuracy: 0.4947\n",
            "Epoch 13/15\n",
            "563/563 [==============================] - 5s 10ms/step - loss: 0.4041 - accuracy: 0.9159 - val_loss: 3.3482 - val_accuracy: 0.5074\n",
            "Epoch 14/15\n",
            "563/563 [==============================] - 5s 9ms/step - loss: 0.3731 - accuracy: 0.9300 - val_loss: 3.5974 - val_accuracy: 0.5151\n",
            "Epoch 15/15\n",
            "563/563 [==============================] - 5s 10ms/step - loss: 0.3700 - accuracy: 0.9336 - val_loss: 3.5245 - val_accuracy: 0.5053\n",
            "running time is 2.39 minutes\n"
          ]
        }
      ]
    },
    {
      "cell_type": "code",
      "source": [
        "drawplot(\"1-CONV layer with regularization\",trained_model_1layer_L2)"
      ],
      "metadata": {
        "colab": {
          "base_uri": "https://localhost:8080/",
          "height": 295
        },
        "id": "-sjCM1KUZi2G",
        "outputId": "a5b8f910-e199-42db-9861-8c2310fe46c9"
      },
      "execution_count": null,
      "outputs": [
        {
          "output_type": "display_data",
          "data": {
            "image/png": "[encoded data removed]",
            "text/plain": [
              "<Figure size 432x288 with 1 Axes>"
            ]
          },
          "metadata": {
            "needs_background": "light"
          }
        }
      ]
    },
    {
      "cell_type": "markdown",
      "source": [
        "5.2-layer convolutional layers with regularization"
      ],
      "metadata": {
        "id": "EYoEn3YGaHyM"
      }
    },
    {
      "cell_type": "code",
      "source": [
        "#model 2 one-layer with L2 regularization\n",
        "from keras import regularizers\n",
        "model = Sequential()\n",
        "\n",
        "model.add(Conv2D(64, kernel_size = 3, activation = \"relu\", input_shape = (32, 32, 3),kernel_regularizer=regularizers.l2(0.00005)))\n",
        "model.add(MaxPooling2D(pool_size = (2,2)))\n",
        "model.add(Conv2D(64, kernel_size = 3, activation = \"relu\",kernel_regularizer=regularizers.l2(0.00005)))\n",
        "model.add(MaxPooling2D(pool_size = (2,2)))\n",
        "model.add(Flatten())\n",
        "model.add(Dense(128, activation = \"relu\",kernel_regularizer=regularizers.l2(0.00005)))\n",
        "model.add(Dense(10, activation = \"softmax\"))\n",
        "\n",
        "model.summary()\n",
        "\n",
        "model.compile(loss = \"categorical_crossentropy\", optimizer= \"adam\", metrics = [\"accuracy\"])\n",
        "start=time.time()\n",
        "trained_model_2layer_L2 = model.fit(trainx,trainy, epochs = 15, batch_size = 64, validation_data=(x_val,y_val),shuffle=True)\n",
        "end=time.time()\n",
        "runtime=(end-start)/60\n",
        "print(\"running time is %.2f minutes\"%runtime)"
      ],
      "metadata": {
        "colab": {
          "base_uri": "https://localhost:8080/"
        },
        "id": "H-l5xv4XQs5z",
        "outputId": "6627bf82-e294-49ee-a0d0-0a7e8d39dd7e"
      },
      "execution_count": null,
      "outputs": [
        {
          "output_type": "stream",
          "name": "stdout",
          "text": [
            "Model: \"sequential_14\"\n",
            "_________________________________________________________________\n",
            " Layer (type)                Output Shape              Param #   \n",
            "=================================================================\n",
            " conv2d_22 (Conv2D)          (None, 30, 30, 64)        1792      \n",
            "                                                                 \n",
            " max_pooling2d_22 (MaxPoolin  (None, 15, 15, 64)       0         \n",
            " g2D)                                                            \n",
            "                                                                 \n",
            " conv2d_23 (Conv2D)          (None, 13, 13, 64)        36928     \n",
            "                                                                 \n",
            " max_pooling2d_23 (MaxPoolin  (None, 6, 6, 64)         0         \n",
            " g2D)                                                            \n",
            "                                                                 \n",
            " flatten_13 (Flatten)        (None, 2304)              0         \n",
            "                                                                 \n",
            " dense_26 (Dense)            (None, 128)               295040    \n",
            "                                                                 \n",
            " dense_27 (Dense)            (None, 10)                1290      \n",
            "                                                                 \n",
            "=================================================================\n",
            "Total params: 335,050\n",
            "Trainable params: 335,050\n",
            "Non-trainable params: 0\n",
            "_________________________________________________________________\n",
            "Epoch 1/15\n",
            "563/563 [==============================] - 8s 12ms/step - loss: 2.8015 - accuracy: 0.2662 - val_loss: 1.7961 - val_accuracy: 0.3531\n",
            "Epoch 2/15\n",
            "563/563 [==============================] - 7s 13ms/step - loss: 1.6261 - accuracy: 0.4178 - val_loss: 1.5357 - val_accuracy: 0.4497\n",
            "Epoch 3/15\n",
            "563/563 [==============================] - 8s 14ms/step - loss: 1.4378 - accuracy: 0.4920 - val_loss: 1.3898 - val_accuracy: 0.5063\n",
            "Epoch 4/15\n",
            "563/563 [==============================] - 7s 12ms/step - loss: 1.2794 - accuracy: 0.5513 - val_loss: 1.3244 - val_accuracy: 0.5379\n",
            "Epoch 5/15\n",
            "563/563 [==============================] - 7s 12ms/step - loss: 1.1444 - accuracy: 0.6029 - val_loss: 1.2704 - val_accuracy: 0.5744\n",
            "Epoch 6/15\n",
            "563/563 [==============================] - 7s 12ms/step - loss: 1.0198 - accuracy: 0.6492 - val_loss: 1.2732 - val_accuracy: 0.5833\n",
            "Epoch 7/15\n",
            "563/563 [==============================] - 7s 12ms/step - loss: 0.9070 - accuracy: 0.6935 - val_loss: 1.3660 - val_accuracy: 0.5729\n",
            "Epoch 8/15\n",
            "563/563 [==============================] - 6s 12ms/step - loss: 0.8043 - accuracy: 0.7302 - val_loss: 1.3334 - val_accuracy: 0.5905\n",
            "Epoch 9/15\n",
            "563/563 [==============================] - 6s 11ms/step - loss: 0.7140 - accuracy: 0.7620 - val_loss: 1.4292 - val_accuracy: 0.5947\n",
            "Epoch 10/15\n",
            "563/563 [==============================] - 7s 12ms/step - loss: 0.6353 - accuracy: 0.7927 - val_loss: 1.5483 - val_accuracy: 0.5786\n",
            "Epoch 11/15\n",
            "563/563 [==============================] - 7s 12ms/step - loss: 0.5531 - accuracy: 0.8240 - val_loss: 1.5911 - val_accuracy: 0.6019\n",
            "Epoch 12/15\n",
            "563/563 [==============================] - 7s 12ms/step - loss: 0.4872 - accuracy: 0.8500 - val_loss: 1.7462 - val_accuracy: 0.5971\n",
            "Epoch 13/15\n",
            "563/563 [==============================] - 6s 11ms/step - loss: 0.4431 - accuracy: 0.8671 - val_loss: 1.8140 - val_accuracy: 0.6098\n",
            "Epoch 14/15\n",
            "563/563 [==============================] - 7s 12ms/step - loss: 0.4029 - accuracy: 0.8827 - val_loss: 2.0292 - val_accuracy: 0.5901\n",
            "Epoch 15/15\n",
            "563/563 [==============================] - 7s 12ms/step - loss: 0.3901 - accuracy: 0.8907 - val_loss: 2.0516 - val_accuracy: 0.6022\n",
            "running time is 1.72 minutes\n"
          ]
        }
      ]
    },
    {
      "cell_type": "code",
      "source": [
        "drawplot(\"2 CONV layers with L2 regularization\",trained_model_2layer_L2)"
      ],
      "metadata": {
        "colab": {
          "base_uri": "https://localhost:8080/",
          "height": 295
        },
        "id": "Ouv6zOIGbJ9g",
        "outputId": "8e1ec600-725d-49b9-b6db-00974fc3eada"
      },
      "execution_count": null,
      "outputs": [
        {
          "output_type": "display_data",
          "data": {
            "image/png": "[encoded data removed]",
            "text/plain": [
              "<Figure size 432x288 with 1 Axes>"
            ]
          },
          "metadata": {
            "needs_background": "light"
          }
        }
      ]
    },
    {
      "cell_type": "markdown",
      "source": [
        "6. 3-layer convolutional layers with regularization"
      ],
      "metadata": {
        "id": "QIEYXPkFccy_"
      }
    },
    {
      "cell_type": "code",
      "source": [
        "model = Sequential()\n",
        "\n",
        "model.add(Conv2D(64, kernel_size = 3, activation = \"relu\", input_shape = (32, 32, 3),kernel_regularizer=regularizers.l2(0.00005)))\n",
        "model.add(MaxPooling2D(pool_size = (2,2)))\n",
        "model.add(Conv2D(64, kernel_size = 3, activation = \"relu\", kernel_regularizer=regularizers.l2(0.00005)))\n",
        "model.add(MaxPooling2D(pool_size = (2,2)))\n",
        "model.add(Conv2D(64, kernel_size = 3, activation = \"relu\", kernel_regularizer=regularizers.l2(0.00005)))\n",
        "model.add(MaxPooling2D(pool_size = (2,2)))\n",
        "model.add(Flatten())\n",
        "model.add(Dense(128, activation = \"relu\",kernel_regularizer=regularizers.l2(0.00005)))\n",
        "model.add(Dense(10, activation = \"softmax\"))\n",
        "\n",
        "model.summary()\n",
        "\n",
        "model.compile(loss = \"categorical_crossentropy\", optimizer= \"adam\", metrics = [\"accuracy\"])\n",
        "start=time.time()\n",
        "trained_model_3layer_L2 = model.fit(trainx,trainy, epochs = 15, batch_size = 64, validation_data=(x_val,y_val),shuffle=True)\n",
        "end=time.time()\n",
        "runtime=(end-start)/60\n",
        "print(\"running time is %.2f minutes\"%runtime)"
      ],
      "metadata": {
        "colab": {
          "base_uri": "https://localhost:8080/"
        },
        "id": "6TaurlXnoFTB",
        "outputId": "80ec1b87-1c7d-43e6-fe8f-fedc153854ee"
      },
      "execution_count": null,
      "outputs": [
        {
          "output_type": "stream",
          "name": "stdout",
          "text": [
            "Model: \"sequential_14\"\n",
            "_________________________________________________________________\n",
            " Layer (type)                Output Shape              Param #   \n",
            "=================================================================\n",
            " conv2d_21 (Conv2D)          (None, 30, 30, 64)        1792      \n",
            "                                                                 \n",
            " max_pooling2d_21 (MaxPoolin  (None, 15, 15, 64)       0         \n",
            " g2D)                                                            \n",
            "                                                                 \n",
            " conv2d_22 (Conv2D)          (None, 13, 13, 64)        36928     \n",
            "                                                                 \n",
            " max_pooling2d_22 (MaxPoolin  (None, 6, 6, 64)         0         \n",
            " g2D)                                                            \n",
            "                                                                 \n",
            " conv2d_23 (Conv2D)          (None, 4, 4, 64)          36928     \n",
            "                                                                 \n",
            " max_pooling2d_23 (MaxPoolin  (None, 2, 2, 64)         0         \n",
            " g2D)                                                            \n",
            "                                                                 \n",
            " flatten_14 (Flatten)        (None, 256)               0         \n",
            "                                                                 \n",
            " dense_28 (Dense)            (None, 128)               32896     \n",
            "                                                                 \n",
            " dense_29 (Dense)            (None, 10)                1290      \n",
            "                                                                 \n",
            "=================================================================\n",
            "Total params: 109,834\n",
            "Trainable params: 109,834\n",
            "Non-trainable params: 0\n",
            "_________________________________________________________________\n",
            "Epoch 1/15\n",
            "563/563 [==============================] - 9s 14ms/step - loss: 2.3781 - accuracy: 0.3347 - val_loss: 1.5993 - val_accuracy: 0.4148\n",
            "Epoch 2/15\n",
            "563/563 [==============================] - 8s 14ms/step - loss: 1.4824 - accuracy: 0.4711 - val_loss: 1.4412 - val_accuracy: 0.4767\n",
            "Epoch 3/15\n",
            "563/563 [==============================] - 8s 14ms/step - loss: 1.3384 - accuracy: 0.5285 - val_loss: 1.4080 - val_accuracy: 0.4967\n",
            "Epoch 4/15\n",
            "563/563 [==============================] - 8s 13ms/step - loss: 1.2447 - accuracy: 0.5638 - val_loss: 1.3086 - val_accuracy: 0.5441\n",
            "Epoch 5/15\n",
            "563/563 [==============================] - 8s 13ms/step - loss: 1.1572 - accuracy: 0.5998 - val_loss: 1.2106 - val_accuracy: 0.5817\n",
            "Epoch 6/15\n",
            "563/563 [==============================] - 8s 13ms/step - loss: 1.0920 - accuracy: 0.6214 - val_loss: 1.1996 - val_accuracy: 0.5932\n",
            "Epoch 7/15\n",
            "563/563 [==============================] - 8s 14ms/step - loss: 1.0244 - accuracy: 0.6474 - val_loss: 1.1242 - val_accuracy: 0.6153\n",
            "Epoch 8/15\n",
            "563/563 [==============================] - 7s 13ms/step - loss: 0.9762 - accuracy: 0.6650 - val_loss: 1.1050 - val_accuracy: 0.6187\n",
            "Epoch 9/15\n",
            "563/563 [==============================] - 8s 14ms/step - loss: 0.9187 - accuracy: 0.6839 - val_loss: 1.1117 - val_accuracy: 0.6302\n",
            "Epoch 10/15\n",
            "563/563 [==============================] - 7s 13ms/step - loss: 0.8718 - accuracy: 0.7000 - val_loss: 1.0866 - val_accuracy: 0.6395\n",
            "Epoch 11/15\n",
            "563/563 [==============================] - 7s 13ms/step - loss: 0.8248 - accuracy: 0.7190 - val_loss: 1.2001 - val_accuracy: 0.6128\n",
            "Epoch 12/15\n",
            "563/563 [==============================] - 7s 13ms/step - loss: 0.7967 - accuracy: 0.7297 - val_loss: 1.0781 - val_accuracy: 0.6476\n",
            "Epoch 13/15\n",
            "563/563 [==============================] - 7s 13ms/step - loss: 0.7562 - accuracy: 0.7446 - val_loss: 1.2016 - val_accuracy: 0.6152\n",
            "Epoch 14/15\n",
            "563/563 [==============================] - 7s 13ms/step - loss: 0.7235 - accuracy: 0.7565 - val_loss: 1.1452 - val_accuracy: 0.6450\n",
            "Epoch 15/15\n",
            "563/563 [==============================] - 7s 13ms/step - loss: 0.6783 - accuracy: 0.7686 - val_loss: 1.1684 - val_accuracy: 0.6499\n",
            "running time is 2.38 minutes\n"
          ]
        }
      ]
    },
    {
      "cell_type": "code",
      "source": [
        "plt.plot(trained_model_3layer_L2.history[\"accuracy\"], color =\"green\", label = \"train-accuracy\")\n",
        "\n",
        "# plt.plot(trained_model_base.history[\"val_loss\"], color =\"red\", label = \"base-test\")\n",
        "plt.plot(trained_model_3layer_L2.history[\"val_accuracy\"], color =\"orange\", label = \"val_accuracy\")\n",
        "\n",
        "plt.title(\"the 3-conv layer model with L2 regularazation\")\n",
        "plt.ylabel(\"Accuracy\")\n",
        "plt.xlabel(\"Number of epochs\")\n",
        "plt.legend()\n",
        "plt.show()"
      ],
      "metadata": {
        "colab": {
          "base_uri": "https://localhost:8080/",
          "height": 295
        },
        "id": "kZV7n5TSTHaB",
        "outputId": "6e6408f3-d99d-4ebf-e34a-b476bbe15eb7"
      },
      "execution_count": null,
      "outputs": [
        {
          "output_type": "display_data",
          "data": {
            "image/png": "[encoded data removed]",
            "text/plain": [
              "<Figure size 432x288 with 1 Axes>"
            ]
          },
          "metadata": {
            "needs_background": "light"
          }
        }
      ]
    },
    {
      "cell_type": "markdown",
      "source": [
        "\n",
        "\n",
        "*  Drop out with doup out rate=0.1\n",
        "\n",
        "7. 1 layer convolutional layer with dropout\n",
        "\n"
      ],
      "metadata": {
        "id": "nz9oT_9Ncpgh"
      }
    },
    {
      "cell_type": "code",
      "source": [
        "# single convolutional layer with dropout\n",
        "from keras import Sequential\n",
        "from keras.layers import Dense, Conv2D, Flatten, MaxPooling2D\n",
        "import time\n",
        "from tensorflow.python.keras.layers.core import Dropout\n",
        "model = Sequential()\n",
        "\n",
        "model.add(Conv2D(64, kernel_size = 3, activation = \"relu\", input_shape = (32, 32, 3)))\n",
        "model.add(MaxPooling2D(pool_size = (2,2)))\n",
        "model.add(Dropout(0.1))\n",
        "model.add(Flatten())\n",
        "model.add(Dense(128, activation = \"relu\"))\n",
        "model.add(Dropout(0.1))\n",
        "model.add(Dense(10, activation = \"softmax\"))\n",
        "\n",
        "model.summary()\n",
        "\n",
        "model.compile(loss = \"categorical_crossentropy\", optimizer= \"adam\", metrics = [\"accuracy\"])\n",
        "start=time.time()\n",
        "trained_model_base_dp = model.fit(trainx,trainy, epochs = 15, batch_size = 64, validation_data=(x_val,y_val),shuffle=True)\n",
        "end=time.time()\n",
        "runtime=(end-start)/60\n",
        "print(\"running time is %.2f minutes\"%runtime)"
      ],
      "metadata": {
        "id": "mYagxV3HX7zh",
        "colab": {
          "base_uri": "https://localhost:8080/"
        },
        "outputId": "4c0b7926-ebee-4998-acb2-b438389a843c"
      },
      "execution_count": null,
      "outputs": [
        {
          "output_type": "stream",
          "name": "stdout",
          "text": [
            "Model: \"sequential_3\"\n",
            "_________________________________________________________________\n",
            " Layer (type)                Output Shape              Param #   \n",
            "=================================================================\n",
            " conv2d_3 (Conv2D)           (None, 30, 30, 64)        1792      \n",
            "                                                                 \n",
            " max_pooling2d_3 (MaxPooling  (None, 15, 15, 64)       0         \n",
            " 2D)                                                             \n",
            "                                                                 \n",
            " module_wrapper (ModuleWrapp  (None, 15, 15, 64)       0         \n",
            " er)                                                             \n",
            "                                                                 \n",
            " flatten_3 (Flatten)         (None, 14400)             0         \n",
            "                                                                 \n",
            " dense_6 (Dense)             (None, 128)               1843328   \n",
            "                                                                 \n",
            " module_wrapper_1 (ModuleWra  (None, 128)              0         \n",
            " pper)                                                           \n",
            "                                                                 \n",
            " dense_7 (Dense)             (None, 10)                1290      \n",
            "                                                                 \n",
            "=================================================================\n",
            "Total params: 1,846,410\n",
            "Trainable params: 1,846,410\n",
            "Non-trainable params: 0\n",
            "_________________________________________________________________\n",
            "Epoch 1/15\n",
            "563/563 [==============================] - 7s 11ms/step - loss: 8.0635 - accuracy: 0.2407 - val_loss: 1.9285 - val_accuracy: 0.3149\n",
            "Epoch 2/15\n",
            "563/563 [==============================] - 6s 10ms/step - loss: 1.7202 - accuracy: 0.3709 - val_loss: 1.5882 - val_accuracy: 0.4384\n",
            "Epoch 3/15\n",
            "563/563 [==============================] - 6s 11ms/step - loss: 1.5193 - accuracy: 0.4584 - val_loss: 1.5167 - val_accuracy: 0.4807\n",
            "Epoch 4/15\n",
            "563/563 [==============================] - 6s 10ms/step - loss: 1.3766 - accuracy: 0.5146 - val_loss: 1.6512 - val_accuracy: 0.4541\n",
            "Epoch 5/15\n",
            "563/563 [==============================] - 6s 11ms/step - loss: 1.2679 - accuracy: 0.5555 - val_loss: 1.4003 - val_accuracy: 0.5297\n",
            "Epoch 6/15\n",
            "563/563 [==============================] - 6s 11ms/step - loss: 1.1718 - accuracy: 0.5854 - val_loss: 1.4063 - val_accuracy: 0.5263\n",
            "Epoch 7/15\n",
            "563/563 [==============================] - 6s 10ms/step - loss: 1.0944 - accuracy: 0.6114 - val_loss: 1.4724 - val_accuracy: 0.5155\n",
            "Epoch 8/15\n",
            "563/563 [==============================] - 6s 11ms/step - loss: 1.0194 - accuracy: 0.6382 - val_loss: 1.5693 - val_accuracy: 0.5114\n",
            "Epoch 9/15\n",
            "563/563 [==============================] - 6s 10ms/step - loss: 0.9696 - accuracy: 0.6579 - val_loss: 1.5052 - val_accuracy: 0.5378\n",
            "Epoch 10/15\n",
            "563/563 [==============================] - 6s 11ms/step - loss: 0.9314 - accuracy: 0.6715 - val_loss: 1.4930 - val_accuracy: 0.5361\n",
            "Epoch 11/15\n",
            "563/563 [==============================] - 6s 10ms/step - loss: 0.8666 - accuracy: 0.6966 - val_loss: 1.5400 - val_accuracy: 0.5422\n",
            "Epoch 12/15\n",
            "563/563 [==============================] - 6s 11ms/step - loss: 0.8176 - accuracy: 0.7094 - val_loss: 1.5996 - val_accuracy: 0.5438\n",
            "Epoch 13/15\n",
            "563/563 [==============================] - 6s 11ms/step - loss: 0.7859 - accuracy: 0.7236 - val_loss: 1.6299 - val_accuracy: 0.5390\n",
            "Epoch 14/15\n",
            "563/563 [==============================] - 6s 10ms/step - loss: 0.7624 - accuracy: 0.7346 - val_loss: 1.7318 - val_accuracy: 0.5197\n",
            "Epoch 15/15\n",
            "563/563 [==============================] - 6s 10ms/step - loss: 0.7340 - accuracy: 0.7425 - val_loss: 1.7959 - val_accuracy: 0.5447\n",
            "running time is 2.38 minutes\n"
          ]
        }
      ]
    },
    {
      "cell_type": "code",
      "source": [
        "drawplot(\"1-CONV layer with dropout\",trained_model_base_dp)"
      ],
      "metadata": {
        "colab": {
          "base_uri": "https://localhost:8080/",
          "height": 295
        },
        "id": "bKAjE7Myc9aL",
        "outputId": "03893c55-7337-42ce-fc43-15e86d5292f2"
      },
      "execution_count": null,
      "outputs": [
        {
          "output_type": "display_data",
          "data": {
            "image/png": "[encoded data removed]",
            "text/plain": [
              "<Figure size 432x288 with 1 Axes>"
            ]
          },
          "metadata": {
            "needs_background": "light"
          }
        }
      ]
    },
    {
      "cell_type": "markdown",
      "source": [
        "8. 2-layer with dropout"
      ],
      "metadata": {
        "id": "p6sWFXBze-7D"
      }
    },
    {
      "cell_type": "code",
      "source": [
        "# 2 convolutional layer with dropout\n",
        "from keras import Sequential\n",
        "from keras.layers import Dense, Conv2D, Flatten, MaxPooling2D\n",
        "import time\n",
        "from tensorflow.python.keras.layers.core import Dropout\n",
        "model = Sequential()\n",
        "\n",
        "model.add(Conv2D(64, kernel_size = 3, activation = \"relu\", input_shape = (32, 32, 3)))\n",
        "model.add(MaxPooling2D(pool_size = (2,2)))\n",
        "model.add(Dropout(0.1))\n",
        "model.add(Conv2D(64, kernel_size = 3, activation = \"relu\"))\n",
        "model.add(MaxPooling2D(pool_size = (2,2)))\n",
        "model.add(Dropout(0.1))\n",
        "model.add(Flatten())\n",
        "model.add(Dense(128, activation = \"relu\"))\n",
        "model.add(Dropout(0.1))\n",
        "model.add(Dense(10, activation = \"softmax\"))\n",
        "\n",
        "model.summary()\n",
        "\n",
        "model.compile(loss = \"categorical_crossentropy\", optimizer= \"adam\", metrics = [\"accuracy\"])\n",
        "start=time.time()\n",
        "trained_model_2layer_DP = model.fit(trainx,trainy, epochs = 15, batch_size = 64, validation_data=(x_val,y_val),shuffle=True)\n",
        "end=time.time()\n",
        "runtime=(end-start)/60\n",
        "print(\"running time is %.2f minutes\"%runtime)"
      ],
      "metadata": {
        "colab": {
          "base_uri": "https://localhost:8080/"
        },
        "id": "bbEzV2Dci0un",
        "outputId": "8b43a297-0732-444b-a261-df80522d8c3a"
      },
      "execution_count": null,
      "outputs": [
        {
          "output_type": "stream",
          "name": "stdout",
          "text": [
            "Model: \"sequential_4\"\n",
            "_________________________________________________________________\n",
            " Layer (type)                Output Shape              Param #   \n",
            "=================================================================\n",
            " conv2d_4 (Conv2D)           (None, 30, 30, 64)        1792      \n",
            "                                                                 \n",
            " max_pooling2d_4 (MaxPooling  (None, 15, 15, 64)       0         \n",
            " 2D)                                                             \n",
            "                                                                 \n",
            " module_wrapper_2 (ModuleWra  (None, 15, 15, 64)       0         \n",
            " pper)                                                           \n",
            "                                                                 \n",
            " conv2d_5 (Conv2D)           (None, 13, 13, 64)        36928     \n",
            "                                                                 \n",
            " max_pooling2d_5 (MaxPooling  (None, 6, 6, 64)         0         \n",
            " 2D)                                                             \n",
            "                                                                 \n",
            " module_wrapper_3 (ModuleWra  (None, 6, 6, 64)         0         \n",
            " pper)                                                           \n",
            "                                                                 \n",
            " flatten_4 (Flatten)         (None, 2304)              0         \n",
            "                                                                 \n",
            " dense_8 (Dense)             (None, 128)               295040    \n",
            "                                                                 \n",
            " module_wrapper_4 (ModuleWra  (None, 128)              0         \n",
            " pper)                                                           \n",
            "                                                                 \n",
            " dense_9 (Dense)             (None, 10)                1290      \n",
            "                                                                 \n",
            "=================================================================\n",
            "Total params: 335,050\n",
            "Trainable params: 335,050\n",
            "Non-trainable params: 0\n",
            "_________________________________________________________________\n",
            "Epoch 1/15\n",
            "563/563 [==============================] - 8s 13ms/step - loss: 2.7643 - accuracy: 0.2051 - val_loss: 1.8105 - val_accuracy: 0.3327\n",
            "Epoch 2/15\n",
            "563/563 [==============================] - 7s 12ms/step - loss: 1.6690 - accuracy: 0.3945 - val_loss: 1.4552 - val_accuracy: 0.4755\n",
            "Epoch 3/15\n",
            "563/563 [==============================] - 7s 12ms/step - loss: 1.4210 - accuracy: 0.4934 - val_loss: 1.3332 - val_accuracy: 0.5299\n",
            "Epoch 4/15\n",
            "563/563 [==============================] - 7s 13ms/step - loss: 1.2842 - accuracy: 0.5449 - val_loss: 1.2492 - val_accuracy: 0.5628\n",
            "Epoch 5/15\n",
            "563/563 [==============================] - 7s 12ms/step - loss: 1.1770 - accuracy: 0.5905 - val_loss: 1.1682 - val_accuracy: 0.5963\n",
            "Epoch 6/15\n",
            "563/563 [==============================] - 7s 12ms/step - loss: 1.0906 - accuracy: 0.6163 - val_loss: 1.1437 - val_accuracy: 0.6053\n",
            "Epoch 7/15\n",
            "563/563 [==============================] - 7s 12ms/step - loss: 1.0158 - accuracy: 0.6441 - val_loss: 1.1448 - val_accuracy: 0.6007\n",
            "Epoch 8/15\n",
            "563/563 [==============================] - 7s 13ms/step - loss: 0.9434 - accuracy: 0.6706 - val_loss: 1.0694 - val_accuracy: 0.6360\n",
            "Epoch 9/15\n",
            "563/563 [==============================] - 7s 12ms/step - loss: 0.8836 - accuracy: 0.6904 - val_loss: 1.1071 - val_accuracy: 0.6303\n",
            "Epoch 10/15\n",
            "563/563 [==============================] - 7s 12ms/step - loss: 0.8416 - accuracy: 0.7049 - val_loss: 1.1412 - val_accuracy: 0.6217\n",
            "Epoch 11/15\n",
            "563/563 [==============================] - 7s 12ms/step - loss: 0.7879 - accuracy: 0.7254 - val_loss: 1.1164 - val_accuracy: 0.6388\n",
            "Epoch 12/15\n",
            "563/563 [==============================] - 6s 11ms/step - loss: 0.7560 - accuracy: 0.7339 - val_loss: 1.0794 - val_accuracy: 0.6479\n",
            "Epoch 13/15\n",
            "563/563 [==============================] - 7s 12ms/step - loss: 0.7118 - accuracy: 0.7519 - val_loss: 1.1779 - val_accuracy: 0.6299\n",
            "Epoch 14/15\n",
            "563/563 [==============================] - 7s 12ms/step - loss: 0.6676 - accuracy: 0.7664 - val_loss: 1.1369 - val_accuracy: 0.6432\n",
            "Epoch 15/15\n",
            "563/563 [==============================] - 7s 12ms/step - loss: 0.6394 - accuracy: 0.7772 - val_loss: 1.1771 - val_accuracy: 0.6492\n",
            "running time is 1.72 minutes\n"
          ]
        }
      ]
    },
    {
      "cell_type": "code",
      "source": [
        "drawplot(\"the 2-conv model with Dropout\",trained_model_2layer_DP)"
      ],
      "metadata": {
        "colab": {
          "base_uri": "https://localhost:8080/",
          "height": 295
        },
        "id": "1t207Cf4egpb",
        "outputId": "ae2e3e7b-d19f-4bf1-b379-9924d883e3a4"
      },
      "execution_count": null,
      "outputs": [
        {
          "output_type": "display_data",
          "data": {
            "image/png": "[encoded data removed]",
            "text/plain": [
              "<Figure size 432x288 with 1 Axes>"
            ]
          },
          "metadata": {
            "needs_background": "light"
          }
        }
      ]
    },
    {
      "cell_type": "markdown",
      "source": [
        "9. 3-CONV layer with dropout"
      ],
      "metadata": {
        "id": "8KeXoKjZfH-X"
      }
    },
    {
      "cell_type": "code",
      "source": [
        "model = Sequential()\n",
        "\n",
        "model.add(Conv2D(64, kernel_size = 3, activation = \"relu\", input_shape = (32, 32, 3)))\n",
        "model.add(MaxPooling2D(pool_size = (2,2)))\n",
        "model.add(Dropout(0.1))\n",
        "model.add(Conv2D(64, kernel_size = 3, activation = \"relu\"))\n",
        "model.add(MaxPooling2D(pool_size = (2,2)))\n",
        "model.add(Dropout(0.1))\n",
        "model.add(Conv2D(64, kernel_size = 3, activation = \"relu\"))\n",
        "model.add(MaxPooling2D(pool_size = (2,2)))\n",
        "model.add(Dropout(0.1))\n",
        "model.add(Flatten())\n",
        "model.add(Dense(128, activation = \"relu\"))\n",
        "model.add(Dropout(0.1))\n",
        "model.add(Dense(10, activation = \"softmax\"))\n",
        "\n",
        "model.summary()\n",
        "\n",
        "model.compile(loss = \"categorical_crossentropy\", optimizer= \"adam\", metrics = [\"accuracy\"])\n",
        "start=time.time()\n",
        "trained_model_3layer_DP = model.fit(trainx,trainy, epochs = 15, batch_size = 64, validation_data=(x_val,y_val),shuffle=True)\n",
        "end=time.time()\n",
        "runtime=(end-start)/60\n",
        "print(\"running time is %.2f minutes\"%runtime)"
      ],
      "metadata": {
        "colab": {
          "base_uri": "https://localhost:8080/"
        },
        "id": "FVCX4qhZpBCM",
        "outputId": "2bbda66e-b628-44d6-9688-dbcbb1a7e8cc"
      },
      "execution_count": null,
      "outputs": [
        {
          "output_type": "stream",
          "name": "stdout",
          "text": [
            "Model: \"sequential_15\"\n",
            "_________________________________________________________________\n",
            " Layer (type)                Output Shape              Param #   \n",
            "=================================================================\n",
            " conv2d_24 (Conv2D)          (None, 30, 30, 64)        1792      \n",
            "                                                                 \n",
            " max_pooling2d_24 (MaxPoolin  (None, 15, 15, 64)       0         \n",
            " g2D)                                                            \n",
            "                                                                 \n",
            " module_wrapper_19 (ModuleWr  (None, 15, 15, 64)       0         \n",
            " apper)                                                          \n",
            "                                                                 \n",
            " conv2d_25 (Conv2D)          (None, 13, 13, 64)        36928     \n",
            "                                                                 \n",
            " max_pooling2d_25 (MaxPoolin  (None, 6, 6, 64)         0         \n",
            " g2D)                                                            \n",
            "                                                                 \n",
            " module_wrapper_20 (ModuleWr  (None, 6, 6, 64)         0         \n",
            " apper)                                                          \n",
            "                                                                 \n",
            " conv2d_26 (Conv2D)          (None, 4, 4, 64)          36928     \n",
            "                                                                 \n",
            " max_pooling2d_26 (MaxPoolin  (None, 2, 2, 64)         0         \n",
            " g2D)                                                            \n",
            "                                                                 \n",
            " module_wrapper_21 (ModuleWr  (None, 2, 2, 64)         0         \n",
            " apper)                                                          \n",
            "                                                                 \n",
            " flatten_15 (Flatten)        (None, 256)               0         \n",
            "                                                                 \n",
            " dense_30 (Dense)            (None, 128)               32896     \n",
            "                                                                 \n",
            " module_wrapper_22 (ModuleWr  (None, 128)              0         \n",
            " apper)                                                          \n",
            "                                                                 \n",
            " dense_31 (Dense)            (None, 10)                1290      \n",
            "                                                                 \n",
            "=================================================================\n",
            "Total params: 109,834\n",
            "Trainable params: 109,834\n",
            "Non-trainable params: 0\n",
            "_________________________________________________________________\n",
            "Epoch 1/15\n",
            "563/563 [==============================] - 9s 14ms/step - loss: 2.4236 - accuracy: 0.2701 - val_loss: 1.6487 - val_accuracy: 0.4087\n",
            "Epoch 2/15\n",
            "563/563 [==============================] - 8s 13ms/step - loss: 1.6207 - accuracy: 0.4050 - val_loss: 1.4775 - val_accuracy: 0.4670\n",
            "Epoch 3/15\n",
            "563/563 [==============================] - 8s 14ms/step - loss: 1.4830 - accuracy: 0.4644 - val_loss: 1.4017 - val_accuracy: 0.4939\n",
            "Epoch 4/15\n",
            "563/563 [==============================] - 8s 14ms/step - loss: 1.3964 - accuracy: 0.5002 - val_loss: 1.2969 - val_accuracy: 0.5420\n",
            "Epoch 5/15\n",
            "563/563 [==============================] - 8s 13ms/step - loss: 1.3221 - accuracy: 0.5314 - val_loss: 1.2175 - val_accuracy: 0.5656\n",
            "Epoch 6/15\n",
            "563/563 [==============================] - 8s 14ms/step - loss: 1.2735 - accuracy: 0.5496 - val_loss: 1.1830 - val_accuracy: 0.5817\n",
            "Epoch 7/15\n",
            "563/563 [==============================] - 8s 14ms/step - loss: 1.2154 - accuracy: 0.5695 - val_loss: 1.1382 - val_accuracy: 0.5968\n",
            "Epoch 8/15\n",
            "563/563 [==============================] - 8s 14ms/step - loss: 1.1766 - accuracy: 0.5856 - val_loss: 1.1967 - val_accuracy: 0.5803\n",
            "Epoch 9/15\n",
            "563/563 [==============================] - 8s 14ms/step - loss: 1.1256 - accuracy: 0.6021 - val_loss: 1.0686 - val_accuracy: 0.6242\n",
            "Epoch 10/15\n",
            "563/563 [==============================] - 8s 14ms/step - loss: 1.0923 - accuracy: 0.6166 - val_loss: 1.0793 - val_accuracy: 0.6175\n",
            "Epoch 11/15\n",
            "563/563 [==============================] - 8s 14ms/step - loss: 1.0554 - accuracy: 0.6307 - val_loss: 1.0183 - val_accuracy: 0.6434\n",
            "Epoch 12/15\n",
            "563/563 [==============================] - 8s 14ms/step - loss: 1.0235 - accuracy: 0.6396 - val_loss: 1.0503 - val_accuracy: 0.6330\n",
            "Epoch 13/15\n",
            "563/563 [==============================] - 7s 13ms/step - loss: 1.0021 - accuracy: 0.6482 - val_loss: 1.0673 - val_accuracy: 0.6213\n",
            "Epoch 14/15\n",
            "563/563 [==============================] - 8s 14ms/step - loss: 0.9902 - accuracy: 0.6524 - val_loss: 1.0003 - val_accuracy: 0.6506\n",
            "Epoch 15/15\n",
            "563/563 [==============================] - 7s 13ms/step - loss: 0.9565 - accuracy: 0.6673 - val_loss: 0.9858 - val_accuracy: 0.6622\n",
            "running time is 1.96 minutes\n"
          ]
        }
      ]
    },
    {
      "cell_type": "code",
      "source": [
        "plt.plot(trained_model_3layer_DP.history[\"accuracy\"], color =\"green\", label = \"train-accuracy\")\n",
        "\n",
        "# plt.plot(trained_model_base.history[\"val_loss\"], color =\"red\", label = \"base-test\")\n",
        "plt.plot(trained_model_3layer_DP.history[\"val_accuracy\"], color =\"orange\", label = \"val_accuracy\")\n",
        "\n",
        "plt.title(\"the 3-conv model with Dropout\")\n",
        "plt.ylabel(\"Accuracy\")\n",
        "plt.xlabel(\"Number of epochs\")\n",
        "plt.legend()\n",
        "plt.show()"
      ],
      "metadata": {
        "colab": {
          "base_uri": "https://localhost:8080/",
          "height": 295
        },
        "id": "K17RLfS2cjq6",
        "outputId": "d98f4137-696e-4acc-cb67-869a8ef2eb1d"
      },
      "execution_count": null,
      "outputs": [
        {
          "output_type": "display_data",
          "data": {
            "image/png": "[encoded data removed]",
            "text/plain": [
              "<Figure size 432x288 with 1 Axes>"
            ]
          },
          "metadata": {
            "needs_background": "light"
          }
        }
      ]
    },
    {
      "cell_type": "markdown",
      "source": [
        "\n",
        "\n",
        "*   batch normalization\n",
        "10. 1-layer CONV with batch normalization\n",
        "\n"
      ],
      "metadata": {
        "id": "IoJDe62BgDM3"
      }
    },
    {
      "cell_type": "code",
      "source": [
        "#10 1 layer Batch Normalization\n",
        "\n",
        "from keras import regularizers\n",
        "from tensorflow.python.keras.layers.normalization.batch_normalization import BatchNormalization\n",
        "\n",
        "model = Sequential()\n",
        "\n",
        "model.add(Conv2D(64, kernel_size = 3, activation = \"relu\", input_shape = (32, 32, 3)))\n",
        "model.add(MaxPooling2D(pool_size = (2,2)))\n",
        "model.add(BatchNormalization())\n",
        "model.add(Flatten())\n",
        "model.add(Dense(128, activation = \"relu\"))\n",
        "model.add(BatchNormalization())\n",
        "model.add(Dense(10, activation = \"softmax\"))\n",
        "\n",
        "model.summary()\n",
        "\n",
        "model.compile(loss = \"categorical_crossentropy\", optimizer= \"adam\", metrics = [\"accuracy\"])\n",
        "start=time.time()\n",
        "trained_model_BN = model.fit(trainx,trainy, epochs = 15, batch_size = 64, validation_data=(x_val,y_val),shuffle=True)\n",
        "end=time.time()\n",
        "runtime=(end-start)/60\n",
        "print(\"running time is %.2f minutes\"%runtime)"
      ],
      "metadata": {
        "id": "YAgGz-EiY513",
        "colab": {
          "base_uri": "https://localhost:8080/"
        },
        "outputId": "2a595288-e241-435a-a443-74aaa1438def"
      },
      "execution_count": null,
      "outputs": [
        {
          "output_type": "stream",
          "name": "stdout",
          "text": [
            "Model: \"sequential_15\"\n",
            "_________________________________________________________________\n",
            " Layer (type)                Output Shape              Param #   \n",
            "=================================================================\n",
            " conv2d_24 (Conv2D)          (None, 30, 30, 64)        1792      \n",
            "                                                                 \n",
            " max_pooling2d_24 (MaxPoolin  (None, 15, 15, 64)       0         \n",
            " g2D)                                                            \n",
            "                                                                 \n",
            " module_wrapper_9 (ModuleWra  (None, 15, 15, 64)       256       \n",
            " pper)                                                           \n",
            "                                                                 \n",
            " flatten_14 (Flatten)        (None, 14400)             0         \n",
            "                                                                 \n",
            " dense_28 (Dense)            (None, 128)               1843328   \n",
            "                                                                 \n",
            " module_wrapper_10 (ModuleWr  (None, 128)              512       \n",
            " apper)                                                          \n",
            "                                                                 \n",
            " dense_29 (Dense)            (None, 10)                1290      \n",
            "                                                                 \n",
            "=================================================================\n",
            "Total params: 1,847,178\n",
            "Trainable params: 1,846,794\n",
            "Non-trainable params: 384\n",
            "_________________________________________________________________\n",
            "Epoch 1/15\n",
            "563/563 [==============================] - 7s 11ms/step - loss: 1.3369 - accuracy: 0.5351 - val_loss: 1.6640 - val_accuracy: 0.4697\n",
            "Epoch 2/15\n",
            "563/563 [==============================] - 6s 11ms/step - loss: 0.9266 - accuracy: 0.6784 - val_loss: 1.1650 - val_accuracy: 0.6044\n",
            "Epoch 3/15\n",
            "563/563 [==============================] - 6s 11ms/step - loss: 0.7072 - accuracy: 0.7524 - val_loss: 2.1223 - val_accuracy: 0.4776\n",
            "Epoch 4/15\n",
            "563/563 [==============================] - 7s 12ms/step - loss: 0.5199 - accuracy: 0.8251 - val_loss: 1.2937 - val_accuracy: 0.6020\n",
            "Epoch 5/15\n",
            "563/563 [==============================] - 7s 12ms/step - loss: 0.3665 - accuracy: 0.8784 - val_loss: 1.4495 - val_accuracy: 0.5881\n",
            "Epoch 6/15\n",
            "563/563 [==============================] - 6s 11ms/step - loss: 0.2600 - accuracy: 0.9176 - val_loss: 1.5881 - val_accuracy: 0.6100\n",
            "Epoch 7/15\n",
            "563/563 [==============================] - 7s 12ms/step - loss: 0.1938 - accuracy: 0.9379 - val_loss: 1.5536 - val_accuracy: 0.6301\n",
            "Epoch 8/15\n",
            "563/563 [==============================] - 6s 11ms/step - loss: 0.1467 - accuracy: 0.9540 - val_loss: 1.5976 - val_accuracy: 0.6356\n",
            "Epoch 9/15\n",
            "563/563 [==============================] - 7s 12ms/step - loss: 0.1189 - accuracy: 0.9614 - val_loss: 1.7402 - val_accuracy: 0.6060\n",
            "Epoch 10/15\n",
            "563/563 [==============================] - 7s 12ms/step - loss: 0.1112 - accuracy: 0.9641 - val_loss: 2.1421 - val_accuracy: 0.5709\n",
            "Epoch 11/15\n",
            "563/563 [==============================] - 6s 11ms/step - loss: 0.0903 - accuracy: 0.9714 - val_loss: 2.0365 - val_accuracy: 0.5996\n",
            "Epoch 12/15\n",
            "563/563 [==============================] - 7s 12ms/step - loss: 0.0827 - accuracy: 0.9739 - val_loss: 3.0753 - val_accuracy: 0.5437\n",
            "Epoch 13/15\n",
            "563/563 [==============================] - 7s 12ms/step - loss: 0.0751 - accuracy: 0.9762 - val_loss: 1.9379 - val_accuracy: 0.6226\n",
            "Epoch 14/15\n",
            "563/563 [==============================] - 6s 11ms/step - loss: 0.0708 - accuracy: 0.9765 - val_loss: 2.0928 - val_accuracy: 0.6051\n",
            "Epoch 15/15\n",
            "563/563 [==============================] - 7s 12ms/step - loss: 0.0723 - accuracy: 0.9759 - val_loss: 2.5336 - val_accuracy: 0.5864\n",
            "running time is 1.63 minutes\n"
          ]
        }
      ]
    },
    {
      "cell_type": "code",
      "source": [
        "drawplot(\"1layer with Batch_normalization\",trained_model_BN)"
      ],
      "metadata": {
        "colab": {
          "base_uri": "https://localhost:8080/",
          "height": 295
        },
        "id": "74nVXkydg5AN",
        "outputId": "fa4eddfd-84b6-4c26-b55a-4efa2723bec0"
      },
      "execution_count": null,
      "outputs": [
        {
          "output_type": "display_data",
          "data": {
            "image/png": "[encoded data removed]",
            "text/plain": [
              "<Figure size 432x288 with 1 Axes>"
            ]
          },
          "metadata": {
            "needs_background": "light"
          }
        }
      ]
    },
    {
      "cell_type": "markdown",
      "source": [
        "11. 2-CONV layer with batch normalization"
      ],
      "metadata": {
        "id": "3GoIBP9phtWh"
      }
    },
    {
      "cell_type": "code",
      "source": [
        "\n",
        "from keras import regularizers\n",
        "from tensorflow.python.keras.layers.normalization.batch_normalization import BatchNormalization\n",
        "\n",
        "model = Sequential()\n",
        "\n",
        "model.add(Conv2D(64, kernel_size = 3, activation = \"relu\", input_shape = (32, 32, 3)))\n",
        "model.add(MaxPooling2D(pool_size = (2,2)))\n",
        "model.add(BatchNormalization())\n",
        "model.add(Conv2D(64, kernel_size = 3, activation = \"relu\"))\n",
        "model.add(MaxPooling2D(pool_size = (2,2)))\n",
        "model.add(BatchNormalization())\n",
        "model.add(Flatten())\n",
        "model.add(Dense(128, activation = \"relu\"))\n",
        "model.add(BatchNormalization())\n",
        "model.add(Dense(10, activation = \"softmax\"))\n",
        "\n",
        "model.summary()\n",
        "\n",
        "model.compile(loss = \"categorical_crossentropy\", optimizer= \"adam\", metrics = [\"accuracy\"])\n",
        "start=time.time()\n",
        "trained_model_2layer_BN = model.fit(trainx,trainy, epochs = 15, batch_size = 64, validation_data=(x_val,y_val),shuffle=True)\n",
        "end=time.time()\n",
        "runtime=(end-start)/60\n",
        "print(\"running time is %.2f minutes\"%runtime)"
      ],
      "metadata": {
        "colab": {
          "base_uri": "https://localhost:8080/"
        },
        "id": "Hn0eIv4ij5pa",
        "outputId": "36e3cbbe-b448-4da2-ec16-28add5eefc76"
      },
      "execution_count": null,
      "outputs": [
        {
          "output_type": "stream",
          "name": "stdout",
          "text": [
            "Model: \"sequential_16\"\n",
            "_________________________________________________________________\n",
            " Layer (type)                Output Shape              Param #   \n",
            "=================================================================\n",
            " conv2d_25 (Conv2D)          (None, 30, 30, 64)        1792      \n",
            "                                                                 \n",
            " max_pooling2d_25 (MaxPoolin  (None, 15, 15, 64)       0         \n",
            " g2D)                                                            \n",
            "                                                                 \n",
            " module_wrapper_11 (ModuleWr  (None, 15, 15, 64)       256       \n",
            " apper)                                                          \n",
            "                                                                 \n",
            " conv2d_26 (Conv2D)          (None, 13, 13, 64)        36928     \n",
            "                                                                 \n",
            " max_pooling2d_26 (MaxPoolin  (None, 6, 6, 64)         0         \n",
            " g2D)                                                            \n",
            "                                                                 \n",
            " module_wrapper_12 (ModuleWr  (None, 6, 6, 64)         256       \n",
            " apper)                                                          \n",
            "                                                                 \n",
            " flatten_15 (Flatten)        (None, 2304)              0         \n",
            "                                                                 \n",
            " dense_30 (Dense)            (None, 128)               295040    \n",
            "                                                                 \n",
            " module_wrapper_13 (ModuleWr  (None, 128)              512       \n",
            " apper)                                                          \n",
            "                                                                 \n",
            " dense_31 (Dense)            (None, 10)                1290      \n",
            "                                                                 \n",
            "=================================================================\n",
            "Total params: 336,074\n",
            "Trainable params: 335,562\n",
            "Non-trainable params: 512\n",
            "_________________________________________________________________\n",
            "Epoch 1/15\n",
            "563/563 [==============================] - 9s 14ms/step - loss: 1.2971 - accuracy: 0.5480 - val_loss: 1.3158 - val_accuracy: 0.5604\n",
            "Epoch 2/15\n",
            "563/563 [==============================] - 8s 13ms/step - loss: 0.9250 - accuracy: 0.6762 - val_loss: 1.1913 - val_accuracy: 0.5886\n",
            "Epoch 3/15\n",
            "563/563 [==============================] - 7s 13ms/step - loss: 0.7550 - accuracy: 0.7358 - val_loss: 0.9453 - val_accuracy: 0.6748\n",
            "Epoch 4/15\n",
            "563/563 [==============================] - 8s 13ms/step - loss: 0.6295 - accuracy: 0.7837 - val_loss: 1.0062 - val_accuracy: 0.6683\n",
            "Epoch 5/15\n",
            "563/563 [==============================] - 7s 13ms/step - loss: 0.5041 - accuracy: 0.8268 - val_loss: 1.3658 - val_accuracy: 0.5841\n",
            "Epoch 6/15\n",
            "563/563 [==============================] - 7s 13ms/step - loss: 0.4080 - accuracy: 0.8610 - val_loss: 1.2767 - val_accuracy: 0.6175\n",
            "Epoch 7/15\n",
            "563/563 [==============================] - 7s 13ms/step - loss: 0.3176 - accuracy: 0.8926 - val_loss: 1.5168 - val_accuracy: 0.5957\n",
            "Epoch 8/15\n",
            "563/563 [==============================] - 7s 13ms/step - loss: 0.2470 - accuracy: 0.9191 - val_loss: 1.2134 - val_accuracy: 0.6737\n",
            "Epoch 9/15\n",
            "563/563 [==============================] - 7s 13ms/step - loss: 0.1922 - accuracy: 0.9359 - val_loss: 1.2605 - val_accuracy: 0.6577\n",
            "Epoch 10/15\n",
            "563/563 [==============================] - 8s 13ms/step - loss: 0.1551 - accuracy: 0.9501 - val_loss: 1.6759 - val_accuracy: 0.6278\n",
            "Epoch 11/15\n",
            "563/563 [==============================] - 7s 13ms/step - loss: 0.1342 - accuracy: 0.9570 - val_loss: 1.4094 - val_accuracy: 0.6870\n",
            "Epoch 12/15\n",
            "563/563 [==============================] - 7s 12ms/step - loss: 0.1049 - accuracy: 0.9660 - val_loss: 1.3476 - val_accuracy: 0.6842\n",
            "Epoch 13/15\n",
            "563/563 [==============================] - 7s 13ms/step - loss: 0.1022 - accuracy: 0.9659 - val_loss: 1.5805 - val_accuracy: 0.6514\n",
            "Epoch 14/15\n",
            "563/563 [==============================] - 7s 12ms/step - loss: 0.0997 - accuracy: 0.9669 - val_loss: 1.9558 - val_accuracy: 0.6116\n",
            "Epoch 15/15\n",
            "563/563 [==============================] - 7s 13ms/step - loss: 0.0921 - accuracy: 0.9687 - val_loss: 1.6505 - val_accuracy: 0.6623\n",
            "running time is 2.39 minutes\n"
          ]
        }
      ]
    },
    {
      "cell_type": "code",
      "source": [
        "drawplot(\"2conv with batch_normalization\",trained_model_2layer_BN)"
      ],
      "metadata": {
        "colab": {
          "base_uri": "https://localhost:8080/",
          "height": 295
        },
        "id": "x5am-sZ8jEiR",
        "outputId": "5f10c2f5-ae38-4fe5-f739-2adf3fc97fec"
      },
      "execution_count": null,
      "outputs": [
        {
          "output_type": "display_data",
          "data": {
            "image/png": "[encoded data removed]",
            "text/plain": [
              "<Figure size 432x288 with 1 Axes>"
            ]
          },
          "metadata": {
            "needs_background": "light"
          }
        }
      ]
    },
    {
      "cell_type": "markdown",
      "source": [
        "12. 3-layer with batch normalization"
      ],
      "metadata": {
        "id": "CBCcnFb7lB-9"
      }
    },
    {
      "cell_type": "code",
      "source": [
        "from tensorflow.python.keras.layers.normalization.batch_normalization import BatchNormalization\n",
        "model = Sequential()\n",
        "\n",
        "model.add(Conv2D(64, kernel_size = 3, activation = \"relu\", input_shape = (32, 32, 3)))\n",
        "model.add(MaxPooling2D(pool_size = (2,2)))\n",
        "model.add(BatchNormalization())\n",
        "model.add(Conv2D(64, kernel_size = 3, activation = \"relu\"))\n",
        "model.add(MaxPooling2D(pool_size = (2,2)))\n",
        "model.add(BatchNormalization())\n",
        "model.add(Conv2D(64, kernel_size = 3, activation = \"relu\"))\n",
        "model.add(MaxPooling2D(pool_size = (2,2)))\n",
        "model.add(BatchNormalization())\n",
        "model.add(Flatten())\n",
        "model.add(Dense(128, activation = \"relu\"))\n",
        "model.add(BatchNormalization())\n",
        "model.add(Dense(10, activation = \"softmax\"))\n",
        "\n",
        "model.summary()\n",
        "\n",
        "model.compile(loss = \"categorical_crossentropy\", optimizer= \"adam\", metrics = [\"accuracy\"])\n",
        "start=time.time()\n",
        "trained_model_3layer_BN = model.fit(trainx,trainy, epochs = 15, batch_size = 64, validation_data=(x_val,y_val),shuffle=True)\n",
        "end=time.time()\n",
        "runtime=(end-start)/60\n",
        "print(\"running time is %.2f minutes\"%runtime)"
      ],
      "metadata": {
        "colab": {
          "base_uri": "https://localhost:8080/"
        },
        "id": "HhuNrmhFqE8J",
        "outputId": "e515db3b-a77d-42dc-d46e-27ec9c1a1fb5"
      },
      "execution_count": null,
      "outputs": [
        {
          "output_type": "stream",
          "name": "stdout",
          "text": [
            "Model: \"sequential_7\"\n",
            "_________________________________________________________________\n",
            " Layer (type)                Output Shape              Param #   \n",
            "=================================================================\n",
            " conv2d_10 (Conv2D)          (None, 30, 30, 64)        1792      \n",
            "                                                                 \n",
            " max_pooling2d_10 (MaxPoolin  (None, 15, 15, 64)       0         \n",
            " g2D)                                                            \n",
            "                                                                 \n",
            " module_wrapper_5 (ModuleWra  (None, 15, 15, 64)       256       \n",
            " pper)                                                           \n",
            "                                                                 \n",
            " conv2d_11 (Conv2D)          (None, 13, 13, 64)        36928     \n",
            "                                                                 \n",
            " max_pooling2d_11 (MaxPoolin  (None, 6, 6, 64)         0         \n",
            " g2D)                                                            \n",
            "                                                                 \n",
            " module_wrapper_6 (ModuleWra  (None, 6, 6, 64)         256       \n",
            " pper)                                                           \n",
            "                                                                 \n",
            " conv2d_12 (Conv2D)          (None, 4, 4, 64)          36928     \n",
            "                                                                 \n",
            " max_pooling2d_12 (MaxPoolin  (None, 2, 2, 64)         0         \n",
            " g2D)                                                            \n",
            "                                                                 \n",
            " module_wrapper_7 (ModuleWra  (None, 2, 2, 64)         256       \n",
            " pper)                                                           \n",
            "                                                                 \n",
            " flatten_6 (Flatten)         (None, 256)               0         \n",
            "                                                                 \n",
            " dense_12 (Dense)            (None, 128)               32896     \n",
            "                                                                 \n",
            " module_wrapper_8 (ModuleWra  (None, 128)              512       \n",
            " pper)                                                           \n",
            "                                                                 \n",
            " dense_13 (Dense)            (None, 10)                1290      \n",
            "                                                                 \n",
            "=================================================================\n",
            "Total params: 111,114\n",
            "Trainable params: 110,474\n",
            "Non-trainable params: 640\n",
            "_________________________________________________________________\n",
            "Epoch 1/15\n",
            "563/563 [==============================] - 10s 16ms/step - loss: 1.4209 - accuracy: 0.4974 - val_loss: 1.5951 - val_accuracy: 0.4683\n",
            "Epoch 2/15\n",
            "563/563 [==============================] - 8s 15ms/step - loss: 1.0362 - accuracy: 0.6364 - val_loss: 1.1461 - val_accuracy: 0.5930\n",
            "Epoch 3/15\n",
            "563/563 [==============================] - 8s 15ms/step - loss: 0.8640 - accuracy: 0.6981 - val_loss: 1.0479 - val_accuracy: 0.6379\n",
            "Epoch 4/15\n",
            "563/563 [==============================] - 8s 15ms/step - loss: 0.7648 - accuracy: 0.7319 - val_loss: 1.0726 - val_accuracy: 0.6335\n",
            "Epoch 5/15\n",
            "563/563 [==============================] - 8s 15ms/step - loss: 0.6833 - accuracy: 0.7609 - val_loss: 1.7133 - val_accuracy: 0.4997\n",
            "Epoch 6/15\n",
            "563/563 [==============================] - 8s 14ms/step - loss: 0.6109 - accuracy: 0.7874 - val_loss: 1.0388 - val_accuracy: 0.6582\n",
            "Epoch 7/15\n",
            "563/563 [==============================] - 8s 14ms/step - loss: 0.5494 - accuracy: 0.8100 - val_loss: 1.1136 - val_accuracy: 0.6400\n",
            "Epoch 8/15\n",
            "563/563 [==============================] - 8s 14ms/step - loss: 0.4861 - accuracy: 0.8305 - val_loss: 0.8915 - val_accuracy: 0.7053\n",
            "Epoch 9/15\n",
            "563/563 [==============================] - 8s 14ms/step - loss: 0.4433 - accuracy: 0.8450 - val_loss: 0.9358 - val_accuracy: 0.7002\n",
            "Epoch 10/15\n",
            "563/563 [==============================] - 8s 14ms/step - loss: 0.3950 - accuracy: 0.8626 - val_loss: 1.0684 - val_accuracy: 0.6783\n",
            "Epoch 11/15\n",
            "563/563 [==============================] - 8s 14ms/step - loss: 0.3621 - accuracy: 0.8724 - val_loss: 1.0815 - val_accuracy: 0.6827\n",
            "Epoch 12/15\n",
            "563/563 [==============================] - 8s 14ms/step - loss: 0.3196 - accuracy: 0.8878 - val_loss: 1.1232 - val_accuracy: 0.6775\n",
            "Epoch 13/15\n",
            "563/563 [==============================] - 8s 14ms/step - loss: 0.2922 - accuracy: 0.8967 - val_loss: 1.2396 - val_accuracy: 0.6778\n",
            "Epoch 14/15\n",
            "563/563 [==============================] - 8s 14ms/step - loss: 0.2667 - accuracy: 0.9071 - val_loss: 1.2183 - val_accuracy: 0.6903\n",
            "Epoch 15/15\n",
            "563/563 [==============================] - 8s 14ms/step - loss: 0.2458 - accuracy: 0.9144 - val_loss: 1.2479 - val_accuracy: 0.6784\n",
            "running time is 2.07 minutes\n"
          ]
        }
      ]
    },
    {
      "cell_type": "code",
      "source": [
        "plt.plot(trained_model_3layer_BN.history[\"accuracy\"], color =\"green\", label = \"train-accuracy\")\n",
        "\n",
        "# plt.plot(trained_model_base.history[\"val_loss\"], color =\"red\", label = \"base-test\")\n",
        "plt.plot(trained_model_3layer_BN.history[\"val_accuracy\"], color =\"orange\", label = \"val_accuracy\")\n",
        "\n",
        "plt.title(\"the 3-layer CONV model with BatchNormalization\")\n",
        "plt.ylabel(\"Accuracy\")\n",
        "plt.xlabel(\"Number of epochs\")\n",
        "plt.legend()\n",
        "plt.show()"
      ],
      "metadata": {
        "colab": {
          "base_uri": "https://localhost:8080/",
          "height": 295
        },
        "id": "0UsDC7MsfLO-",
        "outputId": "a7629873-2f2e-4cbb-938a-081b17660365"
      },
      "execution_count": null,
      "outputs": [
        {
          "output_type": "display_data",
          "data": {
            "image/png": "[encoded data removed]",
            "text/plain": [
              "<Figure size 432x288 with 1 Axes>"
            ]
          },
          "metadata": {
            "needs_background": "light"
          }
        }
      ]
    },
    {
      "cell_type": "markdown",
      "source": [
        "\n",
        "\n",
        "*   best model with 'all' training data\n",
        "\n"
      ],
      "metadata": {
        "id": "OGzeb5LXlbvv"
      }
    },
    {
      "cell_type": "code",
      "source": [
        "model = Sequential()\n",
        "\n",
        "model.add(Conv2D(64, kernel_size = 3, activation = \"relu\", input_shape = (32, 32, 3)))\n",
        "model.add(MaxPooling2D(pool_size = (2,2)))\n",
        "model.add(BatchNormalization())\n",
        "model.add(Conv2D(64, kernel_size = 3, activation = \"relu\"))\n",
        "model.add(MaxPooling2D(pool_size = (2,2)))\n",
        "model.add(BatchNormalization())\n",
        "model.add(Conv2D(64, kernel_size = 3, activation = \"relu\"))\n",
        "model.add(MaxPooling2D(pool_size = (2,2)))\n",
        "model.add(BatchNormalization())\n",
        "model.add(Flatten())\n",
        "model.add(Dense(128, activation = \"relu\"))\n",
        "model.add(BatchNormalization())\n",
        "model.add(Dense(10, activation = \"softmax\"))\n",
        "\n",
        "model.summary()\n",
        "\n",
        "model.compile(loss = \"categorical_crossentropy\", optimizer= \"adam\", metrics = [\"accuracy\"])\n",
        "start=time.time()\n",
        "bestmodel = model.fit(x_train,y_train, epochs = 15, batch_size = 64,  shuffle=True)\n",
        "end=time.time()\n",
        "runtime=(end-start)/60\n",
        "print(\"running time is %.2f minutes\"%runtime)"
      ],
      "metadata": {
        "colab": {
          "base_uri": "https://localhost:8080/"
        },
        "id": "lMbagXMEq-7L",
        "outputId": "1281375d-0d8f-497a-8909-235d34c68b59"
      },
      "execution_count": null,
      "outputs": [
        {
          "output_type": "stream",
          "name": "stdout",
          "text": [
            "Model: \"sequential_18\"\n",
            "_________________________________________________________________\n",
            " Layer (type)                Output Shape              Param #   \n",
            "=================================================================\n",
            " conv2d_30 (Conv2D)          (None, 30, 30, 64)        1792      \n",
            "                                                                 \n",
            " max_pooling2d_30 (MaxPoolin  (None, 15, 15, 64)       0         \n",
            " g2D)                                                            \n",
            "                                                                 \n",
            " module_wrapper_18 (ModuleWr  (None, 15, 15, 64)       256       \n",
            " apper)                                                          \n",
            "                                                                 \n",
            " conv2d_31 (Conv2D)          (None, 13, 13, 64)        36928     \n",
            "                                                                 \n",
            " max_pooling2d_31 (MaxPoolin  (None, 6, 6, 64)         0         \n",
            " g2D)                                                            \n",
            "                                                                 \n",
            " module_wrapper_19 (ModuleWr  (None, 6, 6, 64)         256       \n",
            " apper)                                                          \n",
            "                                                                 \n",
            " conv2d_32 (Conv2D)          (None, 4, 4, 64)          36928     \n",
            "                                                                 \n",
            " max_pooling2d_32 (MaxPoolin  (None, 2, 2, 64)         0         \n",
            " g2D)                                                            \n",
            "                                                                 \n",
            " module_wrapper_20 (ModuleWr  (None, 2, 2, 64)         256       \n",
            " apper)                                                          \n",
            "                                                                 \n",
            " flatten_17 (Flatten)        (None, 256)               0         \n",
            "                                                                 \n",
            " dense_34 (Dense)            (None, 128)               32896     \n",
            "                                                                 \n",
            " module_wrapper_21 (ModuleWr  (None, 128)              512       \n",
            " apper)                                                          \n",
            "                                                                 \n",
            " dense_35 (Dense)            (None, 10)                1290      \n",
            "                                                                 \n",
            "=================================================================\n",
            "Total params: 111,114\n",
            "Trainable params: 110,474\n",
            "Non-trainable params: 640\n",
            "_________________________________________________________________\n",
            "Epoch 1/15\n",
            "750/750 [==============================] - 12s 15ms/step - loss: 1.3511 - accuracy: 0.5217\n",
            "Epoch 2/15\n",
            "750/750 [==============================] - 12s 16ms/step - loss: 0.9698 - accuracy: 0.6588\n",
            "Epoch 3/15\n",
            "750/750 [==============================] - 12s 16ms/step - loss: 0.8210 - accuracy: 0.7134\n",
            "Epoch 4/15\n",
            "750/750 [==============================] - 11s 15ms/step - loss: 0.7236 - accuracy: 0.7469\n",
            "Epoch 5/15\n",
            "750/750 [==============================] - 11s 15ms/step - loss: 0.6433 - accuracy: 0.7770\n",
            "Epoch 6/15\n",
            "750/750 [==============================] - 11s 15ms/step - loss: 0.5823 - accuracy: 0.7961\n",
            "Epoch 7/15\n",
            "750/750 [==============================] - 11s 15ms/step - loss: 0.5249 - accuracy: 0.8150\n",
            "Epoch 8/15\n",
            "750/750 [==============================] - 11s 15ms/step - loss: 0.4764 - accuracy: 0.8335\n",
            "Epoch 9/15\n",
            "750/750 [==============================] - 11s 15ms/step - loss: 0.4315 - accuracy: 0.8477\n",
            "Epoch 10/15\n",
            "750/750 [==============================] - 11s 15ms/step - loss: 0.3946 - accuracy: 0.8621\n",
            "Epoch 11/15\n",
            "750/750 [==============================] - 11s 15ms/step - loss: 0.3644 - accuracy: 0.8730\n",
            "Epoch 12/15\n",
            "750/750 [==============================] - 11s 15ms/step - loss: 0.3273 - accuracy: 0.8858\n",
            "Epoch 13/15\n",
            "750/750 [==============================] - 11s 15ms/step - loss: 0.3036 - accuracy: 0.8927\n",
            "Epoch 14/15\n",
            "750/750 [==============================] - 11s 15ms/step - loss: 0.2767 - accuracy: 0.9011\n",
            "Epoch 15/15\n",
            "750/750 [==============================] - 11s 15ms/step - loss: 0.2567 - accuracy: 0.9085\n",
            "running time is 3.39 minutes\n"
          ]
        }
      ]
    },
    {
      "cell_type": "code",
      "source": [
        "# evaluate on the test data \n",
        "y_test=to_categorical(y_test)\n",
        "score=model.evaluate(x_test,y_test,verbose=0)"
      ],
      "metadata": {
        "id": "e7CkQPN5tQ3r"
      },
      "execution_count": null,
      "outputs": []
    },
    {
      "cell_type": "code",
      "source": [
        "print(\"Test loss: %.4f\" % score[0])\n",
        "print(\"Test accuracy: %.2f\" % (score[1] * 100.0))"
      ],
      "metadata": {
        "colab": {
          "base_uri": "https://localhost:8080/"
        },
        "id": "smBt9DrOtpdP",
        "outputId": "2a18dc67-9d85-445d-dee2-dd78b4fac68a"
      },
      "execution_count": null,
      "outputs": [
        {
          "output_type": "stream",
          "name": "stdout",
          "text": [
            "Test loss: 1.0475\n",
            "Test accuracy: 72.09\n"
          ]
        }
      ]
    },
    {
      "cell_type": "code",
      "source": [
        "# define a function to draw the training accuracy and test accuracy\n",
        "from matplotlib import pyplot as plt\n",
        "def drawplot(name,modelfordraw):\n",
        "  plt.plot(modelfordraw.history[\"accuracy\"], color =\"green\", label = \"acc\")\n",
        "\n",
        "  # plt.plot(trained_model_base.history[\"val_loss\"], color =\"red\", label = \"base-test\")\n",
        "  plt.plot(modelfordraw.history[\"val_accuracy\"], color =\"orange\", label = \"val_acc\")\n",
        "\n",
        "  plt.title(name)\n",
        "  plt.ylabel(\"Accracy\")\n",
        "  plt.xlabel(\"Number of epochs\")\n",
        "  plt.legend()\n",
        "  plt.show()"
      ],
      "metadata": {
        "id": "5rNNR1dgy57K"
      },
      "execution_count": null,
      "outputs": []
    },
    {
      "cell_type": "markdown",
      "source": [
        "part **B**\n",
        "\n",
        "define three functions with three different regularization techniques combined with a two-layers convolutional models\n",
        "\n",
        "1.Batch_nomrlization with 50% data"
      ],
      "metadata": {
        "id": "gj4nVeALvRM8"
      }
    },
    {
      "cell_type": "code",
      "source": [
        "from keras import Sequential\n",
        "from keras.layers import Dense, Conv2D, Flatten, MaxPooling2D\n",
        "from tensorflow.keras.layers import BatchNormalization\n",
        "import time\n",
        "def BN(portion=1):\n",
        "  model = Sequential()\n",
        "\n",
        "  model.add(Conv2D(64, kernel_size = 3, activation = \"relu\", input_shape = (32, 32, 3)))\n",
        "  model.add(MaxPooling2D(pool_size = (2,2)))\n",
        "  model.add(BatchNormalization())\n",
        "  model.add(Conv2D(64, kernel_size = 3, activation = \"relu\"))\n",
        "  model.add(MaxPooling2D(pool_size = (2,2)))\n",
        "  model.add(BatchNormalization())\n",
        "  model.add(Flatten())\n",
        "  model.add(Dense(128, activation = \"relu\"))\n",
        "  model.add(BatchNormalization())\n",
        "  model.add(Dense(10, activation = \"softmax\"))\n",
        "\n",
        "  model.summary()\n",
        "  if portion!=1:\n",
        "\n",
        "    partx,_,party,_=train_test_split(trainx,trainy,test_size=1-portion,random_state=1,shuffle=True,stratify=trainy)\n",
        "  else:\n",
        "    partx,party=trainx,trainy\n",
        "  model.compile(loss = \"categorical_crossentropy\", optimizer= \"adam\", metrics = [\"accuracy\"])\n",
        "  start=time.time()\n",
        "  trained_model_2layer_BN = model.fit(partx,party, epochs = 15, batch_size = 64, validation_data=(x_val,y_val),shuffle=True)\n",
        "  end=time.time()\n",
        "  runtime=(end-start)/60\n",
        "  print(\"running time is %.2f minutes\"%runtime)\n",
        "  return trained_model_2layer_BN"
      ],
      "metadata": {
        "id": "kh8Y1b_vvZvw"
      },
      "execution_count": null,
      "outputs": []
    },
    {
      "cell_type": "code",
      "source": [
        "model50=BN(0.5)"
      ],
      "metadata": {
        "colab": {
          "base_uri": "https://localhost:8080/"
        },
        "id": "ZGAd_nskwdPL",
        "outputId": "e10d8b18-dd2e-44cc-8075-3954e66b0ded"
      },
      "execution_count": null,
      "outputs": [
        {
          "output_type": "stream",
          "name": "stdout",
          "text": [
            "Model: \"sequential_19\"\n",
            "_________________________________________________________________\n",
            " Layer (type)                Output Shape              Param #   \n",
            "=================================================================\n",
            " conv2d_36 (Conv2D)          (None, 30, 30, 64)        1792      \n",
            "                                                                 \n",
            " max_pooling2d_36 (MaxPoolin  (None, 15, 15, 64)       0         \n",
            " g2D)                                                            \n",
            "                                                                 \n",
            " module_wrapper_35 (ModuleWr  (None, 15, 15, 64)       256       \n",
            " apper)                                                          \n",
            "                                                                 \n",
            " conv2d_37 (Conv2D)          (None, 13, 13, 64)        36928     \n",
            "                                                                 \n",
            " max_pooling2d_37 (MaxPoolin  (None, 6, 6, 64)         0         \n",
            " g2D)                                                            \n",
            "                                                                 \n",
            " module_wrapper_36 (ModuleWr  (None, 6, 6, 64)         256       \n",
            " apper)                                                          \n",
            "                                                                 \n",
            " flatten_19 (Flatten)        (None, 2304)              0         \n",
            "                                                                 \n",
            " dense_38 (Dense)            (None, 128)               295040    \n",
            "                                                                 \n",
            " module_wrapper_37 (ModuleWr  (None, 128)              512       \n",
            " apper)                                                          \n",
            "                                                                 \n",
            " dense_39 (Dense)            (None, 10)                1290      \n",
            "                                                                 \n",
            "=================================================================\n",
            "Total params: 336,074\n",
            "Trainable params: 335,562\n",
            "Non-trainable params: 512\n",
            "_________________________________________________________________\n",
            "Epoch 1/15\n",
            "282/282 [==============================] - 6s 17ms/step - loss: 1.4706 - accuracy: 0.4900 - val_loss: 1.6747 - val_accuracy: 0.4650\n",
            "Epoch 2/15\n",
            "282/282 [==============================] - 4s 15ms/step - loss: 1.0340 - accuracy: 0.6414 - val_loss: 1.3061 - val_accuracy: 0.5474\n",
            "Epoch 3/15\n",
            "282/282 [==============================] - 4s 13ms/step - loss: 0.8300 - accuracy: 0.7131 - val_loss: 1.8268 - val_accuracy: 0.4897\n",
            "Epoch 4/15\n",
            "282/282 [==============================] - 4s 15ms/step - loss: 0.6640 - accuracy: 0.7721 - val_loss: 1.3492 - val_accuracy: 0.5780\n",
            "Epoch 5/15\n",
            "282/282 [==============================] - 4s 13ms/step - loss: 0.5161 - accuracy: 0.8262 - val_loss: 1.4470 - val_accuracy: 0.5679\n",
            "Epoch 6/15\n",
            "282/282 [==============================] - 4s 13ms/step - loss: 0.3841 - accuracy: 0.8745 - val_loss: 1.4566 - val_accuracy: 0.5680\n",
            "Epoch 7/15\n",
            "282/282 [==============================] - 4s 15ms/step - loss: 0.2864 - accuracy: 0.9112 - val_loss: 1.3498 - val_accuracy: 0.6204\n",
            "Epoch 8/15\n",
            "282/282 [==============================] - 4s 13ms/step - loss: 0.2105 - accuracy: 0.9369 - val_loss: 1.4527 - val_accuracy: 0.6072\n",
            "Epoch 9/15\n",
            "282/282 [==============================] - 4s 15ms/step - loss: 0.1525 - accuracy: 0.9552 - val_loss: 1.4072 - val_accuracy: 0.6444\n",
            "Epoch 10/15\n",
            "282/282 [==============================] - 4s 15ms/step - loss: 0.1252 - accuracy: 0.9634 - val_loss: 1.5071 - val_accuracy: 0.6109\n",
            "Epoch 11/15\n",
            "282/282 [==============================] - 4s 13ms/step - loss: 0.1051 - accuracy: 0.9715 - val_loss: 1.5701 - val_accuracy: 0.6339\n",
            "Epoch 12/15\n",
            "282/282 [==============================] - 5s 16ms/step - loss: 0.0953 - accuracy: 0.9732 - val_loss: 1.7210 - val_accuracy: 0.5991\n",
            "Epoch 13/15\n",
            "282/282 [==============================] - 4s 15ms/step - loss: 0.0779 - accuracy: 0.9782 - val_loss: 1.5924 - val_accuracy: 0.6355\n",
            "Epoch 14/15\n",
            "282/282 [==============================] - 5s 16ms/step - loss: 0.0651 - accuracy: 0.9811 - val_loss: 1.8511 - val_accuracy: 0.6063\n",
            "Epoch 15/15\n",
            "282/282 [==============================] - 4s 14ms/step - loss: 0.0837 - accuracy: 0.9736 - val_loss: 1.7968 - val_accuracy: 0.6053\n",
            "running time is 1.38 minutes\n"
          ]
        }
      ]
    },
    {
      "cell_type": "code",
      "source": [
        "# plt.plot(trained_model_base.history[\"loss\"], color =\"blue\", label = \"base-train\")\n",
        "plt.plot(model50.history[\"accuracy\"], color =\"green\", label = \"acc\")\n",
        "\n",
        "# plt.plot(trained_model_base.history[\"val_loss\"], color =\"red\", label = \"base-test\")\n",
        "plt.plot(model50.history[\"val_accuracy\"], color =\"orange\", label = \"val_acc\")\n",
        "\n",
        "plt.title(\"50%train with 2-OCNV BN\")\n",
        "plt.ylabel(\"Loss\")\n",
        "plt.xlabel(\"Number of epochs\")\n",
        "plt.legend()\n",
        "plt.show()"
      ],
      "metadata": {
        "colab": {
          "base_uri": "https://localhost:8080/",
          "height": 295
        },
        "id": "ElLmdO8kxP3f",
        "outputId": "73cc0c93-0f03-49f8-bbec-d52745a07969"
      },
      "execution_count": null,
      "outputs": [
        {
          "output_type": "display_data",
          "data": {
            "image/png": "[encoded data removed]",
            "text/plain": [
              "<Figure size 432x288 with 1 Axes>"
            ]
          },
          "metadata": {
            "needs_background": "light"
          }
        }
      ]
    },
    {
      "cell_type": "markdown",
      "source": [
        "2. 75% data with BN and two-conv layers"
      ],
      "metadata": {
        "id": "Jt7ejrGmv77n"
      }
    },
    {
      "cell_type": "code",
      "source": [
        "model75=BN(0.75)"
      ],
      "metadata": {
        "colab": {
          "base_uri": "https://localhost:8080/"
        },
        "id": "8ld8ptVlx9c4",
        "outputId": "ac968aeb-db57-465b-8018-1d629d858147"
      },
      "execution_count": null,
      "outputs": [
        {
          "output_type": "stream",
          "name": "stdout",
          "text": [
            "Model: \"sequential_20\"\n",
            "_________________________________________________________________\n",
            " Layer (type)                Output Shape              Param #   \n",
            "=================================================================\n",
            " conv2d_38 (Conv2D)          (None, 30, 30, 64)        1792      \n",
            "                                                                 \n",
            " max_pooling2d_38 (MaxPoolin  (None, 15, 15, 64)       0         \n",
            " g2D)                                                            \n",
            "                                                                 \n",
            " module_wrapper_38 (ModuleWr  (None, 15, 15, 64)       256       \n",
            " apper)                                                          \n",
            "                                                                 \n",
            " conv2d_39 (Conv2D)          (None, 13, 13, 64)        36928     \n",
            "                                                                 \n",
            " max_pooling2d_39 (MaxPoolin  (None, 6, 6, 64)         0         \n",
            " g2D)                                                            \n",
            "                                                                 \n",
            " module_wrapper_39 (ModuleWr  (None, 6, 6, 64)         256       \n",
            " apper)                                                          \n",
            "                                                                 \n",
            " flatten_20 (Flatten)        (None, 2304)              0         \n",
            "                                                                 \n",
            " dense_40 (Dense)            (None, 128)               295040    \n",
            "                                                                 \n",
            " module_wrapper_40 (ModuleWr  (None, 128)              512       \n",
            " apper)                                                          \n",
            "                                                                 \n",
            " dense_41 (Dense)            (None, 10)                1290      \n",
            "                                                                 \n",
            "=================================================================\n",
            "Total params: 336,074\n",
            "Trainable params: 335,562\n",
            "Non-trainable params: 512\n",
            "_________________________________________________________________\n",
            "Epoch 1/15\n",
            "422/422 [==============================] - 7s 14ms/step - loss: 1.3790 - accuracy: 0.5214 - val_loss: 1.9096 - val_accuracy: 0.4356\n",
            "Epoch 2/15\n",
            "422/422 [==============================] - 6s 14ms/step - loss: 0.9683 - accuracy: 0.6636 - val_loss: 1.1579 - val_accuracy: 0.5954\n",
            "Epoch 3/15\n",
            "422/422 [==============================] - 6s 13ms/step - loss: 0.7843 - accuracy: 0.7276 - val_loss: 1.4089 - val_accuracy: 0.5467\n",
            "Epoch 4/15\n",
            "422/422 [==============================] - 6s 13ms/step - loss: 0.6342 - accuracy: 0.7813 - val_loss: 1.5667 - val_accuracy: 0.5329\n",
            "Epoch 5/15\n",
            "422/422 [==============================] - 6s 14ms/step - loss: 0.5032 - accuracy: 0.8286 - val_loss: 1.2019 - val_accuracy: 0.6084\n",
            "Epoch 6/15\n",
            "422/422 [==============================] - 6s 14ms/step - loss: 0.3942 - accuracy: 0.8658 - val_loss: 1.5389 - val_accuracy: 0.5722\n",
            "Epoch 7/15\n",
            "422/422 [==============================] - 6s 14ms/step - loss: 0.2927 - accuracy: 0.9044 - val_loss: 1.2602 - val_accuracy: 0.6428\n",
            "Epoch 8/15\n",
            "422/422 [==============================] - 6s 13ms/step - loss: 0.2188 - accuracy: 0.9280 - val_loss: 1.2787 - val_accuracy: 0.6386\n",
            "Epoch 9/15\n",
            "422/422 [==============================] - 8s 18ms/step - loss: 0.1723 - accuracy: 0.9450 - val_loss: 1.5649 - val_accuracy: 0.5982\n",
            "Epoch 10/15\n",
            "422/422 [==============================] - 7s 17ms/step - loss: 0.1368 - accuracy: 0.9574 - val_loss: 1.3598 - val_accuracy: 0.6593\n",
            "Epoch 11/15\n",
            "422/422 [==============================] - 7s 17ms/step - loss: 0.1244 - accuracy: 0.9613 - val_loss: 1.5628 - val_accuracy: 0.6344\n",
            "Epoch 12/15\n",
            "422/422 [==============================] - 6s 14ms/step - loss: 0.1001 - accuracy: 0.9693 - val_loss: 1.4556 - val_accuracy: 0.6728\n",
            "Epoch 13/15\n",
            "422/422 [==============================] - 6s 14ms/step - loss: 0.0890 - accuracy: 0.9727 - val_loss: 1.7723 - val_accuracy: 0.6223\n",
            "Epoch 14/15\n",
            "422/422 [==============================] - 6s 14ms/step - loss: 0.0835 - accuracy: 0.9737 - val_loss: 1.7645 - val_accuracy: 0.6463\n",
            "Epoch 15/15\n",
            "422/422 [==============================] - 6s 15ms/step - loss: 0.0898 - accuracy: 0.9708 - val_loss: 1.7641 - val_accuracy: 0.6347\n",
            "running time is 1.56 minutes\n"
          ]
        }
      ]
    },
    {
      "cell_type": "markdown",
      "source": [
        ""
      ],
      "metadata": {
        "id": "4Jb5X0N9wDe-"
      }
    },
    {
      "cell_type": "code",
      "source": [
        "drawplot(\"2CONV+BN with 75%data\",model75)"
      ],
      "metadata": {
        "colab": {
          "base_uri": "https://localhost:8080/",
          "height": 295
        },
        "id": "pGRPz94zzr2R",
        "outputId": "d80c9820-8a52-4065-c560-b84b2b374b4e"
      },
      "execution_count": null,
      "outputs": [
        {
          "output_type": "display_data",
          "data": {
            "image/png": "[encoded data removed]",
            "text/plain": [
              "<Figure size 432x288 with 1 Axes>"
            ]
          },
          "metadata": {
            "needs_background": "light"
          }
        }
      ]
    },
    {
      "cell_type": "code",
      "source": [
        "BN100=BN()"
      ],
      "metadata": {
        "id": "POKgMiPksejD",
        "colab": {
          "base_uri": "https://localhost:8080/"
        },
        "outputId": "751233a3-3a56-46bc-d3ea-6cfe0c6750a0"
      },
      "execution_count": null,
      "outputs": [
        {
          "output_type": "stream",
          "name": "stdout",
          "text": [
            "Model: \"sequential_3\"\n",
            "_________________________________________________________________\n",
            " Layer (type)                Output Shape              Param #   \n",
            "=================================================================\n",
            " conv2d_5 (Conv2D)           (None, 30, 30, 64)        1792      \n",
            "                                                                 \n",
            " max_pooling2d_5 (MaxPooling  (None, 15, 15, 64)       0         \n",
            " 2D)                                                             \n",
            "                                                                 \n",
            " batch_normalization_6 (Batc  (None, 15, 15, 64)       256       \n",
            " hNormalization)                                                 \n",
            "                                                                 \n",
            " conv2d_6 (Conv2D)           (None, 13, 13, 64)        36928     \n",
            "                                                                 \n",
            " max_pooling2d_6 (MaxPooling  (None, 6, 6, 64)         0         \n",
            " 2D)                                                             \n",
            "                                                                 \n",
            " batch_normalization_7 (Batc  (None, 6, 6, 64)         256       \n",
            " hNormalization)                                                 \n",
            "                                                                 \n",
            " flatten_2 (Flatten)         (None, 2304)              0         \n",
            "                                                                 \n",
            " dense_4 (Dense)             (None, 128)               295040    \n",
            "                                                                 \n",
            " batch_normalization_8 (Batc  (None, 128)              512       \n",
            " hNormalization)                                                 \n",
            "                                                                 \n",
            " dense_5 (Dense)             (None, 10)                1290      \n",
            "                                                                 \n",
            "=================================================================\n",
            "Total params: 336,074\n",
            "Trainable params: 335,562\n",
            "Non-trainable params: 512\n",
            "_________________________________________________________________\n",
            "Epoch 1/15\n",
            "563/563 [==============================] - 8s 13ms/step - loss: 1.2967 - accuracy: 0.5477 - val_loss: 1.2645 - val_accuracy: 0.5618\n",
            "Epoch 2/15\n",
            "563/563 [==============================] - 7s 13ms/step - loss: 0.9313 - accuracy: 0.6765 - val_loss: 1.1435 - val_accuracy: 0.6005\n",
            "Epoch 3/15\n",
            "563/563 [==============================] - 7s 12ms/step - loss: 0.7553 - accuracy: 0.7369 - val_loss: 1.2248 - val_accuracy: 0.6093\n",
            "Epoch 4/15\n",
            "563/563 [==============================] - 7s 12ms/step - loss: 0.6312 - accuracy: 0.7811 - val_loss: 1.0015 - val_accuracy: 0.6564\n",
            "Epoch 5/15\n",
            "563/563 [==============================] - 7s 12ms/step - loss: 0.5074 - accuracy: 0.8266 - val_loss: 1.0695 - val_accuracy: 0.6642\n",
            "Epoch 6/15\n",
            "563/563 [==============================] - 6s 11ms/step - loss: 0.4005 - accuracy: 0.8648 - val_loss: 1.1093 - val_accuracy: 0.6745\n",
            "Epoch 7/15\n",
            "563/563 [==============================] - 6s 12ms/step - loss: 0.3170 - accuracy: 0.8928 - val_loss: 1.0778 - val_accuracy: 0.6923\n",
            "Epoch 8/15\n",
            "563/563 [==============================] - 7s 12ms/step - loss: 0.2478 - accuracy: 0.9169 - val_loss: 1.2039 - val_accuracy: 0.6738\n",
            "Epoch 9/15\n",
            "563/563 [==============================] - 6s 11ms/step - loss: 0.1867 - accuracy: 0.9384 - val_loss: 1.3276 - val_accuracy: 0.6609\n",
            "Epoch 10/15\n",
            "563/563 [==============================] - 7s 12ms/step - loss: 0.1530 - accuracy: 0.9516 - val_loss: 1.7405 - val_accuracy: 0.5986\n",
            "Epoch 11/15\n",
            "563/563 [==============================] - 7s 12ms/step - loss: 0.1381 - accuracy: 0.9561 - val_loss: 1.4030 - val_accuracy: 0.6719\n",
            "Epoch 12/15\n",
            "563/563 [==============================] - 7s 12ms/step - loss: 0.1119 - accuracy: 0.9642 - val_loss: 1.3896 - val_accuracy: 0.6881\n",
            "Epoch 13/15\n",
            "563/563 [==============================] - 6s 11ms/step - loss: 0.0971 - accuracy: 0.9684 - val_loss: 1.7077 - val_accuracy: 0.6280\n",
            "Epoch 14/15\n",
            "563/563 [==============================] - 7s 12ms/step - loss: 0.0954 - accuracy: 0.9676 - val_loss: 1.5784 - val_accuracy: 0.6708\n",
            "Epoch 15/15\n",
            "563/563 [==============================] - 7s 12ms/step - loss: 0.0888 - accuracy: 0.9707 - val_loss: 1.5474 - val_accuracy: 0.6862\n",
            "running time is 2.40 minutes\n"
          ]
        }
      ]
    },
    {
      "cell_type": "code",
      "source": [
        "drawplot('2-conv layer with 100%data and Batch normalization',BN100)"
      ],
      "metadata": {
        "colab": {
          "base_uri": "https://localhost:8080/",
          "height": 295
        },
        "id": "yF4MAFOl0qrt",
        "outputId": "e3c30ad9-cbb8-4731-a05e-eca35fa58856"
      },
      "execution_count": null,
      "outputs": [
        {
          "output_type": "display_data",
          "data": {
            "image/png": "[encoded data removed]",
            "text/plain": [
              "<Figure size 432x288 with 1 Axes>"
            ]
          },
          "metadata": {
            "needs_background": "light"
          }
        }
      ]
    },
    {
      "cell_type": "markdown",
      "source": [
        "3. dropout with 50% data"
      ],
      "metadata": {
        "id": "yONugIyAwFi_"
      }
    },
    {
      "cell_type": "code",
      "source": [
        "from tensorflow.python.keras.layers.core import Dropout\n",
        "from keras import Sequential\n",
        "from keras.layers import Dense, Conv2D, Flatten, MaxPooling2D\n",
        "def DP(portion=1):\n",
        "  model = Sequential()\n",
        "\n",
        "  model.add(Conv2D(64, kernel_size = 3, activation = \"relu\", input_shape = (32, 32, 3)))\n",
        "  model.add(MaxPooling2D(pool_size = (2,2)))\n",
        "  model.add(Dropout(0.1))\n",
        "  model.add(Conv2D(64, kernel_size = 3, activation = \"relu\"))\n",
        "  model.add(MaxPooling2D(pool_size = (2,2)))\n",
        "  model.add(Dropout(0.1))\n",
        "  model.add(Flatten())\n",
        "  model.add(Dense(128, activation = \"relu\"))\n",
        "  model.add(Dropout(0.1))\n",
        "  model.add(Dense(10, activation = \"softmax\"))\n",
        "\n",
        "  model.summary()\n",
        "  if portion!=1:\n",
        "    partx,_,party,_=train_test_split(trainx,trainy,test_size=1-portion,random_state=1,shuffle=True,stratify=trainy)\n",
        "  else:\n",
        "    partx,party=trainx,trainy\n",
        "  model.compile(loss = \"categorical_crossentropy\", optimizer= \"adam\", metrics = [\"accuracy\"])\n",
        "  start=time.time()\n",
        "  trained_model_2layer_DP = model.fit(partx,party, epochs = 15, batch_size = 64, validation_data=(x_val,y_val),shuffle=True)\n",
        "  end=time.time()\n",
        "  runtime=(end-start)/60\n",
        "  print(\"running time is %.2f minutes\"%runtime)\n",
        "  return trained_model_2layer_DP"
      ],
      "metadata": {
        "id": "S-4LuCiRyPZC"
      },
      "execution_count": null,
      "outputs": []
    },
    {
      "cell_type": "code",
      "source": [
        "DP50=DP(0.5)"
      ],
      "metadata": {
        "colab": {
          "base_uri": "https://localhost:8080/"
        },
        "id": "XOtGkcxm0AVO",
        "outputId": "9c5da65c-fd10-4f95-dd80-16dd8e32d058"
      },
      "execution_count": null,
      "outputs": [
        {
          "output_type": "stream",
          "name": "stdout",
          "text": [
            "Model: \"sequential_21\"\n",
            "_________________________________________________________________\n",
            " Layer (type)                Output Shape              Param #   \n",
            "=================================================================\n",
            " conv2d_40 (Conv2D)          (None, 30, 30, 64)        1792      \n",
            "                                                                 \n",
            " max_pooling2d_40 (MaxPoolin  (None, 15, 15, 64)       0         \n",
            " g2D)                                                            \n",
            "                                                                 \n",
            " module_wrapper_41 (ModuleWr  (None, 15, 15, 64)       0         \n",
            " apper)                                                          \n",
            "                                                                 \n",
            " conv2d_41 (Conv2D)          (None, 13, 13, 64)        36928     \n",
            "                                                                 \n",
            " max_pooling2d_41 (MaxPoolin  (None, 6, 6, 64)         0         \n",
            " g2D)                                                            \n",
            "                                                                 \n",
            " module_wrapper_42 (ModuleWr  (None, 6, 6, 64)         0         \n",
            " apper)                                                          \n",
            "                                                                 \n",
            " flatten_21 (Flatten)        (None, 2304)              0         \n",
            "                                                                 \n",
            " dense_42 (Dense)            (None, 128)               295040    \n",
            "                                                                 \n",
            " module_wrapper_43 (ModuleWr  (None, 128)              0         \n",
            " apper)                                                          \n",
            "                                                                 \n",
            " dense_43 (Dense)            (None, 10)                1290      \n",
            "                                                                 \n",
            "=================================================================\n",
            "Total params: 335,050\n",
            "Trainable params: 335,050\n",
            "Non-trainable params: 0\n",
            "_________________________________________________________________\n",
            "Epoch 1/15\n",
            "282/282 [==============================] - 5s 16ms/step - loss: 3.4213 - accuracy: 0.1803 - val_loss: 2.1056 - val_accuracy: 0.2202\n",
            "Epoch 2/15\n",
            "282/282 [==============================] - 4s 14ms/step - loss: 1.9688 - accuracy: 0.2640 - val_loss: 1.8671 - val_accuracy: 0.3128\n",
            "Epoch 3/15\n",
            "282/282 [==============================] - 4s 14ms/step - loss: 1.7947 - accuracy: 0.3364 - val_loss: 1.7073 - val_accuracy: 0.3792\n",
            "Epoch 4/15\n",
            "282/282 [==============================] - 4s 15ms/step - loss: 1.6502 - accuracy: 0.3972 - val_loss: 1.5714 - val_accuracy: 0.4276\n",
            "Epoch 5/15\n",
            "282/282 [==============================] - 4s 14ms/step - loss: 1.5220 - accuracy: 0.4458 - val_loss: 1.4864 - val_accuracy: 0.4649\n",
            "Epoch 6/15\n",
            "282/282 [==============================] - 4s 15ms/step - loss: 1.4360 - accuracy: 0.4829 - val_loss: 1.4574 - val_accuracy: 0.4726\n",
            "Epoch 7/15\n",
            "282/282 [==============================] - 4s 13ms/step - loss: 1.3364 - accuracy: 0.5227 - val_loss: 1.3763 - val_accuracy: 0.5142\n",
            "Epoch 8/15\n",
            "282/282 [==============================] - 4s 15ms/step - loss: 1.2384 - accuracy: 0.5632 - val_loss: 1.3598 - val_accuracy: 0.5110\n",
            "Epoch 9/15\n",
            "282/282 [==============================] - 4s 15ms/step - loss: 1.1564 - accuracy: 0.5933 - val_loss: 1.3156 - val_accuracy: 0.5434\n",
            "Epoch 10/15\n",
            "282/282 [==============================] - 4s 16ms/step - loss: 1.0586 - accuracy: 0.6263 - val_loss: 1.3638 - val_accuracy: 0.5437\n",
            "Epoch 11/15\n",
            "282/282 [==============================] - 5s 18ms/step - loss: 0.9922 - accuracy: 0.6486 - val_loss: 1.3841 - val_accuracy: 0.5328\n",
            "Epoch 12/15\n",
            "282/282 [==============================] - 5s 17ms/step - loss: 0.9131 - accuracy: 0.6776 - val_loss: 1.2774 - val_accuracy: 0.5752\n",
            "Epoch 13/15\n",
            "282/282 [==============================] - 4s 15ms/step - loss: 0.8512 - accuracy: 0.6976 - val_loss: 1.3307 - val_accuracy: 0.5732\n",
            "Epoch 14/15\n",
            "282/282 [==============================] - 4s 16ms/step - loss: 0.7688 - accuracy: 0.7259 - val_loss: 1.3879 - val_accuracy: 0.5787\n",
            "Epoch 15/15\n",
            "282/282 [==============================] - 4s 15ms/step - loss: 0.7564 - accuracy: 0.7346 - val_loss: 1.4366 - val_accuracy: 0.5735\n",
            "running time is 1.38 minutes\n"
          ]
        }
      ]
    },
    {
      "cell_type": "code",
      "source": [
        "drawplot(\"2CONV+DP with 50%data\",DP50)"
      ],
      "metadata": {
        "colab": {
          "base_uri": "https://localhost:8080/",
          "height": 295
        },
        "id": "hcx2r86T0VTg",
        "outputId": "beb29b6a-5bc6-43b8-d7db-11b6e5642765"
      },
      "execution_count": null,
      "outputs": [
        {
          "output_type": "display_data",
          "data": {
            "image/png": "[encoded data removed]",
            "text/plain": [
              "<Figure size 432x288 with 1 Axes>"
            ]
          },
          "metadata": {
            "needs_background": "light"
          }
        }
      ]
    },
    {
      "cell_type": "markdown",
      "source": [
        "75% data with dropout"
      ],
      "metadata": {
        "id": "jPYKobMjwQt4"
      }
    },
    {
      "cell_type": "code",
      "source": [
        "DP75=DP(0.75)"
      ],
      "metadata": {
        "id": "vlwXa-Ca0rz-",
        "outputId": "bb896918-078d-486b-cc3e-2dfbe10a7aa7",
        "colab": {
          "base_uri": "https://localhost:8080/"
        }
      },
      "execution_count": null,
      "outputs": [
        {
          "output_type": "stream",
          "name": "stdout",
          "text": [
            "Model: \"sequential_22\"\n",
            "_________________________________________________________________\n",
            " Layer (type)                Output Shape              Param #   \n",
            "=================================================================\n",
            " conv2d_42 (Conv2D)          (None, 30, 30, 64)        1792      \n",
            "                                                                 \n",
            " max_pooling2d_42 (MaxPoolin  (None, 15, 15, 64)       0         \n",
            " g2D)                                                            \n",
            "                                                                 \n",
            " module_wrapper_44 (ModuleWr  (None, 15, 15, 64)       0         \n",
            " apper)                                                          \n",
            "                                                                 \n",
            " conv2d_43 (Conv2D)          (None, 13, 13, 64)        36928     \n",
            "                                                                 \n",
            " max_pooling2d_43 (MaxPoolin  (None, 6, 6, 64)         0         \n",
            " g2D)                                                            \n",
            "                                                                 \n",
            " module_wrapper_45 (ModuleWr  (None, 6, 6, 64)         0         \n",
            " apper)                                                          \n",
            "                                                                 \n",
            " flatten_22 (Flatten)        (None, 2304)              0         \n",
            "                                                                 \n",
            " dense_44 (Dense)            (None, 128)               295040    \n",
            "                                                                 \n",
            " module_wrapper_46 (ModuleWr  (None, 128)              0         \n",
            " apper)                                                          \n",
            "                                                                 \n",
            " dense_45 (Dense)            (None, 10)                1290      \n",
            "                                                                 \n",
            "=================================================================\n",
            "Total params: 335,050\n",
            "Trainable params: 335,050\n",
            "Non-trainable params: 0\n",
            "_________________________________________________________________\n",
            "Epoch 1/15\n",
            "422/422 [==============================] - 71s 13ms/step - loss: 3.6858 - accuracy: 0.1148 - val_loss: 2.2902 - val_accuracy: 0.1270\n",
            "Epoch 2/15\n",
            "422/422 [==============================] - 5s 13ms/step - loss: 2.1670 - accuracy: 0.1956 - val_loss: 1.9257 - val_accuracy: 0.3050\n",
            "Epoch 3/15\n",
            "422/422 [==============================] - 5s 13ms/step - loss: 1.7501 - accuracy: 0.3601 - val_loss: 1.6252 - val_accuracy: 0.4160\n",
            "Epoch 4/15\n",
            "422/422 [==============================] - 5s 13ms/step - loss: 1.5231 - accuracy: 0.4486 - val_loss: 1.4063 - val_accuracy: 0.4938\n",
            "Epoch 5/15\n",
            "422/422 [==============================] - 5s 13ms/step - loss: 1.3734 - accuracy: 0.5099 - val_loss: 1.2972 - val_accuracy: 0.5381\n",
            "Epoch 6/15\n",
            "422/422 [==============================] - 5s 11ms/step - loss: 1.2747 - accuracy: 0.5476 - val_loss: 1.2766 - val_accuracy: 0.5500\n",
            "Epoch 7/15\n",
            "422/422 [==============================] - 5s 13ms/step - loss: 1.1727 - accuracy: 0.5848 - val_loss: 1.2006 - val_accuracy: 0.5838\n",
            "Epoch 8/15\n",
            "422/422 [==============================] - 5s 12ms/step - loss: 1.0996 - accuracy: 0.6125 - val_loss: 1.1861 - val_accuracy: 0.5889\n",
            "Epoch 9/15\n",
            "422/422 [==============================] - 5s 11ms/step - loss: 1.0238 - accuracy: 0.6380 - val_loss: 1.1748 - val_accuracy: 0.5918\n",
            "Epoch 10/15\n",
            "422/422 [==============================] - 5s 13ms/step - loss: 0.9652 - accuracy: 0.6589 - val_loss: 1.1626 - val_accuracy: 0.6061\n",
            "Epoch 11/15\n",
            "422/422 [==============================] - 5s 13ms/step - loss: 0.9093 - accuracy: 0.6781 - val_loss: 1.2035 - val_accuracy: 0.5924\n",
            "Epoch 12/15\n",
            "422/422 [==============================] - 5s 12ms/step - loss: 0.8536 - accuracy: 0.6995 - val_loss: 1.1721 - val_accuracy: 0.6144\n",
            "Epoch 13/15\n",
            "422/422 [==============================] - 6s 13ms/step - loss: 0.7998 - accuracy: 0.7199 - val_loss: 1.2418 - val_accuracy: 0.6068\n",
            "Epoch 14/15\n",
            "422/422 [==============================] - 5s 13ms/step - loss: 0.7599 - accuracy: 0.7354 - val_loss: 1.1924 - val_accuracy: 0.6261\n",
            "Epoch 15/15\n",
            "422/422 [==============================] - 6s 13ms/step - loss: 0.7338 - accuracy: 0.7413 - val_loss: 1.2176 - val_accuracy: 0.6211\n",
            "running time is 2.46 minutes\n"
          ]
        }
      ]
    },
    {
      "cell_type": "code",
      "source": [
        "drawplot(\"2CONV+DP with 75% data\",DP75)"
      ],
      "metadata": {
        "colab": {
          "base_uri": "https://localhost:8080/",
          "height": 295
        },
        "id": "ntWNMJCO1W9z",
        "outputId": "02cb6140-be4f-4743-9423-4d95a380a5c2"
      },
      "execution_count": null,
      "outputs": [
        {
          "output_type": "display_data",
          "data": {
            "image/png": "[encoded data removed]",
            "text/plain": [
              "<Figure size 432x288 with 1 Axes>"
            ]
          },
          "metadata": {
            "needs_background": "light"
          }
        }
      ]
    },
    {
      "cell_type": "code",
      "source": [
        "DP100=DP()"
      ],
      "metadata": {
        "colab": {
          "base_uri": "https://localhost:8080/"
        },
        "id": "gCm7aTbS2ZB8",
        "outputId": "920c285d-a0ef-47e5-8f1e-f38881847087"
      },
      "execution_count": null,
      "outputs": [
        {
          "output_type": "stream",
          "name": "stdout",
          "text": [
            "Model: \"sequential_4\"\n",
            "_________________________________________________________________\n",
            " Layer (type)                Output Shape              Param #   \n",
            "=================================================================\n",
            " conv2d_7 (Conv2D)           (None, 30, 30, 64)        1792      \n",
            "                                                                 \n",
            " max_pooling2d_7 (MaxPooling  (None, 15, 15, 64)       0         \n",
            " 2D)                                                             \n",
            "                                                                 \n",
            " module_wrapper (ModuleWrapp  (None, 15, 15, 64)       0         \n",
            " er)                                                             \n",
            "                                                                 \n",
            " conv2d_8 (Conv2D)           (None, 13, 13, 64)        36928     \n",
            "                                                                 \n",
            " max_pooling2d_8 (MaxPooling  (None, 6, 6, 64)         0         \n",
            " 2D)                                                             \n",
            "                                                                 \n",
            " module_wrapper_1 (ModuleWra  (None, 6, 6, 64)         0         \n",
            " pper)                                                           \n",
            "                                                                 \n",
            " flatten_3 (Flatten)         (None, 2304)              0         \n",
            "                                                                 \n",
            " dense_6 (Dense)             (None, 128)               295040    \n",
            "                                                                 \n",
            " module_wrapper_2 (ModuleWra  (None, 128)              0         \n",
            " pper)                                                           \n",
            "                                                                 \n",
            " dense_7 (Dense)             (None, 10)                1290      \n",
            "                                                                 \n",
            "=================================================================\n",
            "Total params: 335,050\n",
            "Trainable params: 335,050\n",
            "Non-trainable params: 0\n",
            "_________________________________________________________________\n",
            "Epoch 1/15\n",
            "563/563 [==============================] - 8s 12ms/step - loss: 2.2934 - accuracy: 0.3121 - val_loss: 1.5699 - val_accuracy: 0.4189\n",
            "Epoch 2/15\n",
            "563/563 [==============================] - 7s 12ms/step - loss: 1.5015 - accuracy: 0.4639 - val_loss: 1.3452 - val_accuracy: 0.5187\n",
            "Epoch 3/15\n",
            "563/563 [==============================] - 6s 11ms/step - loss: 1.3341 - accuracy: 0.5278 - val_loss: 1.2259 - val_accuracy: 0.5602\n",
            "Epoch 4/15\n",
            "563/563 [==============================] - 7s 12ms/step - loss: 1.2009 - accuracy: 0.5763 - val_loss: 1.1589 - val_accuracy: 0.5970\n",
            "Epoch 5/15\n",
            "563/563 [==============================] - 6s 11ms/step - loss: 1.1041 - accuracy: 0.6117 - val_loss: 1.1398 - val_accuracy: 0.5975\n",
            "Epoch 6/15\n",
            "563/563 [==============================] - 6s 11ms/step - loss: 1.0306 - accuracy: 0.6390 - val_loss: 1.0904 - val_accuracy: 0.6240\n",
            "Epoch 7/15\n",
            "563/563 [==============================] - 6s 11ms/step - loss: 0.9815 - accuracy: 0.6571 - val_loss: 1.0809 - val_accuracy: 0.6273\n",
            "Epoch 8/15\n",
            "563/563 [==============================] - 6s 12ms/step - loss: 0.9143 - accuracy: 0.6811 - val_loss: 1.0931 - val_accuracy: 0.6357\n",
            "Epoch 9/15\n",
            "563/563 [==============================] - 6s 11ms/step - loss: 0.8684 - accuracy: 0.6961 - val_loss: 1.0523 - val_accuracy: 0.6412\n",
            "Epoch 10/15\n",
            "563/563 [==============================] - 6s 11ms/step - loss: 0.8209 - accuracy: 0.7129 - val_loss: 1.0433 - val_accuracy: 0.6480\n",
            "Epoch 11/15\n",
            "563/563 [==============================] - 6s 11ms/step - loss: 0.7808 - accuracy: 0.7284 - val_loss: 1.0482 - val_accuracy: 0.6533\n",
            "Epoch 12/15\n",
            "563/563 [==============================] - 6s 11ms/step - loss: 0.7286 - accuracy: 0.7444 - val_loss: 1.0396 - val_accuracy: 0.6550\n",
            "Epoch 13/15\n",
            "563/563 [==============================] - 7s 12ms/step - loss: 0.7074 - accuracy: 0.7545 - val_loss: 1.0759 - val_accuracy: 0.6530\n",
            "Epoch 14/15\n",
            "563/563 [==============================] - 6s 11ms/step - loss: 0.6747 - accuracy: 0.7658 - val_loss: 1.1285 - val_accuracy: 0.6482\n",
            "Epoch 15/15\n",
            "563/563 [==============================] - 6s 11ms/step - loss: 0.6471 - accuracy: 0.7755 - val_loss: 1.1369 - val_accuracy: 0.6510\n",
            "running time is 1.61 minutes\n"
          ]
        }
      ]
    },
    {
      "cell_type": "code",
      "source": [
        "drawplot(\"2conv+dropout and 100%data\",DP100)"
      ],
      "metadata": {
        "colab": {
          "base_uri": "https://localhost:8080/",
          "height": 295
        },
        "id": "Waenwb6X3QJ0",
        "outputId": "b4c865eb-026a-4a8f-f5e6-599214a34c6c"
      },
      "execution_count": null,
      "outputs": [
        {
          "output_type": "display_data",
          "data": {
            "image/png": "[encoded data removed]",
            "text/plain": [
              "<Figure size 432x288 with 1 Axes>"
            ]
          },
          "metadata": {
            "needs_background": "light"
          }
        }
      ]
    },
    {
      "cell_type": "code",
      "source": [
        "from keras import regularizers\n",
        "from keras import Sequential\n",
        "from keras.layers import Dense, Conv2D, Flatten, MaxPooling2D\n",
        "from tensorflow.keras.layers import BatchNormalization\n",
        "import time\n",
        "def L2(portion=1):\n",
        "  model = Sequential()\n",
        "  model.add(Conv2D(64, kernel_size = 3, activation = \"relu\", input_shape = (32, 32, 3),kernel_regularizer=regularizers.l2(0.00005)))\n",
        "  model.add(MaxPooling2D(pool_size = (2,2)))\n",
        "  model.add(Conv2D(64, kernel_size = 3, activation = \"relu\", kernel_regularizer=regularizers.l2(0.00005)))\n",
        "  model.add(MaxPooling2D(pool_size = (2,2)))\n",
        "  model.add(Flatten())\n",
        "  model.add(Dense(128, activation = \"relu\",kernel_regularizer=regularizers.l2(0.00005)))\n",
        "  model.add(Dense(10, activation = \"softmax\"))\n",
        "  model.summary()\n",
        "  if portion !=1:\n",
        "    partx,_,party,_=train_test_split(trainx,trainy,test_size=1-portion,random_state=1,shuffle=True,stratify=trainy)\n",
        "  else:\n",
        "    partx,party=trainx,trainy\n",
        "  model.compile(loss = \"categorical_crossentropy\", optimizer= \"adam\", metrics = [\"accuracy\"])\n",
        "  start=time.time()\n",
        "  trained_model_3layer_L2 = model.fit(partx,party, epochs = 15, batch_size = 64, validation_data=(x_val,y_val),shuffle=True)\n",
        "  end=time.time()\n",
        "  runtime=(end-start)/60\n",
        "  print(\"running time is %.2f minutes\"%runtime)\n",
        "  return trained_model_3layer_L2"
      ],
      "metadata": {
        "id": "QnxjqEHg1tqH"
      },
      "execution_count": null,
      "outputs": []
    },
    {
      "cell_type": "code",
      "source": [
        "L250=L2(0.5)"
      ],
      "metadata": {
        "colab": {
          "base_uri": "https://localhost:8080/"
        },
        "id": "VAld6TT32NM5",
        "outputId": "89091116-f1b6-4b3b-a26f-8482a6e69c0c"
      },
      "execution_count": null,
      "outputs": [
        {
          "output_type": "stream",
          "name": "stdout",
          "text": [
            "Model: \"sequential_23\"\n",
            "_________________________________________________________________\n",
            " Layer (type)                Output Shape              Param #   \n",
            "=================================================================\n",
            " conv2d_44 (Conv2D)          (None, 30, 30, 64)        1792      \n",
            "                                                                 \n",
            " max_pooling2d_44 (MaxPoolin  (None, 15, 15, 64)       0         \n",
            " g2D)                                                            \n",
            "                                                                 \n",
            " conv2d_45 (Conv2D)          (None, 13, 13, 64)        36928     \n",
            "                                                                 \n",
            " max_pooling2d_45 (MaxPoolin  (None, 6, 6, 64)         0         \n",
            " g2D)                                                            \n",
            "                                                                 \n",
            " flatten_23 (Flatten)        (None, 2304)              0         \n",
            "                                                                 \n",
            " dense_46 (Dense)            (None, 128)               295040    \n",
            "                                                                 \n",
            " dense_47 (Dense)            (None, 10)                1290      \n",
            "                                                                 \n",
            "=================================================================\n",
            "Total params: 335,050\n",
            "Trainable params: 335,050\n",
            "Non-trainable params: 0\n",
            "_________________________________________________________________\n",
            "Epoch 1/15\n",
            "282/282 [==============================] - 6s 19ms/step - loss: 3.4613 - accuracy: 0.2783 - val_loss: 1.7914 - val_accuracy: 0.3517\n",
            "Epoch 2/15\n",
            "282/282 [==============================] - 5s 18ms/step - loss: 1.6210 - accuracy: 0.4203 - val_loss: 1.6004 - val_accuracy: 0.4249\n",
            "Epoch 3/15\n",
            "282/282 [==============================] - 5s 16ms/step - loss: 1.4566 - accuracy: 0.4843 - val_loss: 1.5209 - val_accuracy: 0.4674\n",
            "Epoch 4/15\n",
            "282/282 [==============================] - 4s 14ms/step - loss: 1.3108 - accuracy: 0.5369 - val_loss: 1.5360 - val_accuracy: 0.4678\n",
            "Epoch 5/15\n",
            "282/282 [==============================] - 5s 18ms/step - loss: 1.2115 - accuracy: 0.5729 - val_loss: 1.5729 - val_accuracy: 0.4813\n",
            "Epoch 6/15\n",
            "282/282 [==============================] - 4s 15ms/step - loss: 1.0782 - accuracy: 0.6227 - val_loss: 1.5295 - val_accuracy: 0.4930\n",
            "Epoch 7/15\n",
            "282/282 [==============================] - 4s 16ms/step - loss: 0.9620 - accuracy: 0.6681 - val_loss: 1.4958 - val_accuracy: 0.5174\n",
            "Epoch 8/15\n",
            "282/282 [==============================] - 4s 15ms/step - loss: 0.8618 - accuracy: 0.7023 - val_loss: 1.6429 - val_accuracy: 0.5236\n",
            "Epoch 9/15\n",
            "282/282 [==============================] - 4s 15ms/step - loss: 0.7653 - accuracy: 0.7382 - val_loss: 1.7632 - val_accuracy: 0.5174\n",
            "Epoch 10/15\n",
            "282/282 [==============================] - 4s 13ms/step - loss: 0.6894 - accuracy: 0.7678 - val_loss: 1.8982 - val_accuracy: 0.5224\n",
            "Epoch 11/15\n",
            "282/282 [==============================] - 4s 13ms/step - loss: 0.5736 - accuracy: 0.8094 - val_loss: 2.0055 - val_accuracy: 0.5199\n",
            "Epoch 12/15\n",
            "282/282 [==============================] - 4s 14ms/step - loss: 0.5128 - accuracy: 0.8307 - val_loss: 2.0670 - val_accuracy: 0.5238\n",
            "Epoch 13/15\n",
            "282/282 [==============================] - 4s 15ms/step - loss: 0.4433 - accuracy: 0.8591 - val_loss: 2.2984 - val_accuracy: 0.5123\n",
            "Epoch 14/15\n",
            "282/282 [==============================] - 4s 15ms/step - loss: 0.4291 - accuracy: 0.8613 - val_loss: 2.4660 - val_accuracy: 0.5140\n",
            "Epoch 15/15\n",
            "282/282 [==============================] - 4s 13ms/step - loss: 0.3960 - accuracy: 0.8750 - val_loss: 2.5973 - val_accuracy: 0.5070\n",
            "running time is 1.09 minutes\n"
          ]
        }
      ]
    },
    {
      "cell_type": "code",
      "source": [
        "drawplot(\"2CONV+L2 with 50% data\",L250)"
      ],
      "metadata": {
        "colab": {
          "base_uri": "https://localhost:8080/",
          "height": 295
        },
        "id": "ekUz-sOJ2Upx",
        "outputId": "02d8ac9f-138d-4de9-e4ac-5149a6b81037"
      },
      "execution_count": null,
      "outputs": [
        {
          "output_type": "display_data",
          "data": {
            "image/png": "[encoded data removed]",
            "text/plain": [
              "<Figure size 432x288 with 1 Axes>"
            ]
          },
          "metadata": {
            "needs_background": "light"
          }
        }
      ]
    },
    {
      "cell_type": "code",
      "source": [
        "L275=L2(0.75)"
      ],
      "metadata": {
        "colab": {
          "base_uri": "https://localhost:8080/"
        },
        "id": "BqT9-55D2QnN",
        "outputId": "b3fb1c64-762d-4cc3-f306-0d5fdf1b337e"
      },
      "execution_count": null,
      "outputs": [
        {
          "output_type": "stream",
          "name": "stdout",
          "text": [
            "Model: \"sequential_24\"\n",
            "_________________________________________________________________\n",
            " Layer (type)                Output Shape              Param #   \n",
            "=================================================================\n",
            " conv2d_46 (Conv2D)          (None, 30, 30, 64)        1792      \n",
            "                                                                 \n",
            " max_pooling2d_46 (MaxPoolin  (None, 15, 15, 64)       0         \n",
            " g2D)                                                            \n",
            "                                                                 \n",
            " conv2d_47 (Conv2D)          (None, 13, 13, 64)        36928     \n",
            "                                                                 \n",
            " max_pooling2d_47 (MaxPoolin  (None, 6, 6, 64)         0         \n",
            " g2D)                                                            \n",
            "                                                                 \n",
            " flatten_24 (Flatten)        (None, 2304)              0         \n",
            "                                                                 \n",
            " dense_48 (Dense)            (None, 128)               295040    \n",
            "                                                                 \n",
            " dense_49 (Dense)            (None, 10)                1290      \n",
            "                                                                 \n",
            "=================================================================\n",
            "Total params: 335,050\n",
            "Trainable params: 335,050\n",
            "Non-trainable params: 0\n",
            "_________________________________________________________________\n",
            "Epoch 1/15\n",
            "422/422 [==============================] - 8s 18ms/step - loss: 2.9824 - accuracy: 0.2976 - val_loss: 1.7781 - val_accuracy: 0.3769\n",
            "Epoch 2/15\n",
            "422/422 [==============================] - 6s 14ms/step - loss: 1.5572 - accuracy: 0.4473 - val_loss: 1.5538 - val_accuracy: 0.4608\n",
            "Epoch 3/15\n",
            "422/422 [==============================] - 6s 14ms/step - loss: 1.3900 - accuracy: 0.5164 - val_loss: 1.4262 - val_accuracy: 0.5045\n",
            "Epoch 4/15\n",
            "422/422 [==============================] - 7s 17ms/step - loss: 1.2765 - accuracy: 0.5555 - val_loss: 1.3835 - val_accuracy: 0.5243\n",
            "Epoch 5/15\n",
            "422/422 [==============================] - 7s 15ms/step - loss: 1.1476 - accuracy: 0.6018 - val_loss: 1.3693 - val_accuracy: 0.5398\n",
            "Epoch 6/15\n",
            "422/422 [==============================] - 6s 13ms/step - loss: 1.0339 - accuracy: 0.6455 - val_loss: 1.4424 - val_accuracy: 0.5357\n",
            "Epoch 7/15\n",
            "422/422 [==============================] - 5s 12ms/step - loss: 0.9321 - accuracy: 0.6817 - val_loss: 1.3862 - val_accuracy: 0.5637\n",
            "Epoch 8/15\n",
            "422/422 [==============================] - 5s 12ms/step - loss: 0.8282 - accuracy: 0.7191 - val_loss: 1.4947 - val_accuracy: 0.5567\n",
            "Epoch 9/15\n",
            "422/422 [==============================] - 6s 13ms/step - loss: 0.7146 - accuracy: 0.7602 - val_loss: 1.5937 - val_accuracy: 0.5663\n",
            "Epoch 10/15\n",
            "422/422 [==============================] - 5s 12ms/step - loss: 0.6407 - accuracy: 0.7899 - val_loss: 1.7208 - val_accuracy: 0.5587\n",
            "Epoch 11/15\n",
            "422/422 [==============================] - 5s 12ms/step - loss: 0.5415 - accuracy: 0.8246 - val_loss: 2.0451 - val_accuracy: 0.5420\n",
            "Epoch 12/15\n",
            "422/422 [==============================] - 5s 12ms/step - loss: 0.4950 - accuracy: 0.8427 - val_loss: 1.9900 - val_accuracy: 0.5562\n",
            "Epoch 13/15\n",
            "422/422 [==============================] - 5s 12ms/step - loss: 0.4404 - accuracy: 0.8670 - val_loss: 2.1258 - val_accuracy: 0.5587\n",
            "Epoch 14/15\n",
            "422/422 [==============================] - 6s 13ms/step - loss: 0.4058 - accuracy: 0.8778 - val_loss: 2.2423 - val_accuracy: 0.5571\n",
            "Epoch 15/15\n",
            "422/422 [==============================] - 6s 14ms/step - loss: 0.3735 - accuracy: 0.8895 - val_loss: 2.3641 - val_accuracy: 0.5587\n",
            "running time is 2.38 minutes\n"
          ]
        }
      ]
    },
    {
      "cell_type": "code",
      "source": [
        "drawplot(\"2CONV+l2 with 75%data\",L275)"
      ],
      "metadata": {
        "colab": {
          "base_uri": "https://localhost:8080/",
          "height": 295
        },
        "id": "MDDgY_kn2tit",
        "outputId": "281a776b-80a3-4f70-8d55-5abd0cf25daf"
      },
      "execution_count": null,
      "outputs": [
        {
          "output_type": "display_data",
          "data": {
            "image/png": "[encoded data removed]",
            "text/plain": [
              "<Figure size 432x288 with 1 Axes>"
            ]
          },
          "metadata": {
            "needs_background": "light"
          }
        }
      ]
    },
    {
      "cell_type": "code",
      "source": [
        "L2100=L2()"
      ],
      "metadata": {
        "colab": {
          "base_uri": "https://localhost:8080/"
        },
        "id": "hsbP-X6_4ErD",
        "outputId": "e4b45ce7-ae71-481e-b90a-80425b3615df"
      },
      "execution_count": null,
      "outputs": [
        {
          "output_type": "stream",
          "name": "stdout",
          "text": [
            "Model: \"sequential_7\"\n",
            "_________________________________________________________________\n",
            " Layer (type)                Output Shape              Param #   \n",
            "=================================================================\n",
            " conv2d_14 (Conv2D)          (None, 30, 30, 64)        1792      \n",
            "                                                                 \n",
            " max_pooling2d_14 (MaxPoolin  (None, 15, 15, 64)       0         \n",
            " g2D)                                                            \n",
            "                                                                 \n",
            " conv2d_15 (Conv2D)          (None, 13, 13, 64)        36928     \n",
            "                                                                 \n",
            " max_pooling2d_15 (MaxPoolin  (None, 6, 6, 64)         0         \n",
            " g2D)                                                            \n",
            "                                                                 \n",
            " flatten_7 (Flatten)         (None, 2304)              0         \n",
            "                                                                 \n",
            " dense_14 (Dense)            (None, 128)               295040    \n",
            "                                                                 \n",
            " dense_15 (Dense)            (None, 10)                1290      \n",
            "                                                                 \n",
            "=================================================================\n",
            "Total params: 335,050\n",
            "Trainable params: 335,050\n",
            "Non-trainable params: 0\n",
            "_________________________________________________________________\n",
            "Epoch 1/15\n",
            "563/563 [==============================] - 8s 14ms/step - loss: 2.6479 - accuracy: 0.3153 - val_loss: 1.6052 - val_accuracy: 0.4136\n",
            "Epoch 2/15\n",
            "563/563 [==============================] - 7s 12ms/step - loss: 1.5395 - accuracy: 0.4495 - val_loss: 1.4537 - val_accuracy: 0.4870\n",
            "Epoch 3/15\n",
            "563/563 [==============================] - 7s 12ms/step - loss: 1.3368 - accuracy: 0.5303 - val_loss: 1.4337 - val_accuracy: 0.5134\n",
            "Epoch 4/15\n",
            "563/563 [==============================] - 7s 12ms/step - loss: 1.1804 - accuracy: 0.5907 - val_loss: 1.2843 - val_accuracy: 0.5678\n",
            "Epoch 5/15\n",
            "563/563 [==============================] - 6s 11ms/step - loss: 1.0504 - accuracy: 0.6417 - val_loss: 1.2139 - val_accuracy: 0.5978\n",
            "Epoch 6/15\n",
            "563/563 [==============================] - 6s 11ms/step - loss: 0.9231 - accuracy: 0.6864 - val_loss: 1.1925 - val_accuracy: 0.6153\n",
            "Epoch 7/15\n",
            "563/563 [==============================] - 7s 12ms/step - loss: 0.8211 - accuracy: 0.7244 - val_loss: 1.2954 - val_accuracy: 0.6013\n",
            "Epoch 8/15\n",
            "563/563 [==============================] - 7s 12ms/step - loss: 0.7197 - accuracy: 0.7602 - val_loss: 1.3120 - val_accuracy: 0.6226\n",
            "Epoch 9/15\n",
            "563/563 [==============================] - 7s 12ms/step - loss: 0.6354 - accuracy: 0.7928 - val_loss: 1.3781 - val_accuracy: 0.6219\n",
            "Epoch 10/15\n",
            "563/563 [==============================] - 6s 11ms/step - loss: 0.5599 - accuracy: 0.8179 - val_loss: 1.5034 - val_accuracy: 0.6236\n",
            "Epoch 11/15\n",
            "563/563 [==============================] - 6s 12ms/step - loss: 0.4817 - accuracy: 0.8470 - val_loss: 1.6558 - val_accuracy: 0.6077\n",
            "Epoch 12/15\n",
            "563/563 [==============================] - 7s 12ms/step - loss: 0.4352 - accuracy: 0.8685 - val_loss: 1.7001 - val_accuracy: 0.6209\n",
            "Epoch 13/15\n",
            "563/563 [==============================] - 6s 11ms/step - loss: 0.4112 - accuracy: 0.8781 - val_loss: 1.8821 - val_accuracy: 0.6138\n",
            "Epoch 14/15\n",
            "563/563 [==============================] - 7s 12ms/step - loss: 0.3791 - accuracy: 0.8923 - val_loss: 1.9241 - val_accuracy: 0.6063\n",
            "Epoch 15/15\n",
            "563/563 [==============================] - 7s 12ms/step - loss: 0.3473 - accuracy: 0.9061 - val_loss: 2.2944 - val_accuracy: 0.5894\n",
            "running time is 2.38 minutes\n"
          ]
        }
      ]
    },
    {
      "cell_type": "code",
      "source": [
        "drawplot(\"2layer-CONV with L2 and 100%data\",L2100)"
      ],
      "metadata": {
        "colab": {
          "base_uri": "https://localhost:8080/",
          "height": 295
        },
        "id": "LCfeiAAqG6sc",
        "outputId": "e39af85c-d99d-45f7-aff3-3843d800021b"
      },
      "execution_count": null,
      "outputs": [
        {
          "output_type": "display_data",
          "data": {
            "image/png": "[encoded data removed]",
            "text/plain": [
              "<Figure size 432x288 with 1 Axes>"
            ]
          },
          "metadata": {
            "needs_background": "light"
          }
        }
      ]
    }
  ]
}